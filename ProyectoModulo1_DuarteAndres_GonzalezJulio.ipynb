{
 "cells": [
  {
   "cell_type": "markdown",
   "metadata": {},
   "source": [
    "\n",
    "\n",
    "# Proyecto Módulo 2"
   ]
  },
  {
   "cell_type": "markdown",
   "metadata": {},
   "source": [
    "## Reporte para aseguradoras \n",
    "> Integrantes: \n",
    "    - Andres Duarte \n",
    "    - Julio Gonzalez"
   ]
  },
  {
   "cell_type": "markdown",
   "metadata": {},
   "source": [
    "### Link repositorio \n",
    "> **Hint**: Explore the command `Repositorio` [link](https://github.com/Julio99olaf/ProyectoModulo1)"
   ]
  },
  {
   "cell_type": "markdown",
   "metadata": {},
   "source": [
    "###  Accidentes Reino Unido\n",
    "\n",
    "\n",
    "### 1.2 Objetivos.\n",
    "> #### 1.1 Objetivo general.\n",
    ">  - Presentar información útil sobre los accidentes viales a una aseguradora en el Reino Unido para en base a eso, realizar el cálculo de la prima óptima\n",
    "> #### 1.2 Objetivos específicos\n",
    ">  - Seleccionar variables pertinentes a los asegurados, como edad del afectado y tipo de vehículo afectado en el accidente.\n",
    ">  - Lograr una buena estimación de las variables elegidas.\n",
    ">  - Definir qué datos son para un seguro de vida, de autmóvil o de gastos médicos.\n",
    "\n",
    "\n",
    "### 1.3 Definición del problema. Julio\n",
    "\n",
    "En este proyecto se plantea el problema a una aseguradora en el Reino Unido, en donde le presentaremos una simulación de los accidentes para el próximo año, donde tomaremos una variable independiente que en nuestro caso será el clima. Nuestro hipotesis es que dependiendo el clima que hay en las ciudades es el número de accidentes que ocurren en la región. En las simulaciones veremos que dependiente el tiempo de clima que haya, veremos qué tipo de vehículos que son los afectados, edad de las personas afectadas, y de quien es el vehículo más afectado. \n",
    "De esta forma la plantearemos estos escenarios a las asegundaras para que puedan planear un plan de seguro adecuado para así minimizar gastos y poder anticiparlos. \n",
    "Tenemos el hipo tesis que en clima lluvioso es cuando mayormente ocurren los accidentes. De comprobar la hipoteis las aseguradoras deberán estar prevenidas para poder costear los gastos de los accidentes en época de lluvia. También veremos escenarios para ver qué edad tienen las personas más afectadas en los accidentes para los seguros de vida se adecuan ante dicho problema. \n",
    "De esta forma vemos varias situaciones en donde podemos implementar los aprendizajes en clase para poder estimar los escenarios futuros para que las aseguradoras puedan prevenir los gastos en base a los datos históricos del año anterior.\n",
    "\n",
    "### 1.4 Nodos y variables que se decidieron simular y porqué\n",
    "\n",
    "\n",
    "Nosotros simularemos el clima, la edad de los afectados, tipo de vehículo afectado, y quién de el vehículo fue afectado (conductor, pasajero o si no hay vehículo, peatón).\n",
    "Iremos  dejando fijas diferentes variables a lo largo de nuestras simulaciones para ver cómo se comportan unas en base a que las otras estén estáticas. La idea es diseñar seguros en base a probabilidades, entonces veremos diferentes condiciones. Podemos dejar fijo el clima y ver qué edades son más propensas a estar involucradas en un accidente, o dejar fijas las demás variables y ver si es más probable que los accidentados hayan ido en motocicleta. Estas diferentes simulaciones nos darán una idea de quién es más probable que se accidente, o de qué zonas geográficas (las que tengan el clima donde sucedan la mayor parte de los accidentes), es donde habrán más accidentes, por decir algo."
   ]
  },
  {
   "cell_type": "code",
   "execution_count": 217,
   "metadata": {},
   "outputs": [
    {
     "data": {
      "image/png": "[encoded data removed]",
      "text/plain": [
       "<IPython.core.display.Image object>"
      ]
     },
     "execution_count": 217,
     "metadata": {},
     "output_type": "execute_result"
    }
   ],
   "source": [
    "from IPython.display import Image\n",
    "Image(\"Diagrama nodo.png\")"
   ]
  },
  {
   "cell_type": "markdown",
   "metadata": {},
   "source": [
    "### 1.5 Definición de hipótesis y supuestos.\n",
    "\n",
    "Supuestos:\n",
    "- Los accidentes son independientes, cada uno sucedió por separado, se da por hecho que no se están mostrando diferentes partes del mismo accidente como accidentes separados.\n",
    "- Como tenemos muchas muestras, trataremos de tomar o aproximar la distribución de los datos a una normal\n",
    "\n",
    "Hipótesis:\n",
    "- De los climas adversos, la lluvia representa una mayor probabilidad de tener un accidente.\n",
    "- Los conductores de automóvil de menor edad, son los más accidentados\n",
    "- El uso de motocicleta tiene un mayor riesgo de accidentarse asociado\n",
    "\n",
    "### 1.6 Obtención de bases de datos\n",
    "\n",
    "\n",
    "Nostros sacamos el data set de la página de bases de datos del gobierno de Reino Unido, en la que había una opción para filtrar los datos en base a lo que buscaras. Escogimos las 4 variables mencionadas arriba y las filtramos para que nos diera directamente un csv con lo que vamos a analizar. Agarramos el año 2019 para realizar nuestras simulaciones. \n",
    "\n",
    "En un reporte publicado por el departamento de transporte del Reino Unido, venía el número de afectados por choques en 2019, teníamos estadísticas condensadas. Las estadísticas no incluyen accidentes en propiedad privada ni accidentes con afectaciones por daño solamente. Este artículo está relacionado con el data set que vamos a utilizar y nos puede servir como guía para ver las variables y el comportamiento de los accidentes en general, desde antes de empezar a limpiar nuestros datos.\n"
   ]
  },
  {
   "cell_type": "code",
   "execution_count": 218,
   "metadata": {},
   "outputs": [],
   "source": [
    "#Libreiras \n",
    "import numpy as np\n",
    "from sklearn.neighbors import KernelDensity\n",
    "from scipy.stats import gaussian_kde\n",
    "from statsmodels.nonparametric.kde import KDEUnivariate\n",
    "from statsmodels.nonparametric.kernel_density import KDEMultivariate\n",
    "%matplotlib inline\n",
    "import numpy as np\n",
    "import matplotlib.pyplot as plt\n",
    "from scipy import optimize\n",
    "import scipy.stats as st     # Librería estadística"
   ]
  },
  {
   "cell_type": "code",
   "execution_count": 219,
   "metadata": {},
   "outputs": [],
   "source": [
    "#Definimos una función para analizar los datos que tenemos y darnos una idea de los mismos. (Data Quality Report)\n",
    "def dqr(data): #Data Quality Report\n",
    "        #%%Lista de variables de la base de datos\n",
    "        import pandas as pd\n",
    "        columns = pd.DataFrame(list(data.columns.values),\n",
    "                               columns = [\"Nombres\"],\n",
    "                               index= list(data.columns.values))\n",
    "        #%%Lista de tipos de datos\n",
    "        data_types = pd.DataFrame(data.dtypes,columns = [\"Data_Types\"])\n",
    "        #%%Lista de tipos de datos perdidos\n",
    "        missing_values = pd.DataFrame(data.isnull().sum(),\n",
    "                                      columns = [\"Missing_Values\"])\n",
    "        #%%Lista de datos presentes\n",
    "        present_values = pd.DataFrame(data.count(),\n",
    "                                      columns = [\"Present_Values\"])\n",
    "        #%%Lista de valores unicos\n",
    "        unique_values = pd.DataFrame(columns = [\"Unique_Values\"])\n",
    "        for col in list(data.columns.values):\n",
    "            unique_values.loc[col] = [data[col].nunique()]\n",
    "        #%% lista de valores mínimos\n",
    "        min_values = pd.DataFrame(columns =[\"Min\"])\n",
    "        for col in list(data.columns.values):\n",
    "            try:\n",
    "                min_values.loc[col] = [data[col].min()]\n",
    "            except:\n",
    "                pass\n",
    "        #%% lista de valores máximos\n",
    "        max_values = pd.DataFrame(columns =[\"Max\"])\n",
    "        \n",
    "        \n",
    "        for col in list(data.columns.values):\n",
    "            try:\n",
    "                max_values.loc[col] = [data[col].max()]\n",
    "            except:\n",
    "                pass\n",
    "        #%% Juntar todas las tablas\n",
    "        return columns.join(data_types).join(missing_values).join(present_values).join(unique_values).join(min_values).join(max_values)\n",
    "    # Reemplazar texto\n",
    "def replace_text(x,to_replace,replacement):\n",
    "    try:\n",
    "        x = x.replace(to_replace,replacement)\n",
    "    except:\n",
    "        pass\n",
    "    return x"
   ]
  },
  {
   "cell_type": "code",
   "execution_count": 220,
   "metadata": {},
   "outputs": [],
   "source": [
    "def Gen_distr_discreta(U:'vector de números aleatorios',\n",
    "                       p_acum: 'P.Acumulada de la distribución a generar'):\n",
    "    '''Tener en cuenta que este arreglo cuenta números empezando del 0'''\n",
    "    v = np.array(list(map(lambda j:sum(1 for i in p_acum if i<U[j]),range(N))))\n",
    "    return v\n",
    "\n",
    "def plot_histogram_discrete(distribucion:'señal de varibles aleatorias de un distribución DISCRETA dada',\n",
    "                            xlabel:'eje x',\n",
    "                            ylabel:'eje y',\n",
    "                            title:'Título gráfica'):\n",
    "    # len(set(distribucion)) cuenta la cantidad de elementos distintos de la variable 'distribucion'\n",
    "    plt.figure(figsize=[8,4])\n",
    "    y,x = np.histogram(distribucion,bins = len(set(distribucion))) \n",
    "    plt.bar(list(set(distribucion)),y)\n",
    "    plt.xlabel(xlabel)\n",
    "    plt.ylabel(ylabel)\n",
    "    plt.title(title)\n",
    "    plt.show()\n",
    "    \n",
    "def kde_statsmodels_m(x, x_grid, bandwidth=0.2, **kwargs):\n",
    "    \"\"\"Multivariate Kernel Density Estimation with Statsmodels\"\"\"\n",
    "    kde = KDEMultivariate(x, \n",
    "                          bw='cv_ml',  #bandwidth * np.ones_like(x),\n",
    "                          var_type='u', **kwargs)\n",
    "    return kde.pdf(x_grid)\n",
    "\n",
    "def muestreo_est(B: 'Número de estratos'):\n",
    "    '''Esta función realiza el método de muestro estratíficado para un número de estratos dados'''\n",
    "    u= np.random.uniform(B) #generar B valores aleatorios con distribución uniforme\n",
    "    i=np.arange(0,B) \n",
    "    v = (u+i)/B #aplicar estratificación\n",
    "    return v\n",
    "# Función de aceptación y rechazo usando compresión de listas\n",
    "def Acep_rechazo(R2:'Variables distruidas U~U(0,1)',\n",
    "                 R1:'Variables distribuidas como g(x)',\n",
    "                 f:'función objetivo a generar',\n",
    "                 t:'función que mayora a f'):\n",
    "#     R1 = np.random.rand(N)\n",
    "    f_x = f(R1)\n",
    "    t_x = t(R1)\n",
    "    condition = R2*t_x <= f_x\n",
    "    [plt.plot(R1[i],R2[i]*t_x[i],'ob') if condition[i] else plt.plot(R1[i],R2[i]*t_x[i],'o') \\\n",
    "         for i in range(len(R1))]                \n",
    "    plt.show()"
   ]
  },
  {
   "cell_type": "code",
   "execution_count": 221,
   "metadata": {},
   "outputs": [
    {
     "data": {
      "text/html": [
       "<div>\n",
       "<style scoped>\n",
       "    .dataframe tbody tr th:only-of-type {\n",
       "        vertical-align: middle;\n",
       "    }\n",
       "\n",
       "    .dataframe tbody tr th {\n",
       "        vertical-align: top;\n",
       "    }\n",
       "\n",
       "    .dataframe thead th {\n",
       "        text-align: right;\n",
       "    }\n",
       "</style>\n",
       "<table border=\"1\" class=\"dataframe\">\n",
       "  <thead>\n",
       "    <tr style=\"text-align: right;\">\n",
       "      <th></th>\n",
       "      <th>Accident year</th>\n",
       "      <th>Road user</th>\n",
       "      <th>Casualty class</th>\n",
       "      <th>Casualty age</th>\n",
       "      <th>Weather condition</th>\n",
       "      <th>All casualties</th>\n",
       "    </tr>\n",
       "  </thead>\n",
       "  <tbody>\n",
       "    <tr>\n",
       "      <td>0</td>\n",
       "      <td>2019</td>\n",
       "      <td>Pedestrian</td>\n",
       "      <td>Pedestrian</td>\n",
       "      <td>Unknown or missing</td>\n",
       "      <td>Unknown</td>\n",
       "      <td>60</td>\n",
       "    </tr>\n",
       "    <tr>\n",
       "      <td>1</td>\n",
       "      <td>2019</td>\n",
       "      <td>Pedestrian</td>\n",
       "      <td>Pedestrian</td>\n",
       "      <td>Unknown or missing</td>\n",
       "      <td>Fine no high winds</td>\n",
       "      <td>283</td>\n",
       "    </tr>\n",
       "    <tr>\n",
       "      <td>2</td>\n",
       "      <td>2019</td>\n",
       "      <td>Pedestrian</td>\n",
       "      <td>Pedestrian</td>\n",
       "      <td>Unknown or missing</td>\n",
       "      <td>Raining no high winds</td>\n",
       "      <td>37</td>\n",
       "    </tr>\n",
       "    <tr>\n",
       "      <td>3</td>\n",
       "      <td>2019</td>\n",
       "      <td>Pedestrian</td>\n",
       "      <td>Pedestrian</td>\n",
       "      <td>Unknown or missing</td>\n",
       "      <td>Snowing no high winds</td>\n",
       "      <td>1</td>\n",
       "    </tr>\n",
       "    <tr>\n",
       "      <td>4</td>\n",
       "      <td>2019</td>\n",
       "      <td>Pedestrian</td>\n",
       "      <td>Pedestrian</td>\n",
       "      <td>Unknown or missing</td>\n",
       "      <td>Fine + high winds</td>\n",
       "      <td>2</td>\n",
       "    </tr>\n",
       "  </tbody>\n",
       "</table>\n",
       "</div>"
      ],
      "text/plain": [
       "   Accident year   Road user Casualty class        Casualty age  \\\n",
       "0           2019  Pedestrian     Pedestrian  Unknown or missing   \n",
       "1           2019  Pedestrian     Pedestrian  Unknown or missing   \n",
       "2           2019  Pedestrian     Pedestrian  Unknown or missing   \n",
       "3           2019  Pedestrian     Pedestrian  Unknown or missing   \n",
       "4           2019  Pedestrian     Pedestrian  Unknown or missing   \n",
       "\n",
       "       Weather condition  All casualties  \n",
       "0                Unknown              60  \n",
       "1     Fine no high winds             283  \n",
       "2  Raining no high winds              37  \n",
       "3  Snowing no high winds               1  \n",
       "4      Fine + high winds               2  "
      ]
     },
     "execution_count": 221,
     "metadata": {},
     "output_type": "execute_result"
    }
   ],
   "source": [
    "# Importar pandas\n",
    "import pandas as pd\n",
    "# Importar los datos\n",
    "tips_data = 'accidents_all.csv'\n",
    "tipsd=pd.read_csv(tips_data)\n",
    "# Utilizar el método head() para ver las primeras 5 filas de los datos\n",
    "tipsd.head()"
   ]
  },
  {
   "cell_type": "code",
   "execution_count": 222,
   "metadata": {},
   "outputs": [
    {
     "data": {
      "text/html": [
       "<div>\n",
       "<style scoped>\n",
       "    .dataframe tbody tr th:only-of-type {\n",
       "        vertical-align: middle;\n",
       "    }\n",
       "\n",
       "    .dataframe tbody tr th {\n",
       "        vertical-align: top;\n",
       "    }\n",
       "\n",
       "    .dataframe thead th {\n",
       "        text-align: right;\n",
       "    }\n",
       "</style>\n",
       "<table border=\"1\" class=\"dataframe\">\n",
       "  <thead>\n",
       "    <tr style=\"text-align: right;\">\n",
       "      <th></th>\n",
       "      <th>Nombres</th>\n",
       "      <th>Data_Types</th>\n",
       "      <th>Missing_Values</th>\n",
       "      <th>Present_Values</th>\n",
       "      <th>Unique_Values</th>\n",
       "      <th>Min</th>\n",
       "      <th>Max</th>\n",
       "    </tr>\n",
       "  </thead>\n",
       "  <tbody>\n",
       "    <tr>\n",
       "      <td>Accident year</td>\n",
       "      <td>Accident year</td>\n",
       "      <td>int64</td>\n",
       "      <td>0</td>\n",
       "      <td>4314</td>\n",
       "      <td>1</td>\n",
       "      <td>2019</td>\n",
       "      <td>2019</td>\n",
       "    </tr>\n",
       "    <tr>\n",
       "      <td>Road user</td>\n",
       "      <td>Road user</td>\n",
       "      <td>object</td>\n",
       "      <td>0</td>\n",
       "      <td>4314</td>\n",
       "      <td>8</td>\n",
       "      <td>Bus or coach</td>\n",
       "      <td>Van / Goods 3.5 tonnes mgw or under</td>\n",
       "    </tr>\n",
       "    <tr>\n",
       "      <td>Casualty class</td>\n",
       "      <td>Casualty class</td>\n",
       "      <td>object</td>\n",
       "      <td>0</td>\n",
       "      <td>4314</td>\n",
       "      <td>3</td>\n",
       "      <td>Driver or rider</td>\n",
       "      <td>Pedestrian</td>\n",
       "    </tr>\n",
       "    <tr>\n",
       "      <td>Casualty age</td>\n",
       "      <td>Casualty age</td>\n",
       "      <td>object</td>\n",
       "      <td>0</td>\n",
       "      <td>4314</td>\n",
       "      <td>103</td>\n",
       "      <td>0</td>\n",
       "      <td>Unknown or missing</td>\n",
       "    </tr>\n",
       "    <tr>\n",
       "      <td>Weather condition</td>\n",
       "      <td>Weather condition</td>\n",
       "      <td>object</td>\n",
       "      <td>0</td>\n",
       "      <td>4314</td>\n",
       "      <td>9</td>\n",
       "      <td>Fine + high winds</td>\n",
       "      <td>Unknown</td>\n",
       "    </tr>\n",
       "    <tr>\n",
       "      <td>All casualties</td>\n",
       "      <td>All casualties</td>\n",
       "      <td>int64</td>\n",
       "      <td>0</td>\n",
       "      <td>4314</td>\n",
       "      <td>339</td>\n",
       "      <td>1</td>\n",
       "      <td>1253</td>\n",
       "    </tr>\n",
       "  </tbody>\n",
       "</table>\n",
       "</div>"
      ],
      "text/plain": [
       "                             Nombres Data_Types  Missing_Values  \\\n",
       "Accident year          Accident year      int64               0   \n",
       "Road user                  Road user     object               0   \n",
       "Casualty class        Casualty class     object               0   \n",
       "Casualty age            Casualty age     object               0   \n",
       "Weather condition  Weather condition     object               0   \n",
       "All casualties        All casualties      int64               0   \n",
       "\n",
       "                   Present_Values Unique_Values                Min  \\\n",
       "Accident year                4314             1               2019   \n",
       "Road user                    4314             8       Bus or coach   \n",
       "Casualty class               4314             3    Driver or rider   \n",
       "Casualty age                 4314           103                  0   \n",
       "Weather condition            4314             9  Fine + high winds   \n",
       "All casualties               4314           339                  1   \n",
       "\n",
       "                                                   Max  \n",
       "Accident year                                     2019  \n",
       "Road user          Van / Goods 3.5 tonnes mgw or under  \n",
       "Casualty class                              Pedestrian  \n",
       "Casualty age                        Unknown or missing  \n",
       "Weather condition                              Unknown  \n",
       "All casualties                                    1253  "
      ]
     },
     "execution_count": 222,
     "metadata": {},
     "output_type": "execute_result"
    }
   ],
   "source": [
    "reporte = dqr(tipsd)\n",
    "reporte"
   ]
  },
  {
   "cell_type": "markdown",
   "metadata": {},
   "source": [
    "Este reporte nos indica que contamos con todos los datos de nuestras vaiables, que nuestra variable de road user cuenta con 8 varaibles diferentes que son 8 diferentes tipos de vehiculos, despues vemos que nuestra variable de casualty class tiene tres diferentes valores las cuales nos indica que solo hay tres tipos de personas afectada que iban en el vehiculo y tenemos 103 edades diferentes "
   ]
  },
  {
   "cell_type": "markdown",
   "metadata": {},
   "source": [
    "## Nodo 1 (Clima)"
   ]
  },
  {
   "cell_type": "markdown",
   "metadata": {},
   "source": [
    "- Para empezar con nuestro proyecto analizaremos nuestra variable independiente que es el clima donde primero analizaremos cuales son los diferentes tipos de clima que presenta nuesto problema .\n"
   ]
  },
  {
   "cell_type": "code",
   "execution_count": 223,
   "metadata": {},
   "outputs": [
    {
     "data": {
      "text/plain": [
       "array(['Unknown', 'Fine no high winds', 'Raining no high winds',\n",
       "       'Snowing no high winds', 'Fine + high winds',\n",
       "       'Raining + high winds', 'Other', 'Fog or mist',\n",
       "       'Snowing + high winds'], dtype=object)"
      ]
     },
     "execution_count": 223,
     "metadata": {},
     "output_type": "execute_result"
    }
   ],
   "source": [
    "tipsd.iloc[:,4].unique()"
   ]
  },
  {
   "cell_type": "markdown",
   "metadata": {},
   "source": [
    "- Podemos ver que tenemos 9 climas diferentes en donde se nos presetan un clima \"Unkown\" y \"Other\" los cuales los tomaremos como un clima desconocido o que no se tuvo registro de ellos"
   ]
  },
  {
   "cell_type": "markdown",
   "metadata": {},
   "source": [
    "Para mayor practicidad en el manejo de los datos sustituiremos los valores del clima por numeros, la cual nos quedaria de la siguiente manera: \n",
    "- Unknown = 0\n",
    "- Fine no high winds = 1\n",
    "- Raining no high winds = 2\n",
    "- Snowing no high winds = 3\n",
    "- Fine + high winds = 4\n",
    "- Raining + high winds = 5\n",
    "- Other = 0\n",
    "- Fog or mist = 6\n",
    "- Snowing + high winds = 7\n",
    "\n",
    "Donde Unknown y other lo tomaremos como una misma varibale ya que no se conoce el tipo de clima que habia en esos accidentes. "
   ]
  },
  {
   "cell_type": "code",
   "execution_count": 224,
   "metadata": {},
   "outputs": [
    {
     "data": {
      "text/html": [
       "<div>\n",
       "<style scoped>\n",
       "    .dataframe tbody tr th:only-of-type {\n",
       "        vertical-align: middle;\n",
       "    }\n",
       "\n",
       "    .dataframe tbody tr th {\n",
       "        vertical-align: top;\n",
       "    }\n",
       "\n",
       "    .dataframe thead th {\n",
       "        text-align: right;\n",
       "    }\n",
       "</style>\n",
       "<table border=\"1\" class=\"dataframe\">\n",
       "  <thead>\n",
       "    <tr style=\"text-align: right;\">\n",
       "      <th></th>\n",
       "      <th>Accident year</th>\n",
       "      <th>Road user</th>\n",
       "      <th>Casualty class</th>\n",
       "      <th>Casualty age</th>\n",
       "      <th>Weather_condition</th>\n",
       "      <th>All casualties</th>\n",
       "    </tr>\n",
       "  </thead>\n",
       "  <tbody>\n",
       "    <tr>\n",
       "      <td>0</td>\n",
       "      <td>2019</td>\n",
       "      <td>Pedestrian</td>\n",
       "      <td>Pedestrian</td>\n",
       "      <td>Unknown or missing</td>\n",
       "      <td>0</td>\n",
       "      <td>60</td>\n",
       "    </tr>\n",
       "    <tr>\n",
       "      <td>1</td>\n",
       "      <td>2019</td>\n",
       "      <td>Pedestrian</td>\n",
       "      <td>Pedestrian</td>\n",
       "      <td>Unknown or missing</td>\n",
       "      <td>1</td>\n",
       "      <td>283</td>\n",
       "    </tr>\n",
       "    <tr>\n",
       "      <td>2</td>\n",
       "      <td>2019</td>\n",
       "      <td>Pedestrian</td>\n",
       "      <td>Pedestrian</td>\n",
       "      <td>Unknown or missing</td>\n",
       "      <td>2</td>\n",
       "      <td>37</td>\n",
       "    </tr>\n",
       "    <tr>\n",
       "      <td>3</td>\n",
       "      <td>2019</td>\n",
       "      <td>Pedestrian</td>\n",
       "      <td>Pedestrian</td>\n",
       "      <td>Unknown or missing</td>\n",
       "      <td>3</td>\n",
       "      <td>1</td>\n",
       "    </tr>\n",
       "    <tr>\n",
       "      <td>4</td>\n",
       "      <td>2019</td>\n",
       "      <td>Pedestrian</td>\n",
       "      <td>Pedestrian</td>\n",
       "      <td>Unknown or missing</td>\n",
       "      <td>4</td>\n",
       "      <td>2</td>\n",
       "    </tr>\n",
       "    <tr>\n",
       "      <td>...</td>\n",
       "      <td>...</td>\n",
       "      <td>...</td>\n",
       "      <td>...</td>\n",
       "      <td>...</td>\n",
       "      <td>...</td>\n",
       "      <td>...</td>\n",
       "    </tr>\n",
       "    <tr>\n",
       "      <td>4309</td>\n",
       "      <td>2019</td>\n",
       "      <td>Other vehicle</td>\n",
       "      <td>Passenger</td>\n",
       "      <td>75</td>\n",
       "      <td>1</td>\n",
       "      <td>2</td>\n",
       "    </tr>\n",
       "    <tr>\n",
       "      <td>4310</td>\n",
       "      <td>2019</td>\n",
       "      <td>Other vehicle</td>\n",
       "      <td>Passenger</td>\n",
       "      <td>79</td>\n",
       "      <td>1</td>\n",
       "      <td>2</td>\n",
       "    </tr>\n",
       "    <tr>\n",
       "      <td>4311</td>\n",
       "      <td>2019</td>\n",
       "      <td>Other vehicle</td>\n",
       "      <td>Passenger</td>\n",
       "      <td>80</td>\n",
       "      <td>1</td>\n",
       "      <td>1</td>\n",
       "    </tr>\n",
       "    <tr>\n",
       "      <td>4312</td>\n",
       "      <td>2019</td>\n",
       "      <td>Other vehicle</td>\n",
       "      <td>Passenger</td>\n",
       "      <td>85</td>\n",
       "      <td>2</td>\n",
       "      <td>1</td>\n",
       "    </tr>\n",
       "    <tr>\n",
       "      <td>4313</td>\n",
       "      <td>2019</td>\n",
       "      <td>Other vehicle</td>\n",
       "      <td>Passenger</td>\n",
       "      <td>94</td>\n",
       "      <td>1</td>\n",
       "      <td>1</td>\n",
       "    </tr>\n",
       "  </tbody>\n",
       "</table>\n",
       "<p>4314 rows × 6 columns</p>\n",
       "</div>"
      ],
      "text/plain": [
       "      Accident year      Road user Casualty class        Casualty age  \\\n",
       "0              2019     Pedestrian     Pedestrian  Unknown or missing   \n",
       "1              2019     Pedestrian     Pedestrian  Unknown or missing   \n",
       "2              2019     Pedestrian     Pedestrian  Unknown or missing   \n",
       "3              2019     Pedestrian     Pedestrian  Unknown or missing   \n",
       "4              2019     Pedestrian     Pedestrian  Unknown or missing   \n",
       "...             ...            ...            ...                 ...   \n",
       "4309           2019  Other vehicle      Passenger                  75   \n",
       "4310           2019  Other vehicle      Passenger                  79   \n",
       "4311           2019  Other vehicle      Passenger                  80   \n",
       "4312           2019  Other vehicle      Passenger                  85   \n",
       "4313           2019  Other vehicle      Passenger                  94   \n",
       "\n",
       "      Weather_condition  All casualties  \n",
       "0                     0              60  \n",
       "1                     1             283  \n",
       "2                     2              37  \n",
       "3                     3               1  \n",
       "4                     4               2  \n",
       "...                 ...             ...  \n",
       "4309                  1               2  \n",
       "4310                  1               2  \n",
       "4311                  1               1  \n",
       "4312                  2               1  \n",
       "4313                  1               1  \n",
       "\n",
       "[4314 rows x 6 columns]"
      ]
     },
     "execution_count": 224,
     "metadata": {},
     "output_type": "execute_result"
    }
   ],
   "source": [
    "tipsd=tipsd.rename(columns = {\"Weather condition\":\"Weather_condition\"})\n",
    "tipsd.Weather_condition= tipsd.Weather_condition.apply(replace_text,args=('Unknown','0'))\n",
    "tipsd.Weather_condition= tipsd.Weather_condition.apply(replace_text,args=('Other','0'))\n",
    "tipsd.Weather_condition= tipsd.Weather_condition.apply(replace_text,args=('Fine no high winds','1'))\n",
    "tipsd.Weather_condition= tipsd.Weather_condition.apply(replace_text,args=('Raining no high winds','2'))\n",
    "tipsd.Weather_condition= tipsd.Weather_condition.apply(replace_text,args=('Snowing no high winds','3'))\n",
    "tipsd.Weather_condition= tipsd.Weather_condition.apply(replace_text,args=('Fine + high winds','4'))\n",
    "tipsd.Weather_condition= tipsd.Weather_condition.apply(replace_text,args=('Raining + high winds','5'))\n",
    "tipsd.Weather_condition= tipsd.Weather_condition.apply(replace_text,args=('Fog or mist','6'))\n",
    "tipsd.Weather_condition= tipsd.Weather_condition.apply(replace_text,args=('Snowing + high winds','7'))\n",
    "tipsd.Weather_condition = pd.to_numeric(tipsd.Weather_condition)\n",
    "tipsd"
   ]
  },
  {
   "cell_type": "code",
   "execution_count": 225,
   "metadata": {},
   "outputs": [
    {
     "data": {
      "text/plain": [
       "array([0, 1, 2, ..., 1, 2, 1], dtype=int64)"
      ]
     },
     "execution_count": 225,
     "metadata": {},
     "output_type": "execute_result"
    }
   ],
   "source": [
    "tipsdclim = np.array(tipsd.iloc[:,4])\n",
    "tipsdclim"
   ]
  },
  {
   "cell_type": "code",
   "execution_count": 226,
   "metadata": {},
   "outputs": [
    {
     "data": {
      "image/png": "[encoded data removed]",
      "text/plain": [
       "<Figure size 576x288 with 1 Axes>"
      ]
     },
     "metadata": {
      "needs_background": "light"
     },
     "output_type": "display_data"
    }
   ],
   "source": [
    "plot_histogram_discrete(tipsdclim,'Tipo de Clima', 'Frecuencia', 'Frecuencia de Climas')"
   ]
  },
  {
   "cell_type": "code",
   "execution_count": 227,
   "metadata": {},
   "outputs": [],
   "source": [
    "tipoclim = np.unique(tipsdclim, return_counts=True)[0]\n",
    "freqclim = np.unique(tipsdclim, return_counts=True)[1]\n",
    "probclim = freqclim/len(tipsdclim)\n"
   ]
  },
  {
   "cell_type": "code",
   "execution_count": 228,
   "metadata": {},
   "outputs": [
    {
     "data": {
      "text/plain": [
       "<BarContainer object of 8 artists>"
      ]
     },
     "execution_count": 228,
     "metadata": {},
     "output_type": "execute_result"
    },
    {
     "data": {
      "image/png": "[encoded data removed]",
      "text/plain": [
       "<Figure size 432x288 with 1 Axes>"
      ]
     },
     "metadata": {
      "needs_background": "light"
     },
     "output_type": "display_data"
    }
   ],
   "source": [
    "plt.bar(tipoclim,probclim)"
   ]
  },
  {
   "cell_type": "code",
   "execution_count": 229,
   "metadata": {},
   "outputs": [
    {
     "data": {
      "text/plain": [
       "array([0, 1, 2, 3, 4, 5, 6, 7])"
      ]
     },
     "execution_count": 229,
     "metadata": {},
     "output_type": "execute_result"
    }
   ],
   "source": [
    "xclim = np.arange(0,8)\n",
    "xclim"
   ]
  },
  {
   "cell_type": "markdown",
   "metadata": {},
   "source": [
    "### Utilizamos Kernel\n",
    "#### - Vamos a generar números aleatorios que distribuyan de la misma forma que nuestra distribución de Probabilidad de Clima"
   ]
  },
  {
   "cell_type": "code",
   "execution_count": 230,
   "metadata": {},
   "outputs": [
    {
     "name": "stderr",
     "output_type": "stream",
     "text": [
      "C:\\Users\\julio\\Anaconda3\\lib\\site-packages\\statsmodels\\nonparametric\\kernel_density.py:161: RuntimeWarning: invalid value encountered in log\n",
      "  L += func(f_i)\n"
     ]
    },
    {
     "data": {
      "image/png": "[encoded data removed]",
      "text/plain": [
       "<Figure size 432x288 with 1 Axes>"
      ]
     },
     "metadata": {
      "needs_background": "light"
     },
     "output_type": "display_data"
    }
   ],
   "source": [
    "kernelclim = kde_statsmodels_m(tipsdclim, xclim, bandwidth=0.2)\n",
    "\n",
    "plt.bar(tipoclim,probclim)\n",
    "plt.plot(xclim, kernelclim)\n",
    "plt.show()"
   ]
  },
  {
   "cell_type": "markdown",
   "metadata": {},
   "source": [
    "### Sacar probabilidad acumulada"
   ]
  },
  {
   "cell_type": "code",
   "execution_count": 231,
   "metadata": {},
   "outputs": [
    {
     "data": {
      "text/plain": [
       "array([0.2431618 , 0.50301344, 0.68497914, 0.73528048, 0.83704219,\n",
       "       0.93555865, 0.98910524, 1.        ])"
      ]
     },
     "execution_count": 231,
     "metadata": {},
     "output_type": "execute_result"
    }
   ],
   "source": [
    "prob_acum=probclim.cumsum()\n",
    "prob_acum"
   ]
  },
  {
   "cell_type": "code",
   "execution_count": 232,
   "metadata": {},
   "outputs": [
    {
     "data": {
      "image/png": "[encoded data removed]",
      "text/plain": [
       "<Figure size 576x288 with 1 Axes>"
      ]
     },
     "metadata": {
      "needs_background": "light"
     },
     "output_type": "display_data"
    }
   ],
   "source": [
    "N = 10**4\n",
    "clim_u = np.random.rand(N)\n",
    "v = Gen_distr_discreta(clim_u, prob_acum)\n",
    "\n",
    "plot_histogram_discrete(v, 'Tipo de Clima', 'Frecuencia', 'Frecuencia de Climas')"
   ]
  },
  {
   "cell_type": "code",
   "execution_count": 233,
   "metadata": {},
   "outputs": [],
   "source": [
    "miu = [tipoclim[i]*probclim[i] for i in range(len(freqclim))]\n",
    "miuu = np.sum(miu)\n",
    "std = np.std(miu, ddof=1)"
   ]
  },
  {
   "cell_type": "markdown",
   "metadata": {},
   "source": [
    "### Reducción de Varianza en nuestra distribución"
   ]
  },
  {
   "cell_type": "code",
   "execution_count": 234,
   "metadata": {},
   "outputs": [
    {
     "data": {
      "text/plain": [
       "3.8144"
      ]
     },
     "execution_count": 234,
     "metadata": {},
     "output_type": "execute_result"
    }
   ],
   "source": [
    "#Estratificado\n",
    "N = 10**4\n",
    "u = muestreo_est(N)\n",
    "funcion = lambda u: Gen_distr_discreta(u, prob_acum)+1\n",
    "media = np.mean(funcion(u))\n",
    "media"
   ]
  },
  {
   "cell_type": "code",
   "execution_count": 235,
   "metadata": {},
   "outputs": [
    {
     "data": {
      "text/plain": [
       "3.08045"
      ]
     },
     "execution_count": 235,
     "metadata": {},
     "output_type": "execute_result"
    }
   ],
   "source": [
    "#Método Complementarios\n",
    "aleat = np.random.rand(N)\n",
    "aleat_comp = 1- aleat\n",
    "a = funcion(aleat)\n",
    "a1 = funcion(aleat_comp)\n",
    "mediacomp = (a.mean() + a1.mean())/2\n",
    "mediacomp"
   ]
  },
  {
   "cell_type": "code",
   "execution_count": 236,
   "metadata": {},
   "outputs": [
    {
     "name": "stdout",
     "output_type": "stream",
     "text": [
      "Con una confianza de 0.95 la media estará en el intervalo t,\n",
      " (2.0435350476598058, 2.110662197466002)\n",
      "Con una confianza de 0.95 la media estará en el intervalo normal,\n",
      " (2.0439452932596405, 2.110251951866167)\n",
      "Media calculada 2.077098622562904\n"
     ]
    }
   ],
   "source": [
    "# Intervalo de confianza \n",
    "np.random.seed(55555)\n",
    "mediai = miuu; sd = std \n",
    "N = 100\n",
    "confianza = 0.95\n",
    "X = np.random.normal(mediai,sd,N)\n",
    "st.sem\n",
    "i1 = st.t.interval(confianza,len(X)-1, loc=np.mean(X), scale=st.sem(X))\n",
    "i2 = st.norm.interval(confianza, loc=np.mean(X), scale=st.sem(X))\n",
    "print('Con una confianza de %2.2f la media estará en el intervalo t,\\n %s' %(confianza,i1))\n",
    "print('Con una confianza de %2.2f la media estará en el intervalo normal,\\n %s' %(confianza,i2))\n",
    "print('Media calculada' ,np.mean(X))"
   ]
  },
  {
   "cell_type": "markdown",
   "metadata": {},
   "source": [
    "### Al nosotros estar trabajando con variables cualitativas (como lo podrían ser un tipo de clima),  podemos deducir que el clima donde se presenta el mayor número de accidentes es el 1 (Fine no high winds), por lo cual, rechazamos que el clima influya en los accidentes ocurridos en UK. Y podemos ver que al generar nosotros números aleatorios que distribuyan igual que la distribución de Probabilidad del Clima, seguimos observando que el clima sin viento y normal, es en donde ocurre la mayor parte de los accidentes. Y con base en la media de los datos nos dice que el clima con mayor número de accidentes es el 2, lo cual matemáticamente es correcto pero nosotros ya sabemos que tratamos variables cualitativas, por lo que no está bien esa media en cuanto a lo que sucede en realidad."
   ]
  },
  {
   "cell_type": "markdown",
   "metadata": {},
   "source": [
    "## Nodo 2 (Tipo de vehículo)"
   ]
  },
  {
   "cell_type": "markdown",
   "metadata": {},
   "source": [
    "Despues de optener que el clima que predomina con mayor accidentes es el Fine no high winds, veremos cual es el tipo de usuario que es mas propenso al accidente con este tipo de clima y podemos ver que los diferentes tipos de usuarios son los siguientes. "
   ]
  },
  {
   "cell_type": "code",
   "execution_count": 237,
   "metadata": {},
   "outputs": [
    {
     "data": {
      "text/plain": [
       "array(['Pedestrian', 'Pedal cycle', 'Motorcycle',\n",
       "       'Car (Includes taxis and minibus)', 'Bus or coach',\n",
       "       'Van / Goods 3.5 tonnes mgw or under', 'HGV', 'Other vehicle'],\n",
       "      dtype=object)"
      ]
     },
     "execution_count": 237,
     "metadata": {},
     "output_type": "execute_result"
    }
   ],
   "source": [
    "tipsd.iloc[:,1].unique()"
   ]
  },
  {
   "cell_type": "markdown",
   "metadata": {},
   "source": [
    "Para mayor practicidad en el manejo de los datos sustituiremos los valores del Road user por numeros, la cual nos quedaria de la siguiente manera: \n",
    "\n",
    "- Pedestrian = 0\n",
    "- Pedal cycle = 1\n",
    "- Motorcycle = 2\n",
    "- Car (Includes taxis and minibus) = 3\n",
    "- Bus or coach = 4\n",
    "- Van / Goods 3.5 tonnes mgw or under = 5\n",
    "- HGV = 6\n",
    "- Other vehicle = 7"
   ]
  },
  {
   "cell_type": "code",
   "execution_count": 238,
   "metadata": {},
   "outputs": [],
   "source": [
    "tipsd=tipsd[tipsd['Weather_condition']==1]\n",
    "tipsd = tipsd.rename(columns = {\"Road user\": \"Road_User\"})"
   ]
  },
  {
   "cell_type": "markdown",
   "metadata": {},
   "source": [
    "Acontinuacion crearemos un data set donde solo trabajaremos con el timpo de clima que predenomina en el ejercicio anterior "
   ]
  },
  {
   "cell_type": "code",
   "execution_count": 239,
   "metadata": {},
   "outputs": [
    {
     "data": {
      "text/html": [
       "<div>\n",
       "<style scoped>\n",
       "    .dataframe tbody tr th:only-of-type {\n",
       "        vertical-align: middle;\n",
       "    }\n",
       "\n",
       "    .dataframe tbody tr th {\n",
       "        vertical-align: top;\n",
       "    }\n",
       "\n",
       "    .dataframe thead th {\n",
       "        text-align: right;\n",
       "    }\n",
       "</style>\n",
       "<table border=\"1\" class=\"dataframe\">\n",
       "  <thead>\n",
       "    <tr style=\"text-align: right;\">\n",
       "      <th></th>\n",
       "      <th>Accident year</th>\n",
       "      <th>Road_User</th>\n",
       "      <th>Casualty class</th>\n",
       "      <th>Casualty age</th>\n",
       "      <th>Weather_condition</th>\n",
       "      <th>All casualties</th>\n",
       "    </tr>\n",
       "  </thead>\n",
       "  <tbody>\n",
       "    <tr>\n",
       "      <td>1</td>\n",
       "      <td>2019</td>\n",
       "      <td>0</td>\n",
       "      <td>Pedestrian</td>\n",
       "      <td>Unknown or missing</td>\n",
       "      <td>1</td>\n",
       "      <td>283</td>\n",
       "    </tr>\n",
       "    <tr>\n",
       "      <td>8</td>\n",
       "      <td>2019</td>\n",
       "      <td>0</td>\n",
       "      <td>Pedestrian</td>\n",
       "      <td>0</td>\n",
       "      <td>1</td>\n",
       "      <td>40</td>\n",
       "    </tr>\n",
       "    <tr>\n",
       "      <td>11</td>\n",
       "      <td>2019</td>\n",
       "      <td>0</td>\n",
       "      <td>Pedestrian</td>\n",
       "      <td>1</td>\n",
       "      <td>1</td>\n",
       "      <td>40</td>\n",
       "    </tr>\n",
       "    <tr>\n",
       "      <td>15</td>\n",
       "      <td>2019</td>\n",
       "      <td>0</td>\n",
       "      <td>Pedestrian</td>\n",
       "      <td>2</td>\n",
       "      <td>1</td>\n",
       "      <td>110</td>\n",
       "    </tr>\n",
       "    <tr>\n",
       "      <td>21</td>\n",
       "      <td>2019</td>\n",
       "      <td>0</td>\n",
       "      <td>Pedestrian</td>\n",
       "      <td>3</td>\n",
       "      <td>1</td>\n",
       "      <td>192</td>\n",
       "    </tr>\n",
       "    <tr>\n",
       "      <td>...</td>\n",
       "      <td>...</td>\n",
       "      <td>...</td>\n",
       "      <td>...</td>\n",
       "      <td>...</td>\n",
       "      <td>...</td>\n",
       "      <td>...</td>\n",
       "    </tr>\n",
       "    <tr>\n",
       "      <td>4307</td>\n",
       "      <td>2019</td>\n",
       "      <td>7</td>\n",
       "      <td>Passenger</td>\n",
       "      <td>73</td>\n",
       "      <td>1</td>\n",
       "      <td>1</td>\n",
       "    </tr>\n",
       "    <tr>\n",
       "      <td>4309</td>\n",
       "      <td>2019</td>\n",
       "      <td>7</td>\n",
       "      <td>Passenger</td>\n",
       "      <td>75</td>\n",
       "      <td>1</td>\n",
       "      <td>2</td>\n",
       "    </tr>\n",
       "    <tr>\n",
       "      <td>4310</td>\n",
       "      <td>2019</td>\n",
       "      <td>7</td>\n",
       "      <td>Passenger</td>\n",
       "      <td>79</td>\n",
       "      <td>1</td>\n",
       "      <td>2</td>\n",
       "    </tr>\n",
       "    <tr>\n",
       "      <td>4311</td>\n",
       "      <td>2019</td>\n",
       "      <td>7</td>\n",
       "      <td>Passenger</td>\n",
       "      <td>80</td>\n",
       "      <td>1</td>\n",
       "      <td>1</td>\n",
       "    </tr>\n",
       "    <tr>\n",
       "      <td>4313</td>\n",
       "      <td>2019</td>\n",
       "      <td>7</td>\n",
       "      <td>Passenger</td>\n",
       "      <td>94</td>\n",
       "      <td>1</td>\n",
       "      <td>1</td>\n",
       "    </tr>\n",
       "  </tbody>\n",
       "</table>\n",
       "<p>1121 rows × 6 columns</p>\n",
       "</div>"
      ],
      "text/plain": [
       "      Accident year  Road_User Casualty class        Casualty age  \\\n",
       "1              2019          0     Pedestrian  Unknown or missing   \n",
       "8              2019          0     Pedestrian                   0   \n",
       "11             2019          0     Pedestrian                   1   \n",
       "15             2019          0     Pedestrian                   2   \n",
       "21             2019          0     Pedestrian                   3   \n",
       "...             ...        ...            ...                 ...   \n",
       "4307           2019          7      Passenger                  73   \n",
       "4309           2019          7      Passenger                  75   \n",
       "4310           2019          7      Passenger                  79   \n",
       "4311           2019          7      Passenger                  80   \n",
       "4313           2019          7      Passenger                  94   \n",
       "\n",
       "      Weather_condition  All casualties  \n",
       "1                     1             283  \n",
       "8                     1              40  \n",
       "11                    1              40  \n",
       "15                    1             110  \n",
       "21                    1             192  \n",
       "...                 ...             ...  \n",
       "4307                  1               1  \n",
       "4309                  1               2  \n",
       "4310                  1               2  \n",
       "4311                  1               1  \n",
       "4313                  1               1  \n",
       "\n",
       "[1121 rows x 6 columns]"
      ]
     },
     "execution_count": 239,
     "metadata": {},
     "output_type": "execute_result"
    }
   ],
   "source": [
    "tipsd.Road_User= tipsd.Road_User.apply(replace_text,args=('Pedestrian','0'))\n",
    "tipsd.Road_User= tipsd.Road_User.apply(replace_text,args=('Pedal cycle','1'))\n",
    "tipsd.Road_User= tipsd.Road_User.apply(replace_text,args=('Motorcycle','2'))\n",
    "tipsd.Road_User= tipsd.Road_User.apply(replace_text,args=('Car (Includes taxis and minibus)','3'))\n",
    "tipsd.Road_User= tipsd.Road_User.apply(replace_text,args=('Car 3Includes taxis and minibus)','3'))\n",
    "tipsd.Road_User= tipsd.Road_User.apply(replace_text,args=('Bus or Coach','4'))\n",
    "tipsd.Road_User= tipsd.Road_User.apply(replace_text,args=('Bus or coach','4'))\n",
    "tipsd.Road_User= tipsd.Road_User.apply(replace_text,args=('Van / Goods 3.5 tonnes mgw or under','5'))\n",
    "tipsd.Road_User= tipsd.Road_User.apply(replace_text,args=('HGV','6'))\n",
    "tipsd.Road_User= tipsd.Road_User.apply(replace_text,args=('Other vehicle','7'))\n",
    "tipsd.Road_User = pd.to_numeric(tipsd.Road_User)\n",
    "#tipsd[tipsd[\"Road_User\"] == \"3\"]\n",
    "tipsd"
   ]
  },
  {
   "cell_type": "code",
   "execution_count": 240,
   "metadata": {},
   "outputs": [
    {
     "data": {
      "text/plain": [
       "array([0, 0, 0, ..., 7, 7, 7], dtype=int64)"
      ]
     },
     "execution_count": 240,
     "metadata": {},
     "output_type": "execute_result"
    }
   ],
   "source": [
    "tipsdroad = np.array(tipsd.iloc[:,1])\n",
    "tipsdroad"
   ]
  },
  {
   "cell_type": "code",
   "execution_count": 241,
   "metadata": {},
   "outputs": [
    {
     "data": {
      "image/png": "[encoded data removed]",
      "text/plain": [
       "<Figure size 576x288 with 1 Axes>"
      ]
     },
     "metadata": {
      "needs_background": "light"
     },
     "output_type": "display_data"
    }
   ],
   "source": [
    "plot_histogram_discrete(tipsdroad,'Tipo de vehiculo', 'Frecuencia', 'Frecuencia tipo de vehiculo')"
   ]
  },
  {
   "cell_type": "code",
   "execution_count": 242,
   "metadata": {},
   "outputs": [
    {
     "data": {
      "text/plain": [
       "array([0.09099019, 0.1043711 , 0.13648528, 0.16859946, 0.13470116,\n",
       "       0.13024086, 0.09366637, 0.14094558])"
      ]
     },
     "execution_count": 242,
     "metadata": {},
     "output_type": "execute_result"
    }
   ],
   "source": [
    "tiporoad = np.unique(tipsdroad, return_counts=True)[0]\n",
    "freqroad = np.unique(tipsdroad, return_counts=True)[1]\n",
    "probroad = freqroad/len(tipsdroad)\n",
    "probroad"
   ]
  },
  {
   "cell_type": "code",
   "execution_count": 243,
   "metadata": {},
   "outputs": [
    {
     "data": {
      "text/plain": [
       "<BarContainer object of 8 artists>"
      ]
     },
     "execution_count": 243,
     "metadata": {},
     "output_type": "execute_result"
    },
    {
     "data": {
      "image/png": "[encoded data removed]",
      "text/plain": [
       "<Figure size 432x288 with 1 Axes>"
      ]
     },
     "metadata": {
      "needs_background": "light"
     },
     "output_type": "display_data"
    }
   ],
   "source": [
    "plt.bar(tiporoad,probroad)"
   ]
  },
  {
   "cell_type": "code",
   "execution_count": 244,
   "metadata": {},
   "outputs": [
    {
     "data": {
      "text/plain": [
       "array([0, 1, 2, 3, 4, 5, 6, 7])"
      ]
     },
     "execution_count": 244,
     "metadata": {},
     "output_type": "execute_result"
    }
   ],
   "source": [
    "xprob = np.arange(0,8)\n",
    "xprob"
   ]
  },
  {
   "cell_type": "markdown",
   "metadata": {},
   "source": [
    "### Kernel\n",
    "- Vamos a generar números aleatorios que distribuyan de la misma forma que nuestra distribución de usuarios"
   ]
  },
  {
   "cell_type": "code",
   "execution_count": 245,
   "metadata": {},
   "outputs": [
    {
     "data": {
      "image/png": "[encoded data removed]",
      "text/plain": [
       "<Figure size 432x288 with 1 Axes>"
      ]
     },
     "metadata": {
      "needs_background": "light"
     },
     "output_type": "display_data"
    }
   ],
   "source": [
    "kernelroad = kde_statsmodels_m(tipsdroad, xprob, bandwidth=0.2)\n",
    "\n",
    "plt.bar(tiporoad,probroad)\n",
    "plt.plot(xprob, kernelroad)\n",
    "plt.show()"
   ]
  },
  {
   "cell_type": "code",
   "execution_count": 246,
   "metadata": {},
   "outputs": [
    {
     "data": {
      "text/plain": [
       "array([0.09099019, 0.19536128, 0.33184657, 0.50044603, 0.63514719,\n",
       "       0.76538805, 0.85905442, 1.        ])"
      ]
     },
     "execution_count": 246,
     "metadata": {},
     "output_type": "execute_result"
    }
   ],
   "source": [
    "prob_acum_road=probroad.cumsum()\n",
    "prob_acum_road"
   ]
  },
  {
   "cell_type": "code",
   "execution_count": 247,
   "metadata": {},
   "outputs": [
    {
     "data": {
      "image/png": "[encoded data removed]",
      "text/plain": [
       "<Figure size 576x288 with 1 Axes>"
      ]
     },
     "metadata": {
      "needs_background": "light"
     },
     "output_type": "display_data"
    }
   ],
   "source": [
    "N = 10**4\n",
    "road_u = np.random.rand(N)\n",
    "v = Gen_distr_discreta(road_u, prob_acum_road)\n",
    "\n",
    "plot_histogram_discrete(v, 'Tipo de road user', 'Frecuencia', 'Frecuencia Road User')"
   ]
  },
  {
   "cell_type": "markdown",
   "metadata": {},
   "source": [
    "#### Calculamos la media de mi distribucion de probabibilidad"
   ]
  },
  {
   "cell_type": "code",
   "execution_count": 248,
   "metadata": {},
   "outputs": [
    {
     "data": {
      "text/plain": [
       "(3.621766280107048, 0.2969061457155321)"
      ]
     },
     "execution_count": 248,
     "metadata": {},
     "output_type": "execute_result"
    }
   ],
   "source": [
    "miu_road = [tiporoad[i]*probroad[i] for i in range(len(freqroad))]\n",
    "miuu2 = np.sum(miu_road)\n",
    "std2 = np.std(miu_road )\n",
    "miuu2, std2"
   ]
  },
  {
   "cell_type": "markdown",
   "metadata": {},
   "source": [
    "#### Estimamos las medias con los metodos de reducción de varianza "
   ]
  },
  {
   "cell_type": "code",
   "execution_count": 249,
   "metadata": {},
   "outputs": [
    {
     "data": {
      "text/plain": [
       "8.8047"
      ]
     },
     "execution_count": 249,
     "metadata": {},
     "output_type": "execute_result"
    }
   ],
   "source": [
    "#Estratificado\n",
    "N = 10**4\n",
    "u = muestreo_est(N)\n",
    "funcion2 = lambda u: Gen_distr_discreta(u, prob_acum_road)+1\n",
    "media2 = np.mean(funcion2(u))\n",
    "media2"
   ]
  },
  {
   "cell_type": "code",
   "execution_count": 250,
   "metadata": {},
   "outputs": [
    {
     "data": {
      "text/plain": [
       "4.62135"
      ]
     },
     "execution_count": 250,
     "metadata": {},
     "output_type": "execute_result"
    }
   ],
   "source": [
    "#Método Complementarios\n",
    "aleat_road = np.random.rand(N)\n",
    "aleat_comp_road = 1- aleat_road\n",
    "a_road = funcion2(aleat_road)\n",
    "a1_road = funcion2(aleat_comp_road)\n",
    "mediacomp_road = (a_road.mean() + a1_road.mean())/2\n",
    "mediacomp_road"
   ]
  },
  {
   "cell_type": "code",
   "execution_count": 251,
   "metadata": {},
   "outputs": [
    {
     "name": "stdout",
     "output_type": "stream",
     "text": [
      "Con una confianza de 0.95 la media estará en el intervalo t,\n",
      " (8.755381259308235, 8.872265337882935)\n",
      "Con una confianza de 0.95 la media estará en el intervalo normal,\n",
      " (8.756095592913407, 8.871551004277762)\n",
      "Media calculada 8.813823298595585\n"
     ]
    }
   ],
   "source": [
    "# Intervalo de confianza \n",
    "np.random.seed(55555)\n",
    "mediai2 = media2; sd = std2\n",
    "N = 100\n",
    "confianza = 0.95\n",
    "X = np.random.normal(mediai2,sd,N)\n",
    "st.sem\n",
    "i1 = st.t.interval(confianza,len(X)-1, loc=np.mean(X), scale=st.sem(X))\n",
    "i2 = st.norm.interval(confianza, loc=np.mean(X), scale=st.sem(X))\n",
    "print('Con una confianza de %2.2f la media estará en el intervalo t,\\n %s' %(confianza,i1))\n",
    "print('Con una confianza de %2.2f la media estará en el intervalo normal,\\n %s' %(confianza,i2))\n",
    "print('Media calculada' ,np.mean(X))"
   ]
  },
  {
   "cell_type": "markdown",
   "metadata": {},
   "source": [
    "### Conclusión\n",
    "Podemos concluir que con base a un clima fine no hihg winds los usuarios más propesos a tener un accidente son los carros que incluyen taxis y minibus, lo cual se confirma al cualcular la media de mi distribucion de probabilidad con los metodos de reduccion de varianza. "
   ]
  },
  {
   "cell_type": "markdown",
   "metadata": {},
   "source": [
    "### Nodo 3"
   ]
  },
  {
   "cell_type": "markdown",
   "metadata": {},
   "source": [
    "Ahora ya sabemos que el tipo de clima donde mayor accidentes ocurren es en el clima fino no hihg winds donde el tipo de vehiculo más afectado en este tipo de clima son los carros los cuales incluyen taxis y minibus, vamos a ver ahora en este nodo quienes son las victimas que mas que fallecieron en los accidentes con estas caracterisiticas\n",
    "\n",
    "Primero veremos cuales son los tipos de personas que fallecieron en los accidentes "
   ]
  },
  {
   "cell_type": "code",
   "execution_count": 252,
   "metadata": {},
   "outputs": [
    {
     "data": {
      "text/html": [
       "<div>\n",
       "<style scoped>\n",
       "    .dataframe tbody tr th:only-of-type {\n",
       "        vertical-align: middle;\n",
       "    }\n",
       "\n",
       "    .dataframe tbody tr th {\n",
       "        vertical-align: top;\n",
       "    }\n",
       "\n",
       "    .dataframe thead th {\n",
       "        text-align: right;\n",
       "    }\n",
       "</style>\n",
       "<table border=\"1\" class=\"dataframe\">\n",
       "  <thead>\n",
       "    <tr style=\"text-align: right;\">\n",
       "      <th></th>\n",
       "      <th>Accident year</th>\n",
       "      <th>Road_User</th>\n",
       "      <th>Casualty class</th>\n",
       "      <th>Casualty age</th>\n",
       "      <th>Weather_condition</th>\n",
       "      <th>All casualties</th>\n",
       "    </tr>\n",
       "  </thead>\n",
       "  <tbody>\n",
       "    <tr>\n",
       "      <td>1</td>\n",
       "      <td>2019</td>\n",
       "      <td>0</td>\n",
       "      <td>Pedestrian</td>\n",
       "      <td>Unknown or missing</td>\n",
       "      <td>1</td>\n",
       "      <td>283</td>\n",
       "    </tr>\n",
       "    <tr>\n",
       "      <td>8</td>\n",
       "      <td>2019</td>\n",
       "      <td>0</td>\n",
       "      <td>Pedestrian</td>\n",
       "      <td>0</td>\n",
       "      <td>1</td>\n",
       "      <td>40</td>\n",
       "    </tr>\n",
       "    <tr>\n",
       "      <td>11</td>\n",
       "      <td>2019</td>\n",
       "      <td>0</td>\n",
       "      <td>Pedestrian</td>\n",
       "      <td>1</td>\n",
       "      <td>1</td>\n",
       "      <td>40</td>\n",
       "    </tr>\n",
       "    <tr>\n",
       "      <td>15</td>\n",
       "      <td>2019</td>\n",
       "      <td>0</td>\n",
       "      <td>Pedestrian</td>\n",
       "      <td>2</td>\n",
       "      <td>1</td>\n",
       "      <td>110</td>\n",
       "    </tr>\n",
       "    <tr>\n",
       "      <td>21</td>\n",
       "      <td>2019</td>\n",
       "      <td>0</td>\n",
       "      <td>Pedestrian</td>\n",
       "      <td>3</td>\n",
       "      <td>1</td>\n",
       "      <td>192</td>\n",
       "    </tr>\n",
       "    <tr>\n",
       "      <td>...</td>\n",
       "      <td>...</td>\n",
       "      <td>...</td>\n",
       "      <td>...</td>\n",
       "      <td>...</td>\n",
       "      <td>...</td>\n",
       "      <td>...</td>\n",
       "    </tr>\n",
       "    <tr>\n",
       "      <td>4307</td>\n",
       "      <td>2019</td>\n",
       "      <td>7</td>\n",
       "      <td>Passenger</td>\n",
       "      <td>73</td>\n",
       "      <td>1</td>\n",
       "      <td>1</td>\n",
       "    </tr>\n",
       "    <tr>\n",
       "      <td>4309</td>\n",
       "      <td>2019</td>\n",
       "      <td>7</td>\n",
       "      <td>Passenger</td>\n",
       "      <td>75</td>\n",
       "      <td>1</td>\n",
       "      <td>2</td>\n",
       "    </tr>\n",
       "    <tr>\n",
       "      <td>4310</td>\n",
       "      <td>2019</td>\n",
       "      <td>7</td>\n",
       "      <td>Passenger</td>\n",
       "      <td>79</td>\n",
       "      <td>1</td>\n",
       "      <td>2</td>\n",
       "    </tr>\n",
       "    <tr>\n",
       "      <td>4311</td>\n",
       "      <td>2019</td>\n",
       "      <td>7</td>\n",
       "      <td>Passenger</td>\n",
       "      <td>80</td>\n",
       "      <td>1</td>\n",
       "      <td>1</td>\n",
       "    </tr>\n",
       "    <tr>\n",
       "      <td>4313</td>\n",
       "      <td>2019</td>\n",
       "      <td>7</td>\n",
       "      <td>Passenger</td>\n",
       "      <td>94</td>\n",
       "      <td>1</td>\n",
       "      <td>1</td>\n",
       "    </tr>\n",
       "  </tbody>\n",
       "</table>\n",
       "<p>1121 rows × 6 columns</p>\n",
       "</div>"
      ],
      "text/plain": [
       "      Accident year  Road_User Casualty class        Casualty age  \\\n",
       "1              2019          0     Pedestrian  Unknown or missing   \n",
       "8              2019          0     Pedestrian                   0   \n",
       "11             2019          0     Pedestrian                   1   \n",
       "15             2019          0     Pedestrian                   2   \n",
       "21             2019          0     Pedestrian                   3   \n",
       "...             ...        ...            ...                 ...   \n",
       "4307           2019          7      Passenger                  73   \n",
       "4309           2019          7      Passenger                  75   \n",
       "4310           2019          7      Passenger                  79   \n",
       "4311           2019          7      Passenger                  80   \n",
       "4313           2019          7      Passenger                  94   \n",
       "\n",
       "      Weather_condition  All casualties  \n",
       "1                     1             283  \n",
       "8                     1              40  \n",
       "11                    1              40  \n",
       "15                    1             110  \n",
       "21                    1             192  \n",
       "...                 ...             ...  \n",
       "4307                  1               1  \n",
       "4309                  1               2  \n",
       "4310                  1               2  \n",
       "4311                  1               1  \n",
       "4313                  1               1  \n",
       "\n",
       "[1121 rows x 6 columns]"
      ]
     },
     "execution_count": 252,
     "metadata": {},
     "output_type": "execute_result"
    }
   ],
   "source": [
    "tipsd\n"
   ]
  },
  {
   "cell_type": "code",
   "execution_count": 253,
   "metadata": {},
   "outputs": [
    {
     "data": {
      "text/plain": [
       "array(['Pedestrian', 'Driver or rider', 'Passenger'], dtype=object)"
      ]
     },
     "execution_count": 253,
     "metadata": {},
     "output_type": "execute_result"
    }
   ],
   "source": [
    "tipsd.iloc[:,2].unique()"
   ]
  },
  {
   "cell_type": "markdown",
   "metadata": {},
   "source": [
    "Podemos notar que solo contamos con dos clasificacion de las peronas que fallecieron, las cuales son Driver or rider, Passenger"
   ]
  },
  {
   "cell_type": "markdown",
   "metadata": {},
   "source": [
    "Ahora haremos el histograma de los datos"
   ]
  },
  {
   "cell_type": "code",
   "execution_count": 254,
   "metadata": {},
   "outputs": [],
   "source": [
    "tipsd = tipsd.rename(columns = {\"Casualty class\": \"Casualty_class\"})\n",
    "tipsd.Casualty_class= tipsd.Casualty_class.apply(replace_text,args=('Driver or rider','0'))\n",
    "tipsd.Casualty_class= tipsd.Casualty_class.apply(replace_text,args=('Passenger','1'))\n",
    "tipsd.Casualty_class= tipsd.Casualty_class.apply(replace_text,args=('Pedestrian','2'))\n",
    "tipsd.Casualty_class = pd.to_numeric(tipsd.Casualty_class)"
   ]
  },
  {
   "cell_type": "code",
   "execution_count": 255,
   "metadata": {},
   "outputs": [
    {
     "data": {
      "text/plain": [
       "array([2, 2, 2, ..., 1, 1, 1], dtype=int64)"
      ]
     },
     "execution_count": 255,
     "metadata": {},
     "output_type": "execute_result"
    }
   ],
   "source": [
    "tipsdcasualty= np.array(tipsd.iloc[:,2])\n",
    "tipsdcasualty"
   ]
  },
  {
   "cell_type": "code",
   "execution_count": 256,
   "metadata": {},
   "outputs": [
    {
     "data": {
      "text/plain": [
       "(array([534.,   0.,   0.,   0.,   0., 485.,   0.,   0.,   0., 102.]),\n",
       " array([0. , 0.2, 0.4, 0.6, 0.8, 1. , 1.2, 1.4, 1.6, 1.8, 2. ]),\n",
       " <a list of 10 Patch objects>)"
      ]
     },
     "execution_count": 256,
     "metadata": {},
     "output_type": "execute_result"
    },
    {
     "data": {
      "image/png": "[encoded data removed]",
      "text/plain": [
       "<Figure size 432x288 with 1 Axes>"
      ]
     },
     "metadata": {
      "needs_background": "light"
     },
     "output_type": "display_data"
    }
   ],
   "source": [
    "plt.hist(tipsdcasualty)"
   ]
  },
  {
   "cell_type": "code",
   "execution_count": 257,
   "metadata": {},
   "outputs": [
    {
     "data": {
      "text/plain": [
       "array([0.47636039, 0.43264942, 0.09099019])"
      ]
     },
     "execution_count": 257,
     "metadata": {},
     "output_type": "execute_result"
    }
   ],
   "source": [
    "tipocasualty = np.unique(tipsdcasualty, return_counts=True)[0]\n",
    "freqcasualty = np.unique(tipsdcasualty, return_counts=True)[1]\n",
    "probcasualty = freqcasualty/len(tipsdcasualty)\n",
    "probcasualty"
   ]
  },
  {
   "cell_type": "code",
   "execution_count": 258,
   "metadata": {},
   "outputs": [
    {
     "data": {
      "text/plain": [
       "<BarContainer object of 3 artists>"
      ]
     },
     "execution_count": 258,
     "metadata": {},
     "output_type": "execute_result"
    },
    {
     "data": {
      "image/png": "[encoded data removed]",
      "text/plain": [
       "<Figure size 432x288 with 1 Axes>"
      ]
     },
     "metadata": {
      "needs_background": "light"
     },
     "output_type": "display_data"
    }
   ],
   "source": [
    "plt.bar(tipocasualty,probcasualty)"
   ]
  },
  {
   "cell_type": "code",
   "execution_count": 259,
   "metadata": {},
   "outputs": [
    {
     "data": {
      "text/plain": [
       "array([0, 1, 2])"
      ]
     },
     "execution_count": 259,
     "metadata": {},
     "output_type": "execute_result"
    }
   ],
   "source": [
    "xprob_c = np.arange(0,3)\n",
    "xprob_c"
   ]
  },
  {
   "cell_type": "code",
   "execution_count": 260,
   "metadata": {},
   "outputs": [
    {
     "data": {
      "image/png": "[encoded data removed]",
      "text/plain": [
       "<Figure size 432x288 with 1 Axes>"
      ]
     },
     "metadata": {
      "needs_background": "light"
     },
     "output_type": "display_data"
    }
   ],
   "source": [
    "kernelroad = kde_statsmodels_m(tipocasualty, xprob_c, bandwidth=0.2)\n",
    "\n",
    "plt.bar(tipocasualty,probcasualty)\n",
    "plt.plot(xprob_c, kernelroad)\n",
    "plt.show()"
   ]
  },
  {
   "cell_type": "code",
   "execution_count": 261,
   "metadata": {},
   "outputs": [
    {
     "data": {
      "text/plain": [
       "98"
      ]
     },
     "execution_count": 261,
     "metadata": {},
     "output_type": "execute_result"
    }
   ],
   "source": [
    "len(dist_continu)"
   ]
  },
  {
   "cell_type": "code",
   "execution_count": 262,
   "metadata": {},
   "outputs": [
    {
     "name": "stderr",
     "output_type": "stream",
     "text": [
      "C:\\Users\\julio\\Anaconda3\\lib\\site-packages\\scipy\\stats\\_continuous_distns.py:2688: RuntimeWarning: The shape parameter of the erlang distribution has been given a non-integer value 12.600000000000001.\n",
      "  RuntimeWarning)\n",
      "C:\\Users\\julio\\Anaconda3\\lib\\site-packages\\scipy\\stats\\_continuous_distns.py:2688: RuntimeWarning: The shape parameter of the erlang distribution has been given a non-integer value 11.399999999999999.\n",
      "  RuntimeWarning)\n",
      "C:\\Users\\julio\\Anaconda3\\lib\\site-packages\\scipy\\stats\\_continuous_distns.py:2688: RuntimeWarning: The shape parameter of the erlang distribution has been given a non-integer value 12.3.\n",
      "  RuntimeWarning)\n",
      "C:\\Users\\julio\\Anaconda3\\lib\\site-packages\\scipy\\stats\\_continuous_distns.py:2688: RuntimeWarning: The shape parameter of the erlang distribution has been given a non-integer value 12.2.\n",
      "  RuntimeWarning)\n",
      "C:\\Users\\julio\\Anaconda3\\lib\\site-packages\\scipy\\stats\\_continuous_distns.py:2688: RuntimeWarning: The shape parameter of the erlang distribution has been given a non-integer value 12.05.\n",
      "  RuntimeWarning)\n",
      "C:\\Users\\julio\\Anaconda3\\lib\\site-packages\\scipy\\stats\\_continuous_distns.py:2688: RuntimeWarning: The shape parameter of the erlang distribution has been given a non-integer value 12.233333333333334.\n",
      "  RuntimeWarning)\n",
      "C:\\Users\\julio\\Anaconda3\\lib\\site-packages\\scipy\\stats\\_continuous_distns.py:2688: RuntimeWarning: The shape parameter of the erlang distribution has been given a non-integer value 12.058333333333334.\n",
      "  RuntimeWarning)\n",
      "C:\\Users\\julio\\Anaconda3\\lib\\site-packages\\scipy\\stats\\_continuous_distns.py:2688: RuntimeWarning: The shape parameter of the erlang distribution has been given a non-integer value 11.772222222222222.\n",
      "  RuntimeWarning)\n",
      "C:\\Users\\julio\\Anaconda3\\lib\\site-packages\\scipy\\stats\\_continuous_distns.py:2688: RuntimeWarning: The shape parameter of the erlang distribution has been given a non-integer value 11.904166666666667.\n",
      "  RuntimeWarning)\n",
      "C:\\Users\\julio\\Anaconda3\\lib\\site-packages\\scipy\\stats\\_continuous_distns.py:2688: RuntimeWarning: The shape parameter of the erlang distribution has been given a non-integer value 11.925000000000004.\n",
      "  RuntimeWarning)\n",
      "C:\\Users\\julio\\Anaconda3\\lib\\site-packages\\scipy\\stats\\_continuous_distns.py:2688: RuntimeWarning: The shape parameter of the erlang distribution has been given a non-integer value 12.01875.\n",
      "  RuntimeWarning)\n",
      "C:\\Users\\julio\\Anaconda3\\lib\\site-packages\\scipy\\stats\\_continuous_distns.py:2688: RuntimeWarning: The shape parameter of the erlang distribution has been given a non-integer value 11.890277777777776.\n",
      "  RuntimeWarning)\n",
      "C:\\Users\\julio\\Anaconda3\\lib\\site-packages\\scipy\\stats\\_continuous_distns.py:2688: RuntimeWarning: The shape parameter of the erlang distribution has been given a non-integer value 12.035185185185187.\n",
      "  RuntimeWarning)\n",
      "C:\\Users\\julio\\Anaconda3\\lib\\site-packages\\scipy\\stats\\_continuous_distns.py:2688: RuntimeWarning: The shape parameter of the erlang distribution has been given a non-integer value 12.002430555555556.\n",
      "  RuntimeWarning)\n",
      "C:\\Users\\julio\\Anaconda3\\lib\\site-packages\\scipy\\stats\\_continuous_distns.py:2688: RuntimeWarning: The shape parameter of the erlang distribution has been given a non-integer value 11.909722222222221.\n",
      "  RuntimeWarning)\n",
      "C:\\Users\\julio\\Anaconda3\\lib\\site-packages\\scipy\\stats\\_continuous_distns.py:2688: RuntimeWarning: The shape parameter of the erlang distribution has been given a non-integer value 11.85520833333333.\n",
      "  RuntimeWarning)\n",
      "C:\\Users\\julio\\Anaconda3\\lib\\site-packages\\scipy\\stats\\_continuous_distns.py:2688: RuntimeWarning: The shape parameter of the erlang distribution has been given a non-integer value 11.827893518518515.\n",
      "  RuntimeWarning)\n",
      "C:\\Users\\julio\\Anaconda3\\lib\\site-packages\\scipy\\stats\\_continuous_distns.py:2688: RuntimeWarning: The shape parameter of the erlang distribution has been given a non-integer value 11.898456790123454.\n",
      "  RuntimeWarning)\n",
      "C:\\Users\\julio\\Anaconda3\\lib\\site-packages\\scipy\\stats\\_continuous_distns.py:2688: RuntimeWarning: The shape parameter of the erlang distribution has been given a non-integer value 11.721039094650198.\n",
      "  RuntimeWarning)\n",
      "C:\\Users\\julio\\Anaconda3\\lib\\site-packages\\scipy\\stats\\_continuous_distns.py:2688: RuntimeWarning: The shape parameter of the erlang distribution has been given a non-integer value 11.581558641975299.\n",
      "  RuntimeWarning)\n",
      "C:\\Users\\julio\\Anaconda3\\lib\\site-packages\\scipy\\stats\\_continuous_distns.py:2688: RuntimeWarning: The shape parameter of the erlang distribution has been given a non-integer value 11.728922325102875.\n",
      "  RuntimeWarning)\n",
      "C:\\Users\\julio\\Anaconda3\\lib\\site-packages\\scipy\\stats\\_continuous_distns.py:2688: RuntimeWarning: The shape parameter of the erlang distribution has been given a non-integer value 11.545336076817545.\n",
      "  RuntimeWarning)\n",
      "C:\\Users\\julio\\Anaconda3\\lib\\site-packages\\scipy\\stats\\_continuous_distns.py:2688: RuntimeWarning: The shape parameter of the erlang distribution has been given a non-integer value 11.382003029263817.\n",
      "  RuntimeWarning)\n",
      "C:\\Users\\julio\\Anaconda3\\lib\\site-packages\\scipy\\stats\\_continuous_distns.py:2688: RuntimeWarning: The shape parameter of the erlang distribution has been given a non-integer value 11.736907007315953.\n",
      "  RuntimeWarning)\n",
      "C:\\Users\\julio\\Anaconda3\\lib\\site-packages\\scipy\\stats\\_continuous_distns.py:2688: RuntimeWarning: The shape parameter of the erlang distribution has been given a non-integer value 11.819589239445207.\n",
      "  RuntimeWarning)\n",
      "C:\\Users\\julio\\Anaconda3\\lib\\site-packages\\scipy\\stats\\_continuous_distns.py:2688: RuntimeWarning: The shape parameter of the erlang distribution has been given a non-integer value 11.61389936747446.\n",
      "  RuntimeWarning)\n",
      "C:\\Users\\julio\\Anaconda3\\lib\\site-packages\\scipy\\stats\\_continuous_distns.py:2688: RuntimeWarning: The shape parameter of the erlang distribution has been given a non-integer value 11.546013215719139.\n",
      "  RuntimeWarning)\n",
      "C:\\Users\\julio\\Anaconda3\\lib\\site-packages\\scipy\\stats\\_continuous_distns.py:2688: RuntimeWarning: The shape parameter of the erlang distribution has been given a non-integer value 11.68918355941675.\n",
      "  RuntimeWarning)\n",
      "C:\\Users\\julio\\Anaconda3\\lib\\site-packages\\scipy\\stats\\_continuous_distns.py:2688: RuntimeWarning: The shape parameter of the erlang distribution has been given a non-integer value 11.719210316855492.\n",
      "  RuntimeWarning)\n",
      "C:\\Users\\julio\\Anaconda3\\lib\\site-packages\\scipy\\stats\\_continuous_distns.py:2688: RuntimeWarning: The shape parameter of the erlang distribution has been given a non-integer value 11.692882579510233.\n",
      "  RuntimeWarning)\n",
      "C:\\Users\\julio\\Anaconda3\\lib\\site-packages\\scipy\\stats\\_continuous_distns.py:2688: RuntimeWarning: The shape parameter of the erlang distribution has been given a non-integer value 11.580160862165311.\n",
      "  RuntimeWarning)\n",
      "C:\\Users\\julio\\Anaconda3\\lib\\site-packages\\scipy\\stats\\_continuous_distns.py:2688: RuntimeWarning: The shape parameter of the erlang distribution has been given a non-integer value 11.505780130696529.\n",
      "  RuntimeWarning)\n",
      "C:\\Users\\julio\\Anaconda3\\lib\\site-packages\\scipy\\stats\\_continuous_distns.py:2688: RuntimeWarning: The shape parameter of the erlang distribution has been given a non-integer value 11.497630675371292.\n",
      "  RuntimeWarning)\n",
      "C:\\Users\\julio\\Anaconda3\\lib\\site-packages\\scipy\\stats\\_continuous_distns.py:2688: RuntimeWarning: The shape parameter of the erlang distribution has been given a non-integer value 11.36376371918518.\n",
      "  RuntimeWarning)\n",
      "C:\\Users\\julio\\Anaconda3\\lib\\site-packages\\scipy\\stats\\_continuous_distns.py:2688: RuntimeWarning: The shape parameter of the erlang distribution has been given a non-integer value 11.199204289022653.\n",
      "  RuntimeWarning)\n",
      "C:\\Users\\julio\\Anaconda3\\lib\\site-packages\\scipy\\stats\\_continuous_distns.py:2688: RuntimeWarning: The shape parameter of the erlang distribution has been given a non-integer value 11.220184754751681.\n",
      "  RuntimeWarning)\n",
      "C:\\Users\\julio\\Anaconda3\\lib\\site-packages\\scipy\\stats\\_continuous_distns.py:2688: RuntimeWarning: The shape parameter of the erlang distribution has been given a non-integer value 11.119148774275951.\n",
      "  RuntimeWarning)\n",
      "C:\\Users\\julio\\Anaconda3\\lib\\site-packages\\scipy\\stats\\_continuous_distns.py:2688: RuntimeWarning: The shape parameter of the erlang distribution has been given a non-integer value 10.929907823728282.\n",
      "  RuntimeWarning)\n",
      "C:\\Users\\julio\\Anaconda3\\lib\\site-packages\\scipy\\stats\\_continuous_distns.py:2688: RuntimeWarning: The shape parameter of the erlang distribution has been given a non-integer value 10.72708444763855.\n",
      "  RuntimeWarning)\n",
      "C:\\Users\\julio\\Anaconda3\\lib\\site-packages\\scipy\\stats\\_continuous_distns.py:2688: RuntimeWarning: The shape parameter of the erlang distribution has been given a non-integer value 10.337736606109559.\n",
      "  RuntimeWarning)\n",
      "C:\\Users\\julio\\Anaconda3\\lib\\site-packages\\scipy\\stats\\_continuous_distns.py:2688: RuntimeWarning: The shape parameter of the erlang distribution has been given a non-integer value 10.424381057821979.\n",
      "  RuntimeWarning)\n",
      "C:\\Users\\julio\\Anaconda3\\lib\\site-packages\\scipy\\stats\\_continuous_distns.py:2688: RuntimeWarning: The shape parameter of the erlang distribution has been given a non-integer value 10.026479209357127.\n",
      "  RuntimeWarning)\n",
      "C:\\Users\\julio\\Anaconda3\\lib\\site-packages\\scipy\\stats\\_continuous_distns.py:2688: RuntimeWarning: The shape parameter of the erlang distribution has been given a non-integer value 9.663544803773991.\n",
      "  RuntimeWarning)\n",
      "C:\\Users\\julio\\Anaconda3\\lib\\site-packages\\scipy\\stats\\_continuous_distns.py:2688: RuntimeWarning: The shape parameter of the erlang distribution has been given a non-integer value 8.895715061149659.\n",
      "  RuntimeWarning)\n",
      "C:\\Users\\julio\\Anaconda3\\lib\\site-packages\\scipy\\stats\\_continuous_distns.py:2688: RuntimeWarning: The shape parameter of the erlang distribution has been given a non-integer value 8.576712760682614.\n",
      "  RuntimeWarning)\n",
      "C:\\Users\\julio\\Anaconda3\\lib\\site-packages\\scipy\\stats\\_continuous_distns.py:2688: RuntimeWarning: The shape parameter of the erlang distribution has been given a non-integer value 7.994868081350042.\n",
      "  RuntimeWarning)\n",
      "C:\\Users\\julio\\Anaconda3\\lib\\site-packages\\scipy\\stats\\_continuous_distns.py:2688: RuntimeWarning: The shape parameter of the erlang distribution has been given a non-integer value 6.823433818970283.\n",
      "  RuntimeWarning)\n",
      "C:\\Users\\julio\\Anaconda3\\lib\\site-packages\\scipy\\stats\\_continuous_distns.py:2688: RuntimeWarning: The shape parameter of the erlang distribution has been given a non-integer value 6.951718059431084.\n",
      "  RuntimeWarning)\n",
      "C:\\Users\\julio\\Anaconda3\\lib\\site-packages\\scipy\\stats\\_continuous_distns.py:2688: RuntimeWarning: The shape parameter of the erlang distribution has been given a non-integer value 9.257788921875616.\n",
      "  RuntimeWarning)\n",
      "C:\\Users\\julio\\Anaconda3\\lib\\site-packages\\scipy\\stats\\_continuous_distns.py:2688: RuntimeWarning: The shape parameter of the erlang distribution has been given a non-integer value 8.855535282234264.\n",
      "  RuntimeWarning)\n",
      "C:\\Users\\julio\\Anaconda3\\lib\\site-packages\\scipy\\stats\\_continuous_distns.py:2688: RuntimeWarning: The shape parameter of the erlang distribution has been given a non-integer value 8.994946543010087.\n",
      "  RuntimeWarning)\n",
      "C:\\Users\\julio\\Anaconda3\\lib\\site-packages\\scipy\\stats\\_continuous_distns.py:2688: RuntimeWarning: The shape parameter of the erlang distribution has been given a non-integer value 7.906290027947026.\n",
      "  RuntimeWarning)\n",
      "C:\\Users\\julio\\Anaconda3\\lib\\site-packages\\scipy\\stats\\_continuous_distns.py:2688: RuntimeWarning: The shape parameter of the erlang distribution has been given a non-integer value 8.919914198393467.\n",
      "  RuntimeWarning)\n",
      "C:\\Users\\julio\\Anaconda3\\lib\\site-packages\\scipy\\stats\\_continuous_distns.py:2688: RuntimeWarning: The shape parameter of the erlang distribution has been given a non-integer value 8.284496646835525.\n",
      "  RuntimeWarning)\n",
      "C:\\Users\\julio\\Anaconda3\\lib\\site-packages\\scipy\\stats\\_continuous_distns.py:2688: RuntimeWarning: The shape parameter of the erlang distribution has been given a non-integer value 7.978887439678459.\n",
      "  RuntimeWarning)\n",
      "C:\\Users\\julio\\Anaconda3\\lib\\site-packages\\scipy\\stats\\_continuous_distns.py:2688: RuntimeWarning: The shape parameter of the erlang distribution has been given a non-integer value 9.174689865520751.\n",
      "  RuntimeWarning)\n",
      "C:\\Users\\julio\\Anaconda3\\lib\\site-packages\\scipy\\stats\\_continuous_distns.py:2688: RuntimeWarning: The shape parameter of the erlang distribution has been given a non-integer value 8.41949419322885.\n",
      "  RuntimeWarning)\n",
      "C:\\Users\\julio\\Anaconda3\\lib\\site-packages\\scipy\\stats\\_continuous_distns.py:2688: RuntimeWarning: The shape parameter of the erlang distribution has been given a non-integer value 8.169284190646543.\n",
      "  RuntimeWarning)\n",
      "C:\\Users\\julio\\Anaconda3\\lib\\site-packages\\scipy\\stats\\_continuous_distns.py:2688: RuntimeWarning: The shape parameter of the erlang distribution has been given a non-integer value 7.494448076185428.\n",
      "  RuntimeWarning)\n",
      "C:\\Users\\julio\\Anaconda3\\lib\\site-packages\\scipy\\stats\\_continuous_distns.py:2688: RuntimeWarning: The shape parameter of the erlang distribution has been given a non-integer value 6.906211188772689.\n",
      "  RuntimeWarning)\n",
      "C:\\Users\\julio\\Anaconda3\\lib\\site-packages\\scipy\\stats\\_continuous_distns.py:2688: RuntimeWarning: The shape parameter of the erlang distribution has been given a non-integer value 5.931549142041902.\n",
      "  RuntimeWarning)\n",
      "C:\\Users\\julio\\Anaconda3\\lib\\site-packages\\scipy\\stats\\_continuous_distns.py:2688: RuntimeWarning: The shape parameter of the erlang distribution has been given a non-integer value 7.875140469879698.\n",
      "  RuntimeWarning)\n",
      "C:\\Users\\julio\\Anaconda3\\lib\\site-packages\\scipy\\stats\\_continuous_distns.py:2688: RuntimeWarning: The shape parameter of the erlang distribution has been given a non-integer value 8.065486666726834.\n",
      "  RuntimeWarning)\n",
      "C:\\Users\\julio\\Anaconda3\\lib\\site-packages\\scipy\\stats\\_continuous_distns.py:2688: RuntimeWarning: The shape parameter of the erlang distribution has been given a non-integer value 7.32153645985416.\n",
      "  RuntimeWarning)\n",
      "C:\\Users\\julio\\Anaconda3\\lib\\site-packages\\scipy\\stats\\_continuous_distns.py:2688: RuntimeWarning: The shape parameter of the erlang distribution has been given a non-integer value 6.9928609699420115.\n",
      "  RuntimeWarning)\n",
      "C:\\Users\\julio\\Anaconda3\\lib\\site-packages\\scipy\\stats\\_continuous_distns.py:2688: RuntimeWarning: The shape parameter of the erlang distribution has been given a non-integer value 6.346857561749722.\n",
      "  RuntimeWarning)\n",
      "C:\\Users\\julio\\Anaconda3\\lib\\site-packages\\scipy\\stats\\_continuous_distns.py:2688: RuntimeWarning: The shape parameter of the erlang distribution has been given a non-integer value 7.237028145608267.\n",
      "  RuntimeWarning)\n",
      "C:\\Users\\julio\\Anaconda3\\lib\\site-packages\\scipy\\stats\\_continuous_distns.py:2688: RuntimeWarning: The shape parameter of the erlang distribution has been given a non-integer value 5.842690648320303.\n",
      "  RuntimeWarning)\n",
      "C:\\Users\\julio\\Anaconda3\\lib\\site-packages\\scipy\\stats\\_continuous_distns.py:2688: RuntimeWarning: The shape parameter of the erlang distribution has been given a non-integer value 4.826465737540605.\n",
      "  RuntimeWarning)\n",
      "C:\\Users\\julio\\Anaconda3\\lib\\site-packages\\scipy\\stats\\_continuous_distns.py:2688: RuntimeWarning: The shape parameter of the erlang distribution has been given a non-integer value 7.034862280830666.\n",
      "  RuntimeWarning)\n"
     ]
    },
    {
     "name": "stderr",
     "output_type": "stream",
     "text": [
      "C:\\Users\\julio\\Anaconda3\\lib\\site-packages\\scipy\\stats\\_continuous_distns.py:2688: RuntimeWarning: The shape parameter of the erlang distribution has been given a non-integer value 6.86286110106043.\n",
      "  RuntimeWarning)\n",
      "C:\\Users\\julio\\Anaconda3\\lib\\site-packages\\scipy\\stats\\_continuous_distns.py:2688: RuntimeWarning: The shape parameter of the erlang distribution has been given a non-integer value 5.895247000606897.\n",
      "  RuntimeWarning)\n",
      "C:\\Users\\julio\\Anaconda3\\lib\\site-packages\\scipy\\stats\\_continuous_distns.py:2688: RuntimeWarning: The shape parameter of the erlang distribution has been given a non-integer value 5.407671530049743.\n",
      "  RuntimeWarning)\n",
      "C:\\Users\\julio\\Anaconda3\\lib\\site-packages\\scipy\\stats\\_continuous_distns.py:2688: RuntimeWarning: The shape parameter of the erlang distribution has been given a non-integer value 6.180235185680088.\n",
      "  RuntimeWarning)\n",
      "C:\\Users\\julio\\Anaconda3\\lib\\site-packages\\scipy\\stats\\_continuous_distns.py:2688: RuntimeWarning: The shape parameter of the erlang distribution has been given a non-integer value 6.322729278216684.\n",
      "  RuntimeWarning)\n",
      "C:\\Users\\julio\\Anaconda3\\lib\\site-packages\\scipy\\stats\\_continuous_distns.py:2688: RuntimeWarning: The shape parameter of the erlang distribution has been given a non-integer value 4.757537141639661.\n",
      "  RuntimeWarning)\n",
      "C:\\Users\\julio\\Anaconda3\\lib\\site-packages\\scipy\\stats\\_continuous_distns.py:2688: RuntimeWarning: The shape parameter of the erlang distribution has been given a non-integer value 6.336530111205238.\n",
      "  RuntimeWarning)\n",
      "C:\\Users\\julio\\Anaconda3\\lib\\site-packages\\scipy\\stats\\_continuous_distns.py:2688: RuntimeWarning: The shape parameter of the erlang distribution has been given a non-integer value 6.831965766754008.\n",
      "  RuntimeWarning)\n",
      "C:\\Users\\julio\\Anaconda3\\lib\\site-packages\\scipy\\stats\\_continuous_distns.py:2688: RuntimeWarning: The shape parameter of the erlang distribution has been given a non-integer value 5.763745089225809.\n",
      "  RuntimeWarning)\n",
      "C:\\Users\\julio\\Anaconda3\\lib\\site-packages\\scipy\\stats\\_continuous_distns.py:2688: RuntimeWarning: The shape parameter of the erlang distribution has been given a non-integer value 6.344316275753787.\n",
      "  RuntimeWarning)\n",
      "C:\\Users\\julio\\Anaconda3\\lib\\site-packages\\scipy\\stats\\_continuous_distns.py:2688: RuntimeWarning: The shape parameter of the erlang distribution has been given a non-integer value 5.855667589234552.\n",
      "  RuntimeWarning)\n",
      "C:\\Users\\julio\\Anaconda3\\lib\\site-packages\\scipy\\stats\\_continuous_distns.py:2688: RuntimeWarning: The shape parameter of the erlang distribution has been given a non-integer value 5.615236328249209.\n",
      "  RuntimeWarning)\n",
      "C:\\Users\\julio\\Anaconda3\\lib\\site-packages\\scipy\\stats\\_continuous_distns.py:2688: RuntimeWarning: The shape parameter of the erlang distribution has been given a non-integer value 5.361828126349618.\n",
      "  RuntimeWarning)\n",
      "C:\\Users\\julio\\Anaconda3\\lib\\site-packages\\scipy\\stats\\_continuous_distns.py:2688: RuntimeWarning: The shape parameter of the erlang distribution has been given a non-integer value 5.6744546709601345.\n",
      "  RuntimeWarning)\n",
      "C:\\Users\\julio\\Anaconda3\\lib\\site-packages\\scipy\\stats\\_continuous_distns.py:2688: RuntimeWarning: The shape parameter of the erlang distribution has been given a non-integer value 5.629809461827296.\n",
      "  RuntimeWarning)\n",
      "C:\\Users\\julio\\Anaconda3\\lib\\site-packages\\scipy\\stats\\_continuous_distns.py:2688: RuntimeWarning: The shape parameter of the erlang distribution has been given a non-integer value 6.255025857488111.\n",
      "  RuntimeWarning)\n",
      "C:\\Users\\julio\\Anaconda3\\lib\\site-packages\\scipy\\stats\\_continuous_distns.py:2688: RuntimeWarning: The shape parameter of the erlang distribution has been given a non-integer value 5.585127559134241.\n",
      "  RuntimeWarning)\n",
      "C:\\Users\\julio\\Anaconda3\\lib\\site-packages\\scipy\\stats\\_continuous_distns.py:2688: RuntimeWarning: The shape parameter of the erlang distribution has been given a non-integer value 5.03988038046041.\n",
      "  RuntimeWarning)\n",
      "C:\\Users\\julio\\Anaconda3\\lib\\site-packages\\scipy\\stats\\_continuous_distns.py:2688: RuntimeWarning: The shape parameter of the erlang distribution has been given a non-integer value 4.46970297785057.\n",
      "  RuntimeWarning)\n",
      "C:\\Users\\julio\\Anaconda3\\lib\\site-packages\\scipy\\stats\\_continuous_distns.py:2688: RuntimeWarning: The shape parameter of the erlang distribution has been given a non-integer value 4.8913716194838095.\n",
      "  RuntimeWarning)\n",
      "C:\\Users\\julio\\Anaconda3\\lib\\site-packages\\scipy\\stats\\_continuous_distns.py:2688: RuntimeWarning: The shape parameter of the erlang distribution has been given a non-integer value 4.544493649658595.\n",
      "  RuntimeWarning)\n",
      "C:\\Users\\julio\\Anaconda3\\lib\\site-packages\\scipy\\stats\\_continuous_distns.py:2688: RuntimeWarning: The shape parameter of the erlang distribution has been given a non-integer value 4.147434397975099.\n",
      "  RuntimeWarning)\n",
      "C:\\Users\\julio\\Anaconda3\\lib\\site-packages\\scipy\\stats\\_continuous_distns.py:2688: RuntimeWarning: The shape parameter of the erlang distribution has been given a non-integer value 3.413533432838044.\n",
      "  RuntimeWarning)\n",
      "C:\\Users\\julio\\Anaconda3\\lib\\site-packages\\scipy\\stats\\_continuous_distns.py:2688: RuntimeWarning: The shape parameter of the erlang distribution has been given a non-integer value 2.655343911737509.\n",
      "  RuntimeWarning)\n",
      "C:\\Users\\julio\\Anaconda3\\lib\\site-packages\\scipy\\stats\\_continuous_distns.py:2688: RuntimeWarning: The shape parameter of the erlang distribution has been given a non-integer value 4.886193074304849.\n",
      "  RuntimeWarning)\n",
      "C:\\Users\\julio\\Anaconda3\\lib\\site-packages\\scipy\\stats\\_continuous_distns.py:2688: RuntimeWarning: The shape parameter of the erlang distribution has been given a non-integer value 4.093110460017089.\n",
      "  RuntimeWarning)\n",
      "C:\\Users\\julio\\Anaconda3\\lib\\site-packages\\scipy\\stats\\_continuous_distns.py:2688: RuntimeWarning: The shape parameter of the erlang distribution has been given a non-integer value 3.147898620704302.\n",
      "  RuntimeWarning)\n",
      "C:\\Users\\julio\\Anaconda3\\lib\\site-packages\\scipy\\stats\\_continuous_distns.py:2688: RuntimeWarning: The shape parameter of the erlang distribution has been given a non-integer value 2.2787513939040274.\n",
      "  RuntimeWarning)\n",
      "C:\\Users\\julio\\Anaconda3\\lib\\site-packages\\scipy\\stats\\_continuous_distns.py:2688: RuntimeWarning: The shape parameter of the erlang distribution has been given a non-integer value 3.310840008783538.\n",
      "  RuntimeWarning)\n",
      "C:\\Users\\julio\\Anaconda3\\lib\\site-packages\\scipy\\stats\\_continuous_distns.py:2688: RuntimeWarning: The shape parameter of the erlang distribution has been given a non-integer value 2.0370210585586612.\n",
      "  RuntimeWarning)\n",
      "C:\\Users\\julio\\Anaconda3\\lib\\site-packages\\scipy\\stats\\_continuous_distns.py:2688: RuntimeWarning: The shape parameter of the erlang distribution has been given a non-integer value 3.9176255018836112.\n",
      "  RuntimeWarning)\n",
      "C:\\Users\\julio\\Anaconda3\\lib\\site-packages\\scipy\\stats\\_continuous_distns.py:2688: RuntimeWarning: The shape parameter of the erlang distribution has been given a non-integer value 3.675198361500433.\n",
      "  RuntimeWarning)\n",
      "C:\\Users\\julio\\Anaconda3\\lib\\site-packages\\scipy\\stats\\_continuous_distns.py:2688: RuntimeWarning: The shape parameter of the erlang distribution has been given a non-integer value 3.5841087733212094.\n",
      "  RuntimeWarning)\n",
      "C:\\Users\\julio\\Anaconda3\\lib\\site-packages\\scipy\\stats\\_continuous_distns.py:2688: RuntimeWarning: The shape parameter of the erlang distribution has been given a non-integer value 3.6862218311013706.\n",
      "  RuntimeWarning)\n",
      "C:\\Users\\julio\\Anaconda3\\lib\\site-packages\\scipy\\stats\\_continuous_distns.py:2688: RuntimeWarning: The shape parameter of the erlang distribution has been given a non-integer value 3.027860648200977.\n",
      "  RuntimeWarning)\n",
      "C:\\Users\\julio\\Anaconda3\\lib\\site-packages\\scipy\\stats\\_continuous_distns.py:2688: RuntimeWarning: The shape parameter of the erlang distribution has been given a non-integer value 2.9905452933498893.\n",
      "  RuntimeWarning)\n",
      "C:\\Users\\julio\\Anaconda3\\lib\\site-packages\\scipy\\stats\\_continuous_distns.py:2688: RuntimeWarning: The shape parameter of the erlang distribution has been given a non-integer value 2.6937635533642297.\n",
      "  RuntimeWarning)\n",
      "C:\\Users\\julio\\Anaconda3\\lib\\site-packages\\scipy\\stats\\_continuous_distns.py:2688: RuntimeWarning: The shape parameter of the erlang distribution has been given a non-integer value 3.324062021912291.\n",
      "  RuntimeWarning)\n",
      "C:\\Users\\julio\\Anaconda3\\lib\\site-packages\\scipy\\stats\\_continuous_distns.py:2688: RuntimeWarning: The shape parameter of the erlang distribution has been given a non-integer value 2.424260966219177.\n",
      "  RuntimeWarning)\n",
      "C:\\Users\\julio\\Anaconda3\\lib\\site-packages\\scipy\\stats\\_continuous_distns.py:2688: RuntimeWarning: The shape parameter of the erlang distribution has been given a non-integer value 1.7932805337780806.\n",
      "  RuntimeWarning)\n",
      "C:\\Users\\julio\\Anaconda3\\lib\\site-packages\\scipy\\stats\\_continuous_distns.py:2688: RuntimeWarning: The shape parameter of the erlang distribution has been given a non-integer value 2.4801590736261634.\n",
      "  RuntimeWarning)\n",
      "C:\\Users\\julio\\Anaconda3\\lib\\site-packages\\scipy\\stats\\_continuous_distns.py:2688: RuntimeWarning: The shape parameter of the erlang distribution has been given a non-integer value 2.146289300087094.\n",
      "  RuntimeWarning)\n",
      "C:\\Users\\julio\\Anaconda3\\lib\\site-packages\\scipy\\stats\\_continuous_distns.py:2688: RuntimeWarning: The shape parameter of the erlang distribution has been given a non-integer value 1.518813857868043.\n",
      "  RuntimeWarning)\n",
      "C:\\Users\\julio\\Anaconda3\\lib\\site-packages\\scipy\\stats\\_continuous_distns.py:2688: RuntimeWarning: The shape parameter of the erlang distribution has been given a non-integer value 1.3658125294186467.\n",
      "  RuntimeWarning)\n",
      "C:\\Users\\julio\\Anaconda3\\lib\\site-packages\\scipy\\stats\\_continuous_distns.py:2688: RuntimeWarning: The shape parameter of the erlang distribution has been given a non-integer value 0.7018370174458557.\n",
      "  RuntimeWarning)\n",
      "C:\\Users\\julio\\Anaconda3\\lib\\site-packages\\scipy\\stats\\_continuous_distns.py:2688: RuntimeWarning: The shape parameter of the erlang distribution has been given a non-integer value 0.9296828253633458.\n",
      "  RuntimeWarning)\n",
      "C:\\Users\\julio\\Anaconda3\\lib\\site-packages\\scipy\\stats\\_continuous_distns.py:2688: RuntimeWarning: The shape parameter of the erlang distribution has been given a non-integer value 2.0506164310052193.\n",
      "  RuntimeWarning)\n",
      "C:\\Users\\julio\\Anaconda3\\lib\\site-packages\\scipy\\stats\\_continuous_distns.py:2688: RuntimeWarning: The shape parameter of the erlang distribution has been given a non-integer value 2.1896649824725976.\n",
      "  RuntimeWarning)\n",
      "C:\\Users\\julio\\Anaconda3\\lib\\site-packages\\scipy\\stats\\_continuous_distns.py:2688: RuntimeWarning: The shape parameter of the erlang distribution has been given a non-integer value 1.750561443647006.\n",
      "  RuntimeWarning)\n",
      "C:\\Users\\julio\\Anaconda3\\lib\\site-packages\\scipy\\stats\\_continuous_distns.py:2688: RuntimeWarning: The shape parameter of the erlang distribution has been given a non-integer value 1.3187771996292335.\n",
      "  RuntimeWarning)\n",
      "C:\\Users\\julio\\Anaconda3\\lib\\site-packages\\scipy\\stats\\_continuous_distns.py:2688: RuntimeWarning: The shape parameter of the erlang distribution has been given a non-integer value 0.8833333082075514.\n",
      "  RuntimeWarning)\n",
      "C:\\Users\\julio\\Anaconda3\\lib\\site-packages\\scipy\\stats\\_continuous_distns.py:2688: RuntimeWarning: The shape parameter of the erlang distribution has been given a non-integer value 0.8104781483761632.\n",
      "  RuntimeWarning)\n"
     ]
    },
    {
     "name": "stderr",
     "output_type": "stream",
     "text": [
      "C:\\Users\\julio\\Anaconda3\\lib\\site-packages\\scipy\\stats\\_continuous_distns.py:2688: RuntimeWarning: The shape parameter of the erlang distribution has been given a non-integer value 1.8123365121593613.\n",
      "  RuntimeWarning)\n",
      "C:\\Users\\julio\\Anaconda3\\lib\\site-packages\\scipy\\stats\\_continuous_distns.py:2688: RuntimeWarning: The shape parameter of the erlang distribution has been given a non-integer value 1.144430936303896.\n",
      "  RuntimeWarning)\n",
      "C:\\Users\\julio\\Anaconda3\\lib\\site-packages\\scipy\\stats\\_continuous_distns.py:2688: RuntimeWarning: The shape parameter of the erlang distribution has been given a non-integer value 0.8104781483761636.\n",
      "  RuntimeWarning)\n",
      "C:\\Users\\julio\\Anaconda3\\lib\\site-packages\\scipy\\stats\\_continuous_distns.py:2688: RuntimeWarning: The shape parameter of the erlang distribution has been given a non-integer value 0.8021189999208449.\n",
      "  RuntimeWarning)\n",
      "C:\\Users\\julio\\Anaconda3\\lib\\site-packages\\scipy\\stats\\_continuous_distns.py:2688: RuntimeWarning: The shape parameter of the erlang distribution has been given a non-integer value 1.5134508327154657.\n",
      "  RuntimeWarning)\n",
      "C:\\Users\\julio\\Anaconda3\\lib\\site-packages\\scipy\\stats\\_continuous_distns.py:2688: RuntimeWarning: The shape parameter of the erlang distribution has been given a non-integer value 1.0392296108523853.\n",
      "  RuntimeWarning)\n",
      "C:\\Users\\julio\\Anaconda3\\lib\\site-packages\\scipy\\stats\\_continuous_distns.py:2688: RuntimeWarning: The shape parameter of the erlang distribution has been given a non-integer value 1.3948955272496955.\n",
      "  RuntimeWarning)\n",
      "C:\\Users\\julio\\Anaconda3\\lib\\site-packages\\scipy\\stats\\_continuous_distns.py:2688: RuntimeWarning: The shape parameter of the erlang distribution has been given a non-integer value 1.2062565793699034.\n",
      "  RuntimeWarning)\n",
      "C:\\Users\\julio\\Anaconda3\\lib\\site-packages\\scipy\\stats\\_continuous_distns.py:2688: RuntimeWarning: The shape parameter of the erlang distribution has been given a non-integer value 1.1782781623197631.\n",
      "  RuntimeWarning)\n",
      "C:\\Users\\julio\\Anaconda3\\lib\\site-packages\\scipy\\stats\\_continuous_distns.py:2688: RuntimeWarning: The shape parameter of the erlang distribution has been given a non-integer value 0.9577482580793464.\n",
      "  RuntimeWarning)\n",
      "C:\\Users\\julio\\Anaconda3\\lib\\site-packages\\scipy\\stats\\_continuous_distns.py:2688: RuntimeWarning: The shape parameter of the erlang distribution has been given a non-integer value 1.285608709957108.\n",
      "  RuntimeWarning)\n",
      "C:\\Users\\julio\\Anaconda3\\lib\\site-packages\\scipy\\stats\\_continuous_distns.py:2688: RuntimeWarning: The shape parameter of the erlang distribution has been given a non-integer value 1.0670350753719338.\n",
      "  RuntimeWarning)\n",
      "C:\\Users\\julio\\Anaconda3\\lib\\site-packages\\scipy\\stats\\_continuous_distns.py:2688: RuntimeWarning: The shape parameter of the erlang distribution has been given a non-integer value 0.9577482580793468.\n",
      "  RuntimeWarning)\n",
      "C:\\Users\\julio\\Anaconda3\\lib\\site-packages\\scipy\\stats\\_continuous_distns.py:2688: RuntimeWarning: The shape parameter of the erlang distribution has been given a non-integer value 1.053572869960492.\n",
      "  RuntimeWarning)\n",
      "C:\\Users\\julio\\Anaconda3\\lib\\site-packages\\scipy\\stats\\_continuous_distns.py:2688: RuntimeWarning: The shape parameter of the erlang distribution has been given a non-integer value 0.9984144254377849.\n",
      "  RuntimeWarning)\n",
      "C:\\Users\\julio\\Anaconda3\\lib\\site-packages\\scipy\\stats\\_continuous_distns.py:2688: RuntimeWarning: The shape parameter of the erlang distribution has been given a non-integer value 1.1333122280992685.\n",
      "  RuntimeWarning)\n",
      "C:\\Users\\julio\\Anaconda3\\lib\\site-packages\\scipy\\stats\\_continuous_distns.py:2688: RuntimeWarning: The shape parameter of the erlang distribution has been given a non-integer value 1.0248491793172336.\n",
      "  RuntimeWarning)\n",
      "C:\\Users\\julio\\Anaconda3\\lib\\site-packages\\scipy\\stats\\_continuous_distns.py:2688: RuntimeWarning: The shape parameter of the erlang distribution has been given a non-integer value 0.9650583008239026.\n",
      "  RuntimeWarning)\n",
      "C:\\Users\\julio\\Anaconda3\\lib\\site-packages\\scipy\\stats\\_continuous_distns.py:2688: RuntimeWarning: The shape parameter of the erlang distribution has been given a non-integer value 0.9237986026716172.\n",
      "  RuntimeWarning)\n",
      "C:\\Users\\julio\\Anaconda3\\lib\\site-packages\\scipy\\stats\\_continuous_distns.py:2688: RuntimeWarning: The shape parameter of the erlang distribution has been given a non-integer value 1.0809338217423556.\n",
      "  RuntimeWarning)\n",
      "C:\\Users\\julio\\Anaconda3\\lib\\site-packages\\scipy\\stats\\_continuous_distns.py:2688: RuntimeWarning: The shape parameter of the erlang distribution has been given a non-integer value 0.97617700902853.\n",
      "  RuntimeWarning)\n",
      "C:\\Users\\julio\\Anaconda3\\lib\\site-packages\\scipy\\stats\\_continuous_distns.py:2688: RuntimeWarning: The shape parameter of the erlang distribution has been given a non-integer value 0.9519407201890857.\n",
      "  RuntimeWarning)\n",
      "C:\\Users\\julio\\Anaconda3\\lib\\site-packages\\scipy\\stats\\_continuous_distns.py:2688: RuntimeWarning: The shape parameter of the erlang distribution has been given a non-integer value 1.0281648325176405.\n",
      "  RuntimeWarning)\n",
      "C:\\Users\\julio\\Anaconda3\\lib\\site-packages\\scipy\\stats\\_continuous_distns.py:2688: RuntimeWarning: The shape parameter of the erlang distribution has been given a non-integer value 0.9125650195414485.\n",
      "  RuntimeWarning)\n",
      "C:\\Users\\julio\\Anaconda3\\lib\\site-packages\\scipy\\stats\\_continuous_distns.py:2688: RuntimeWarning: The shape parameter of the erlang distribution has been given a non-integer value 0.8743687204116137.\n",
      "  RuntimeWarning)\n",
      "C:\\Users\\julio\\Anaconda3\\lib\\site-packages\\scipy\\stats\\_continuous_distns.py:2688: RuntimeWarning: The shape parameter of the erlang distribution has been given a non-integer value 0.7974706643586003.\n",
      "  RuntimeWarning)\n",
      "C:\\Users\\julio\\Anaconda3\\lib\\site-packages\\scipy\\stats\\_continuous_distns.py:2688: RuntimeWarning: The shape parameter of the erlang distribution has been given a non-integer value 0.8257501611284832.\n",
      "  RuntimeWarning)\n",
      "C:\\Users\\julio\\Anaconda3\\lib\\site-packages\\scipy\\stats\\_continuous_distns.py:2688: RuntimeWarning: The shape parameter of the erlang distribution has been given a non-integer value 0.8203668701356273.\n",
      "  RuntimeWarning)\n",
      "C:\\Users\\julio\\Anaconda3\\lib\\site-packages\\scipy\\stats\\_continuous_distns.py:2688: RuntimeWarning: The shape parameter of the erlang distribution has been given a non-integer value 0.8895154821899932.\n",
      "  RuntimeWarning)\n",
      "C:\\Users\\julio\\Anaconda3\\lib\\site-packages\\scipy\\stats\\_continuous_distns.py:2688: RuntimeWarning: The shape parameter of the erlang distribution has been given a non-integer value 0.6989805294228544.\n",
      "  RuntimeWarning)\n",
      "C:\\Users\\julio\\Anaconda3\\lib\\site-packages\\scipy\\stats\\_continuous_distns.py:2688: RuntimeWarning: The shape parameter of the erlang distribution has been given a non-integer value 0.5603822896200166.\n",
      "  RuntimeWarning)\n",
      "C:\\Users\\julio\\Anaconda3\\lib\\site-packages\\scipy\\stats\\_continuous_distns.py:2688: RuntimeWarning: The shape parameter of the erlang distribution has been given a non-integer value 0.6586187544166319.\n",
      "  RuntimeWarning)\n",
      "C:\\Users\\julio\\Anaconda3\\lib\\site-packages\\scipy\\stats\\_continuous_distns.py:2688: RuntimeWarning: The shape parameter of the erlang distribution has been given a non-integer value 0.8317913002466528.\n",
      "  RuntimeWarning)\n",
      "C:\\Users\\julio\\Anaconda3\\lib\\site-packages\\scipy\\stats\\_continuous_distns.py:2688: RuntimeWarning: The shape parameter of the erlang distribution has been given a non-integer value 0.7163429363599723.\n",
      "  RuntimeWarning)\n",
      "C:\\Users\\julio\\Anaconda3\\lib\\site-packages\\scipy\\stats\\_continuous_distns.py:2688: RuntimeWarning: The shape parameter of the erlang distribution has been given a non-integer value 0.8029292092749827.\n",
      "  RuntimeWarning)\n",
      "C:\\Users\\julio\\Anaconda3\\lib\\site-packages\\scipy\\stats\\_continuous_distns.py:2688: RuntimeWarning: The shape parameter of the erlang distribution has been given a non-integer value 0.7452050273316424.\n",
      "  RuntimeWarning)\n",
      "C:\\Users\\julio\\Anaconda3\\lib\\site-packages\\scipy\\stats\\_continuous_distns.py:2688: RuntimeWarning: The shape parameter of the erlang distribution has been given a non-integer value 0.6686873196135814.\n",
      "  RuntimeWarning)\n",
      "C:\\Users\\julio\\Anaconda3\\lib\\site-packages\\scipy\\stats\\_continuous_distns.py:2688: RuntimeWarning: The shape parameter of the erlang distribution has been given a non-integer value 0.7864844507497577.\n",
      "  RuntimeWarning)\n",
      "C:\\Users\\julio\\Anaconda3\\lib\\site-packages\\scipy\\stats\\_continuous_distns.py:2688: RuntimeWarning: The shape parameter of the erlang distribution has been given a non-integer value 0.7079530299923069.\n",
      "  RuntimeWarning)\n",
      "C:\\Users\\julio\\Anaconda3\\lib\\site-packages\\scipy\\stats\\_continuous_distns.py:2688: RuntimeWarning: The shape parameter of the erlang distribution has been given a non-integer value 0.6686873196135816.\n",
      "  RuntimeWarning)\n",
      "C:\\Users\\julio\\Anaconda3\\lib\\site-packages\\scipy\\stats\\_continuous_distns.py:2688: RuntimeWarning: The shape parameter of the erlang distribution has been given a non-integer value 0.6372883934726024.\n",
      "  RuntimeWarning)\n",
      "C:\\Users\\julio\\Anaconda3\\lib\\site-packages\\scipy\\stats\\_continuous_distns.py:2688: RuntimeWarning: The shape parameter of the erlang distribution has been given a non-integer value 0.5571972580296034.\n",
      "  RuntimeWarning)\n",
      "C:\\Users\\julio\\Anaconda3\\lib\\site-packages\\scipy\\stats\\_continuous_distns.py:2688: RuntimeWarning: The shape parameter of the erlang distribution has been given a non-integer value 0.6946504377748468.\n",
      "  RuntimeWarning)\n",
      "C:\\Users\\julio\\Anaconda3\\lib\\site-packages\\scipy\\stats\\_continuous_distns.py:2688: RuntimeWarning: The shape parameter of the erlang distribution has been given a non-integer value 0.6978980065108524.\n",
      "  RuntimeWarning)\n",
      "C:\\Users\\julio\\Anaconda3\\lib\\site-packages\\scipy\\stats\\_continuous_distns.py:2688: RuntimeWarning: The shape parameter of the erlang distribution has been given a non-integer value 0.6957329606868488.\n",
      "  RuntimeWarning)\n",
      "C:\\Users\\julio\\Anaconda3\\lib\\site-packages\\scipy\\stats\\_continuous_distns.py:2688: RuntimeWarning: The shape parameter of the erlang distribution has been given a non-integer value 0.6973567450548515.\n",
      "  RuntimeWarning)\n",
      "C:\\Users\\julio\\Anaconda3\\lib\\site-packages\\scipy\\stats\\_continuous_distns.py:2688: RuntimeWarning: The shape parameter of the erlang distribution has been given a non-integer value 0.6962742221428497.\n",
      "  RuntimeWarning)\n",
      "C:\\Users\\julio\\Anaconda3\\lib\\site-packages\\scipy\\stats\\_continuous_distns.py:2688: RuntimeWarning: The shape parameter of the erlang distribution has been given a non-integer value 0.697086114326851.\n",
      "  RuntimeWarning)\n",
      "C:\\Users\\julio\\Anaconda3\\lib\\site-packages\\scipy\\stats\\_continuous_distns.py:2688: RuntimeWarning: The shape parameter of the erlang distribution has been given a non-integer value 0.616346664529531.\n",
      "  RuntimeWarning)\n",
      "C:\\Users\\julio\\Anaconda3\\lib\\site-packages\\scipy\\stats\\_continuous_distns.py:2688: RuntimeWarning: The shape parameter of the erlang distribution has been given a non-integer value 0.6106392776694425.\n",
      "  RuntimeWarning)\n",
      "C:\\Users\\julio\\Anaconda3\\lib\\site-packages\\scipy\\stats\\_continuous_distns.py:2688: RuntimeWarning: The shape parameter of the erlang distribution has been given a non-integer value 0.5674158593407381.\n",
      "  RuntimeWarning)\n",
      "C:\\Users\\julio\\Anaconda3\\lib\\site-packages\\scipy\\stats\\_continuous_distns.py:2688: RuntimeWarning: The shape parameter of the erlang distribution has been given a non-integer value 0.5348965271220769.\n",
      "  RuntimeWarning)\n",
      "C:\\Users\\julio\\Anaconda3\\lib\\site-packages\\scipy\\stats\\_continuous_distns.py:2688: RuntimeWarning: The shape parameter of the erlang distribution has been given a non-integer value 0.448368275686962.\n",
      "  RuntimeWarning)\n",
      "C:\\Users\\julio\\Anaconda3\\lib\\site-packages\\scipy\\stats\\_continuous_distns.py:2688: RuntimeWarning: The shape parameter of the erlang distribution has been given a non-integer value 0.5145173000231402.\n",
      "  RuntimeWarning)\n"
     ]
    },
    {
     "name": "stderr",
     "output_type": "stream",
     "text": [
      "C:\\Users\\julio\\Anaconda3\\lib\\site-packages\\scipy\\stats\\_continuous_distns.py:2688: RuntimeWarning: The shape parameter of the erlang distribution has been given a non-integer value 0.5908893234029333.\n",
      "  RuntimeWarning)\n",
      "C:\\Users\\julio\\Anaconda3\\lib\\site-packages\\scipy\\stats\\_continuous_distns.py:2688: RuntimeWarning: The shape parameter of the erlang distribution has been given a non-integer value 0.46264285770028946.\n",
      "  RuntimeWarning)\n",
      "C:\\Users\\julio\\Anaconda3\\lib\\site-packages\\scipy\\stats\\_continuous_distns.py:2688: RuntimeWarning: The shape parameter of the erlang distribution has been given a non-integer value 0.423544283968196.\n",
      "  RuntimeWarning)\n",
      "C:\\Users\\julio\\Anaconda3\\lib\\site-packages\\scipy\\stats\\_continuous_distns.py:2688: RuntimeWarning: The shape parameter of the erlang distribution has been given a non-integer value 0.549053063544249.\n",
      "  RuntimeWarning)\n",
      "C:\\Users\\julio\\Anaconda3\\lib\\site-packages\\scipy\\stats\\_continuous_distns.py:2688: RuntimeWarning: The shape parameter of the erlang distribution has been given a non-integer value 0.3627368536182245.\n",
      "  RuntimeWarning)\n",
      "C:\\Users\\julio\\Anaconda3\\lib\\site-packages\\scipy\\stats\\_continuous_distns.py:2688: RuntimeWarning: The shape parameter of the erlang distribution has been given a non-integer value 0.2387856415926155.\n",
      "  RuntimeWarning)\n",
      "C:\\Users\\julio\\Anaconda3\\lib\\site-packages\\scipy\\stats\\_continuous_distns.py:2688: RuntimeWarning: The shape parameter of the erlang distribution has been given a non-integer value 0.30011226112606837.\n",
      "  RuntimeWarning)\n",
      "C:\\Users\\julio\\Anaconda3\\lib\\site-packages\\scipy\\stats\\_continuous_distns.py:2688: RuntimeWarning: The shape parameter of the erlang distribution has been given a non-integer value 0.175641859916978.\n",
      "  RuntimeWarning)\n",
      "C:\\Users\\julio\\Anaconda3\\lib\\site-packages\\scipy\\stats\\_continuous_distns.py:2688: RuntimeWarning: The shape parameter of the erlang distribution has been given a non-integer value 0.27816873592054703.\n",
      "  RuntimeWarning)\n",
      "C:\\Users\\julio\\Anaconda3\\lib\\site-packages\\scipy\\stats\\_continuous_distns.py:2688: RuntimeWarning: The shape parameter of the erlang distribution has been given a non-integer value 0.1789769580895979.\n",
      "  RuntimeWarning)\n",
      "C:\\Users\\julio\\Anaconda3\\lib\\site-packages\\scipy\\stats\\_continuous_distns.py:2688: RuntimeWarning: The shape parameter of the erlang distribution has been given a non-integer value 0.14210178313925104.\n",
      "  RuntimeWarning)\n",
      "C:\\Users\\julio\\Anaconda3\\lib\\site-packages\\scipy\\stats\\_continuous_distns.py:2688: RuntimeWarning: The shape parameter of the erlang distribution has been given a non-integer value 0.30757808599848113.\n",
      "  RuntimeWarning)\n",
      "C:\\Users\\julio\\Anaconda3\\lib\\site-packages\\scipy\\stats\\_continuous_distns.py:2688: RuntimeWarning: The shape parameter of the erlang distribution has been given a non-integer value 0.1972605507589944.\n",
      "  RuntimeWarning)\n",
      "C:\\Users\\julio\\Anaconda3\\lib\\site-packages\\scipy\\stats\\_continuous_distns.py:2688: RuntimeWarning: The shape parameter of the erlang distribution has been given a non-integer value 0.17273111072922676.\n",
      "  RuntimeWarning)\n",
      "C:\\Users\\julio\\Anaconda3\\lib\\site-packages\\scipy\\stats\\_continuous_distns.py:2688: RuntimeWarning: The shape parameter of the erlang distribution has been given a non-integer value 0.25180932962271696.\n",
      "  RuntimeWarning)\n",
      "C:\\Users\\julio\\Anaconda3\\lib\\site-packages\\scipy\\stats\\_continuous_distns.py:2688: RuntimeWarning: The shape parameter of the erlang distribution has been given a non-integer value 0.3204778029155886.\n",
      "  RuntimeWarning)\n",
      "C:\\Users\\julio\\Anaconda3\\lib\\site-packages\\scipy\\stats\\_continuous_distns.py:2688: RuntimeWarning: The shape parameter of the erlang distribution has been given a non-integer value 0.3912282253285839.\n",
      "  RuntimeWarning)\n",
      "C:\\Users\\julio\\Anaconda3\\lib\\site-packages\\scipy\\stats\\_continuous_distns.py:2688: RuntimeWarning: The shape parameter of the erlang distribution has been given a non-integer value 0.2934244135777173.\n",
      "  RuntimeWarning)\n",
      "C:\\Users\\julio\\Anaconda3\\lib\\site-packages\\scipy\\stats\\_continuous_distns.py:2688: RuntimeWarning: The shape parameter of the erlang distribution has been given a non-integer value 0.2622131006114671.\n",
      "  RuntimeWarning)\n",
      "C:\\Users\\julio\\Anaconda3\\lib\\site-packages\\scipy\\stats\\_continuous_distns.py:2688: RuntimeWarning: The shape parameter of the erlang distribution has been given a non-integer value 0.2830206425889672.\n",
      "  RuntimeWarning)\n",
      "C:\\Users\\julio\\Anaconda3\\lib\\site-packages\\scipy\\stats\\_continuous_distns.py:2688: RuntimeWarning: The shape parameter of the erlang distribution has been given a non-integer value 0.26741498610584213.\n",
      "  RuntimeWarning)\n",
      "C:\\Users\\julio\\Anaconda3\\lib\\site-packages\\scipy\\stats\\_continuous_distns.py:2688: RuntimeWarning: The shape parameter of the erlang distribution has been given a non-integer value 0.2233232987275484.\n",
      "  RuntimeWarning)\n",
      "C:\\Users\\julio\\Anaconda3\\lib\\site-packages\\scipy\\stats\\_continuous_distns.py:2688: RuntimeWarning: The shape parameter of the erlang distribution has been given a non-integer value 0.18492881752828838.\n",
      "  RuntimeWarning)\n",
      "C:\\Users\\julio\\Anaconda3\\lib\\site-packages\\scipy\\stats\\_continuous_distns.py:2688: RuntimeWarning: The shape parameter of the erlang distribution has been given a non-integer value 0.22662611549557882.\n",
      "  RuntimeWarning)\n",
      "C:\\Users\\julio\\Anaconda3\\lib\\site-packages\\scipy\\stats\\_continuous_distns.py:2688: RuntimeWarning: The shape parameter of the erlang distribution has been given a non-integer value 0.2572177684532763.\n",
      "  RuntimeWarning)\n",
      "C:\\Users\\julio\\Anaconda3\\lib\\site-packages\\scipy\\stats\\_continuous_distns.py:2688: RuntimeWarning: The shape parameter of the erlang distribution has been given a non-integer value 0.23682333314814463.\n",
      "  RuntimeWarning)\n",
      "C:\\Users\\julio\\Anaconda3\\lib\\site-packages\\scipy\\stats\\_continuous_distns.py:2688: RuntimeWarning: The shape parameter of the erlang distribution has been given a non-integer value 0.2521191596269934.\n",
      "  RuntimeWarning)\n",
      "C:\\Users\\julio\\Anaconda3\\lib\\site-packages\\scipy\\stats\\_continuous_distns.py:2688: RuntimeWarning: The shape parameter of the erlang distribution has been given a non-integer value 0.3333529567544259.\n",
      "  RuntimeWarning)\n",
      "C:\\Users\\julio\\Anaconda3\\lib\\site-packages\\scipy\\stats\\_continuous_distns.py:2688: RuntimeWarning: The shape parameter of the erlang distribution has been given a non-integer value 0.4013991597521416.\n",
      "  RuntimeWarning)\n",
      "C:\\Users\\julio\\Anaconda3\\lib\\site-packages\\scipy\\stats\\_continuous_distns.py:2688: RuntimeWarning: The shape parameter of the erlang distribution has been given a non-integer value 0.3326502126380485.\n",
      "  RuntimeWarning)\n",
      "C:\\Users\\julio\\Anaconda3\\lib\\site-packages\\scipy\\stats\\_continuous_distns.py:2688: RuntimeWarning: The shape parameter of the erlang distribution has been given a non-integer value 0.2722519228797572.\n",
      "  RuntimeWarning)\n",
      "C:\\Users\\julio\\Anaconda3\\lib\\site-packages\\scipy\\stats\\_continuous_distns.py:2688: RuntimeWarning: The shape parameter of the erlang distribution has been given a non-integer value 0.3125174493852847.\n",
      "  RuntimeWarning)\n",
      "C:\\Users\\julio\\Anaconda3\\lib\\site-packages\\scipy\\stats\\_continuous_distns.py:2688: RuntimeWarning: The shape parameter of the erlang distribution has been given a non-integer value 0.28231830450613904.\n",
      "  RuntimeWarning)\n",
      "C:\\Users\\julio\\Anaconda3\\lib\\site-packages\\scipy\\stats\\_continuous_distns.py:2688: RuntimeWarning: The shape parameter of the erlang distribution has been given a non-integer value 0.23885190374315368.\n",
      "  RuntimeWarning)\n",
      "C:\\Users\\julio\\Anaconda3\\lib\\site-packages\\scipy\\stats\\_continuous_distns.py:2688: RuntimeWarning: The shape parameter of the erlang distribution has been given a non-integer value 0.1980389541569363.\n",
      "  RuntimeWarning)\n",
      "C:\\Users\\julio\\Anaconda3\\lib\\site-packages\\scipy\\stats\\_continuous_distns.py:2688: RuntimeWarning: The shape parameter of the erlang distribution has been given a non-integer value 0.24803380164394628.\n",
      "  RuntimeWarning)\n",
      "C:\\Users\\julio\\Anaconda3\\lib\\site-packages\\scipy\\stats\\_continuous_distns.py:2688: RuntimeWarning: The shape parameter of the erlang distribution has been given a non-integer value 0.27374717879059085.\n",
      "  RuntimeWarning)\n",
      "C:\\Users\\julio\\Anaconda3\\lib\\site-packages\\scipy\\stats\\_continuous_distns.py:2688: RuntimeWarning: The shape parameter of the erlang distribution has been given a non-integer value 0.2566049273594945.\n",
      "  RuntimeWarning)\n",
      "C:\\Users\\julio\\Anaconda3\\lib\\site-packages\\scipy\\stats\\_continuous_distns.py:2688: RuntimeWarning: The shape parameter of the erlang distribution has been given a non-integer value 0.26946161593281676.\n",
      "  RuntimeWarning)\n",
      "C:\\Users\\julio\\Anaconda3\\lib\\site-packages\\scipy\\stats\\_continuous_distns.py:2688: RuntimeWarning: The shape parameter of the erlang distribution has been given a non-integer value 0.33778768555938243.\n",
      "  RuntimeWarning)\n",
      "C:\\Users\\julio\\Anaconda3\\lib\\site-packages\\scipy\\stats\\_continuous_distns.py:2688: RuntimeWarning: The shape parameter of the erlang distribution has been given a non-integer value 0.2519393954355069.\n",
      "  RuntimeWarning)\n",
      "C:\\Users\\julio\\Anaconda3\\lib\\site-packages\\scipy\\stats\\_continuous_distns.py:2688: RuntimeWarning: The shape parameter of the erlang distribution has been given a non-integer value 0.2799678880225743.\n",
      "  RuntimeWarning)\n",
      "C:\\Users\\julio\\Anaconda3\\lib\\site-packages\\scipy\\stats\\_continuous_distns.py:2688: RuntimeWarning: The shape parameter of the erlang distribution has been given a non-integer value 0.27208818395525614.\n",
      "  RuntimeWarning)\n",
      "C:\\Users\\julio\\Anaconda3\\lib\\site-packages\\scipy\\stats\\_continuous_distns.py:2688: RuntimeWarning: The shape parameter of the erlang distribution has been given a non-integer value 0.3109226341997169.\n",
      "  RuntimeWarning)\n",
      "C:\\Users\\julio\\Anaconda3\\lib\\site-packages\\scipy\\stats\\_continuous_distns.py:2688: RuntimeWarning: The shape parameter of the erlang distribution has been given a non-integer value 0.2666852051265594.\n",
      "  RuntimeWarning)\n",
      "C:\\Users\\julio\\Anaconda3\\lib\\site-packages\\scipy\\stats\\_continuous_distns.py:2688: RuntimeWarning: The shape parameter of the erlang distribution has been given a non-integer value 0.2871718597941698.\n",
      "  RuntimeWarning)\n",
      "C:\\Users\\julio\\Anaconda3\\lib\\site-packages\\scipy\\stats\\_continuous_distns.py:2688: RuntimeWarning: The shape parameter of the erlang distribution has been given a non-integer value 0.27585910291498456.\n",
      "  RuntimeWarning)\n",
      "C:\\Users\\julio\\Anaconda3\\lib\\site-packages\\scipy\\stats\\_continuous_distns.py:2688: RuntimeWarning: The shape parameter of the erlang distribution has been given a non-integer value 0.29869077048181675.\n",
      "  RuntimeWarning)\n",
      "C:\\Users\\julio\\Anaconda3\\lib\\site-packages\\scipy\\stats\\_continuous_distns.py:2688: RuntimeWarning: The shape parameter of the erlang distribution has been given a non-integer value 0.27468659646537374.\n",
      "  RuntimeWarning)\n",
      "C:\\Users\\julio\\Anaconda3\\lib\\site-packages\\scipy\\stats\\_continuous_distns.py:2688: RuntimeWarning: The shape parameter of the erlang distribution has been given a non-integer value 0.28873520172698436.\n",
      "  RuntimeWarning)\n",
      "C:\\Users\\julio\\Anaconda3\\lib\\site-packages\\scipy\\stats\\_continuous_distns.py:2688: RuntimeWarning: The shape parameter of the erlang distribution has been given a non-integer value 0.2790781276179845.\n",
      "  RuntimeWarning)\n",
      "C:\\Users\\julio\\Anaconda3\\lib\\site-packages\\scipy\\stats\\_continuous_distns.py:2688: RuntimeWarning: The shape parameter of the erlang distribution has been given a non-integer value 0.29283539561166905.\n",
      "  RuntimeWarning)\n",
      "C:\\Users\\julio\\Anaconda3\\lib\\site-packages\\scipy\\stats\\_continuous_distns.py:2688: RuntimeWarning: The shape parameter of the erlang distribution has been given a non-integer value 0.2792237962519476.\n",
      "  RuntimeWarning)\n"
     ]
    },
    {
     "name": "stderr",
     "output_type": "stream",
     "text": [
      "C:\\Users\\julio\\Anaconda3\\lib\\site-packages\\scipy\\stats\\_continuous_distns.py:2688: RuntimeWarning: The shape parameter of the erlang distribution has been given a non-integer value 0.2885409768817003.\n",
      "  RuntimeWarning)\n",
      "C:\\Users\\julio\\Anaconda3\\lib\\site-packages\\scipy\\stats\\_continuous_distns.py:2688: RuntimeWarning: The shape parameter of the erlang distribution has been given a non-integer value 0.2814438399339134.\n",
      "  RuntimeWarning)\n",
      "C:\\Users\\julio\\Anaconda3\\lib\\site-packages\\scipy\\stats\\_continuous_distns.py:2688: RuntimeWarning: The shape parameter of the erlang distribution has been given a non-integer value 0.2898753373690477.\n",
      "  RuntimeWarning)\n",
      "C:\\Users\\julio\\Anaconda3\\lib\\site-packages\\scipy\\stats\\_continuous_distns.py:2688: RuntimeWarning: The shape parameter of the erlang distribution has been given a non-integer value 0.28188668153122265.\n",
      "  RuntimeWarning)\n",
      "C:\\Users\\julio\\Anaconda3\\lib\\site-packages\\scipy\\stats\\_continuous_distns.py:2688: RuntimeWarning: The shape parameter of the erlang distribution has been given a non-integer value 0.28795052141862143.\n",
      "  RuntimeWarning)\n",
      "C:\\Users\\julio\\Anaconda3\\lib\\site-packages\\scipy\\stats\\_continuous_distns.py:2688: RuntimeWarning: The shape parameter of the erlang distribution has been given a non-integer value 0.28307051030509045.\n",
      "  RuntimeWarning)\n",
      "C:\\Users\\julio\\Anaconda3\\lib\\site-packages\\scipy\\stats\\_continuous_distns.py:2688: RuntimeWarning: The shape parameter of the erlang distribution has been given a non-integer value 0.28829689900389066.\n",
      "  RuntimeWarning)\n",
      "C:\\Users\\julio\\Anaconda3\\lib\\site-packages\\scipy\\stats\\_continuous_distns.py:2688: RuntimeWarning: The shape parameter of the erlang distribution has been given a non-integer value 0.2834892358993897.\n",
      "  RuntimeWarning)\n",
      "C:\\Users\\julio\\Anaconda3\\lib\\site-packages\\scipy\\stats\\_continuous_distns.py:2688: RuntimeWarning: The shape parameter of the erlang distribution has been given a non-integer value 0.2873922206262224.\n",
      "  RuntimeWarning)\n",
      "C:\\Users\\julio\\Anaconda3\\lib\\site-packages\\scipy\\stats\\_continuous_distns.py:2688: RuntimeWarning: The shape parameter of the erlang distribution has been given a non-integer value 0.28415093788537343.\n",
      "  RuntimeWarning)\n",
      "C:\\Users\\julio\\Anaconda3\\lib\\site-packages\\scipy\\stats\\_continuous_distns.py:2688: RuntimeWarning: The shape parameter of the erlang distribution has been given a non-integer value 0.2874146296892457.\n",
      "  RuntimeWarning)\n",
      "C:\\Users\\julio\\Anaconda3\\lib\\site-packages\\scipy\\stats\\_continuous_distns.py:2688: RuntimeWarning: The shape parameter of the erlang distribution has been given a non-integer value 0.2844705843468537.\n",
      "  RuntimeWarning)\n",
      "C:\\Users\\julio\\Anaconda3\\lib\\site-packages\\scipy\\stats\\_continuous_distns.py:2688: RuntimeWarning: The shape parameter of the erlang distribution has been given a non-integer value 0.2869660253442487.\n",
      "  RuntimeWarning)\n",
      "C:\\Users\\julio\\Anaconda3\\lib\\site-packages\\scipy\\stats\\_continuous_distns.py:2688: RuntimeWarning: The shape parameter of the erlang distribution has been given a non-integer value 0.28485470975009225.\n",
      "  RuntimeWarning)\n",
      "C:\\Users\\julio\\Anaconda3\\lib\\site-packages\\scipy\\stats\\_continuous_distns.py:2688: RuntimeWarning: The shape parameter of the erlang distribution has been given a non-integer value 0.28690246248492746.\n",
      "  RuntimeWarning)\n",
      "C:\\Users\\julio\\Anaconda3\\lib\\site-packages\\scipy\\stats\\_continuous_distns.py:2688: RuntimeWarning: The shape parameter of the erlang distribution has been given a non-integer value 0.2881184015539644.\n",
      "  RuntimeWarning)\n",
      "C:\\Users\\julio\\Anaconda3\\lib\\site-packages\\scipy\\stats\\_continuous_distns.py:2688: RuntimeWarning: The shape parameter of the erlang distribution has been given a non-integer value 0.2878835055715791.\n",
      "  RuntimeWarning)\n",
      "C:\\Users\\julio\\Anaconda3\\lib\\site-packages\\scipy\\stats\\_continuous_distns.py:2688: RuntimeWarning: The shape parameter of the erlang distribution has been given a non-integer value 0.28561190870546393.\n",
      "  RuntimeWarning)\n",
      "C:\\Users\\julio\\Anaconda3\\lib\\site-packages\\scipy\\stats\\_continuous_distns.py:2688: RuntimeWarning: The shape parameter of the erlang distribution has been given a non-integer value 0.20755789320127083.\n",
      "  RuntimeWarning)\n",
      "C:\\Users\\julio\\Anaconda3\\lib\\site-packages\\scipy\\stats\\_continuous_distns.py:2688: RuntimeWarning: The shape parameter of the erlang distribution has been given a non-integer value 0.3019041908661371.\n",
      "  RuntimeWarning)\n",
      "C:\\Users\\julio\\Anaconda3\\lib\\site-packages\\scipy\\stats\\_continuous_distns.py:2688: RuntimeWarning: The shape parameter of the erlang distribution has been given a non-integer value 0.2661604626906816.\n",
      "  RuntimeWarning)\n",
      "C:\\Users\\julio\\Anaconda3\\lib\\site-packages\\scipy\\stats\\_continuous_distns.py:2688: RuntimeWarning: The shape parameter of the erlang distribution has been given a non-integer value 0.28074904720176835.\n",
      "  RuntimeWarning)\n",
      "C:\\Users\\julio\\Anaconda3\\lib\\site-packages\\scipy\\stats\\_continuous_distns.py:2688: RuntimeWarning: The shape parameter of the erlang distribution has been given a non-integer value 0.23576475142042913.\n",
      "  RuntimeWarning)\n",
      "C:\\Users\\julio\\Anaconda3\\lib\\site-packages\\scipy\\stats\\_continuous_distns.py:2688: RuntimeWarning: The shape parameter of the erlang distribution has been given a non-integer value 0.2853693310047101.\n",
      "  RuntimeWarning)\n",
      "C:\\Users\\julio\\Anaconda3\\lib\\site-packages\\scipy\\stats\\_continuous_distns.py:2688: RuntimeWarning: The shape parameter of the erlang distribution has been given a non-integer value 0.2600000842867592.\n",
      "  RuntimeWarning)\n",
      "C:\\Users\\julio\\Anaconda3\\lib\\site-packages\\scipy\\stats\\_continuous_distns.py:2688: RuntimeWarning: The shape parameter of the erlang distribution has been given a non-integer value 0.2755618064730161.\n",
      "  RuntimeWarning)\n",
      "C:\\Users\\julio\\Anaconda3\\lib\\site-packages\\scipy\\stats\\_continuous_distns.py:2688: RuntimeWarning: The shape parameter of the erlang distribution has been given a non-integer value 0.24884145079602132.\n",
      "  RuntimeWarning)\n",
      "C:\\Users\\julio\\Anaconda3\\lib\\site-packages\\scipy\\stats\\_continuous_distns.py:2688: RuntimeWarning: The shape parameter of the erlang distribution has been given a non-integer value 0.23057751069167687.\n",
      "  RuntimeWarning)\n",
      "C:\\Users\\julio\\Anaconda3\\lib\\site-packages\\scipy\\stats\\_continuous_distns.py:2688: RuntimeWarning: The shape parameter of the erlang distribution has been given a non-integer value 0.24083540487638555.\n",
      "  RuntimeWarning)\n",
      "C:\\Users\\julio\\Anaconda3\\lib\\site-packages\\scipy\\stats\\_continuous_distns.py:2688: RuntimeWarning: The shape parameter of the erlang distribution has been given a non-integer value 0.26688020607385843.\n",
      "  RuntimeWarning)\n",
      "C:\\Users\\julio\\Anaconda3\\lib\\site-packages\\scipy\\stats\\_continuous_distns.py:2688: RuntimeWarning: The shape parameter of the erlang distribution has been given a non-integer value 0.2495170052755432.\n",
      "  RuntimeWarning)\n",
      "C:\\Users\\julio\\Anaconda3\\lib\\site-packages\\scipy\\stats\\_continuous_distns.py:2688: RuntimeWarning: The shape parameter of the erlang distribution has been given a non-integer value 0.2625394058742796.\n",
      "  RuntimeWarning)\n",
      "C:\\Users\\julio\\Anaconda3\\lib\\site-packages\\scipy\\stats\\_continuous_distns.py:2688: RuntimeWarning: The shape parameter of the erlang distribution has been given a non-integer value 0.29333697569366524.\n",
      "  RuntimeWarning)\n",
      "C:\\Users\\julio\\Anaconda3\\lib\\site-packages\\scipy\\stats\\_continuous_distns.py:2688: RuntimeWarning: The shape parameter of the erlang distribution has been given a non-integer value 0.25247317173078154.\n",
      "  RuntimeWarning)\n",
      "C:\\Users\\julio\\Anaconda3\\lib\\site-packages\\scipy\\stats\\_continuous_distns.py:2688: RuntimeWarning: The shape parameter of the erlang distribution has been given a non-integer value 0.2629386508002073.\n",
      "  RuntimeWarning)\n",
      "C:\\Users\\julio\\Anaconda3\\lib\\site-packages\\scipy\\stats\\_continuous_distns.py:2688: RuntimeWarning: The shape parameter of the erlang distribution has been given a non-integer value 0.26263921710576155.\n",
      "  RuntimeWarning)\n",
      "C:\\Users\\julio\\Anaconda3\\lib\\site-packages\\scipy\\stats\\_continuous_distns.py:2688: RuntimeWarning: The shape parameter of the erlang distribution has been given a non-integer value 0.27978224852702527.\n",
      "  RuntimeWarning)\n",
      "C:\\Users\\julio\\Anaconda3\\lib\\site-packages\\scipy\\stats\\_continuous_distns.py:2688: RuntimeWarning: The shape parameter of the erlang distribution has been given a non-integer value 0.2593004409298425.\n",
      "  RuntimeWarning)\n",
      "C:\\Users\\julio\\Anaconda3\\lib\\site-packages\\scipy\\stats\\_continuous_distns.py:2688: RuntimeWarning: The shape parameter of the erlang distribution has been given a non-integer value 0.26739035236809927.\n",
      "  RuntimeWarning)\n",
      "C:\\Users\\julio\\Anaconda3\\lib\\site-packages\\scipy\\stats\\_continuous_distns.py:2688: RuntimeWarning: The shape parameter of the erlang distribution has been given a non-integer value 0.263827000921346.\n",
      "  RuntimeWarning)\n",
      "C:\\Users\\julio\\Anaconda3\\lib\\site-packages\\scipy\\stats\\_continuous_distns.py:2688: RuntimeWarning: The shape parameter of the erlang distribution has been given a non-integer value 0.27374683520502063.\n",
      "  RuntimeWarning)\n",
      "C:\\Users\\julio\\Anaconda3\\lib\\site-packages\\scipy\\stats\\_continuous_distns.py:2688: RuntimeWarning: The shape parameter of the erlang distribution has been given a non-integer value 0.26291203949863706.\n",
      "  RuntimeWarning)\n",
      "C:\\Users\\julio\\Anaconda3\\lib\\site-packages\\scipy\\stats\\_continuous_distns.py:2688: RuntimeWarning: The shape parameter of the erlang distribution has been given a non-integer value 0.2686103009317112.\n",
      "  RuntimeWarning)\n",
      "C:\\Users\\julio\\Anaconda3\\lib\\site-packages\\scipy\\stats\\_continuous_distns.py:2688: RuntimeWarning: The shape parameter of the erlang distribution has been given a non-integer value 0.2650228259239373.\n",
      "  RuntimeWarning)\n",
      "C:\\Users\\julio\\Anaconda3\\lib\\site-packages\\scipy\\stats\\_continuous_distns.py:2688: RuntimeWarning: The shape parameter of the erlang distribution has been given a non-integer value 0.27093245330462035.\n",
      "  RuntimeWarning)\n",
      "C:\\Users\\julio\\Anaconda3\\lib\\site-packages\\scipy\\stats\\_continuous_distns.py:2688: RuntimeWarning: The shape parameter of the erlang distribution has been given a non-integer value 0.2649171429501329.\n",
      "  RuntimeWarning)\n",
      "C:\\Users\\julio\\Anaconda3\\lib\\site-packages\\scipy\\stats\\_continuous_distns.py:2688: RuntimeWarning: The shape parameter of the erlang distribution has been given a non-integer value 0.26875121156345044.\n",
      "  RuntimeWarning)\n",
      "C:\\Users\\julio\\Anaconda3\\lib\\site-packages\\scipy\\stats\\_continuous_distns.py:2688: RuntimeWarning: The shape parameter of the erlang distribution has been given a non-integer value 0.26595492233381557.\n",
      "  RuntimeWarning)\n",
      "C:\\Users\\julio\\Anaconda3\\lib\\site-packages\\scipy\\stats\\_continuous_distns.py:2688: RuntimeWarning: The shape parameter of the erlang distribution has been given a non-integer value 0.2695487474597099.\n",
      "  RuntimeWarning)\n",
      "C:\\Users\\julio\\Anaconda3\\lib\\site-packages\\scipy\\stats\\_continuous_distns.py:2688: RuntimeWarning: The shape parameter of the erlang distribution has been given a non-integer value 0.26607504407752713.\n",
      "  RuntimeWarning)\n",
      "C:\\Users\\julio\\Anaconda3\\lib\\site-packages\\scipy\\stats\\_continuous_distns.py:2688: RuntimeWarning: The shape parameter of the erlang distribution has been given a non-integer value 0.26859104923850163.\n",
      "  RuntimeWarning)\n",
      "C:\\Users\\julio\\Anaconda3\\lib\\site-packages\\scipy\\stats\\_continuous_distns.py:2688: RuntimeWarning: The shape parameter of the erlang distribution has been given a non-integer value 0.2699091126908446.\n",
      "  RuntimeWarning)\n",
      "C:\\Users\\julio\\Anaconda3\\lib\\site-packages\\scipy\\stats\\_continuous_distns.py:2688: RuntimeWarning: The shape parameter of the erlang distribution has been given a non-integer value 0.27014826426877314.\n",
      "  RuntimeWarning)\n",
      "C:\\Users\\julio\\Anaconda3\\lib\\site-packages\\scipy\\stats\\_continuous_distns.py:2688: RuntimeWarning: The shape parameter of the erlang distribution has been given a non-integer value 0.26709334912533866.\n",
      "  RuntimeWarning)\n"
     ]
    },
    {
     "name": "stderr",
     "output_type": "stream",
     "text": [
      "C:\\Users\\julio\\Anaconda3\\lib\\site-packages\\scipy\\stats\\_continuous_distns.py:2688: RuntimeWarning: The shape parameter of the erlang distribution has been given a non-integer value 0.2691299592209616.\n",
      "  RuntimeWarning)\n",
      "C:\\Users\\julio\\Anaconda3\\lib\\site-packages\\scipy\\stats\\_continuous_distns.py:2688: RuntimeWarning: The shape parameter of the erlang distribution has been given a non-integer value 0.2676025016492444.\n",
      "  RuntimeWarning)\n",
      "C:\\Users\\julio\\Anaconda3\\lib\\site-packages\\scipy\\stats\\_continuous_distns.py:2688: RuntimeWarning: The shape parameter of the erlang distribution has been given a non-integer value 0.23645420530425076.\n",
      "  RuntimeWarning)\n",
      "C:\\Users\\julio\\Anaconda3\\lib\\site-packages\\scipy\\stats\\_continuous_distns.py:2688: RuntimeWarning: The shape parameter of the erlang distribution has been given a non-integer value 0.2349886352432714.\n",
      "  RuntimeWarning)\n",
      "C:\\Users\\julio\\Anaconda3\\lib\\site-packages\\scipy\\stats\\_continuous_distns.py:2688: RuntimeWarning: The shape parameter of the erlang distribution has been given a non-integer value 0.21868170204028492.\n",
      "  RuntimeWarning)\n",
      "C:\\Users\\julio\\Anaconda3\\lib\\site-packages\\scipy\\stats\\_continuous_distns.py:2688: RuntimeWarning: The shape parameter of the erlang distribution has been given a non-integer value 0.24451447572799456.\n",
      "  RuntimeWarning)\n",
      "C:\\Users\\julio\\Anaconda3\\lib\\site-packages\\scipy\\stats\\_continuous_distns.py:2688: RuntimeWarning: The shape parameter of the erlang distribution has been given a non-integer value 0.24775970702901462.\n",
      "  RuntimeWarning)\n",
      "C:\\Users\\julio\\Anaconda3\\lib\\site-packages\\scipy\\stats\\_continuous_distns.py:2688: RuntimeWarning: The shape parameter of the erlang distribution has been given a non-integer value 0.24559621949500127.\n",
      "  RuntimeWarning)\n",
      "C:\\Users\\julio\\Anaconda3\\lib\\site-packages\\scipy\\stats\\_continuous_distns.py:2688: RuntimeWarning: The shape parameter of the erlang distribution has been given a non-integer value 0.2629963973469321.\n",
      "  RuntimeWarning)\n",
      "C:\\Users\\julio\\Anaconda3\\lib\\site-packages\\scipy\\stats\\_continuous_distns.py:2688: RuntimeWarning: The shape parameter of the erlang distribution has been given a non-integer value 0.2430897533149211.\n",
      "  RuntimeWarning)\n",
      "C:\\Users\\julio\\Anaconda3\\lib\\site-packages\\scipy\\stats\\_continuous_distns.py:2688: RuntimeWarning: The shape parameter of the erlang distribution has been given a non-integer value 0.25636084933626174.\n",
      "  RuntimeWarning)\n",
      "C:\\Users\\julio\\Anaconda3\\lib\\site-packages\\scipy\\stats\\_continuous_distns.py:2688: RuntimeWarning: The shape parameter of the erlang distribution has been given a non-integer value 0.24640752732025628.\n",
      "  RuntimeWarning)\n",
      "C:\\Users\\julio\\Anaconda3\\lib\\site-packages\\scipy\\stats\\_continuous_distns.py:2688: RuntimeWarning: The shape parameter of the erlang distribution has been given a non-integer value 0.21607053880051763.\n",
      "  RuntimeWarning)\n",
      "C:\\Users\\julio\\Anaconda3\\lib\\site-packages\\scipy\\stats\\_continuous_distns.py:2688: RuntimeWarning: The shape parameter of the erlang distribution has been given a non-integer value 0.21802940170560386.\n",
      "  RuntimeWarning)\n",
      "C:\\Users\\julio\\Anaconda3\\lib\\site-packages\\scipy\\stats\\_continuous_distns.py:2688: RuntimeWarning: The shape parameter of the erlang distribution has been given a non-integer value 0.20384033889827768.\n",
      "  RuntimeWarning)\n",
      "C:\\Users\\julio\\Anaconda3\\lib\\site-packages\\scipy\\stats\\_continuous_distns.py:2688: RuntimeWarning: The shape parameter of the erlang distribution has been given a non-integer value 0.21814213809081046.\n",
      "  RuntimeWarning)\n",
      "C:\\Users\\julio\\Anaconda3\\lib\\site-packages\\scipy\\stats\\_continuous_distns.py:2688: RuntimeWarning: The shape parameter of the erlang distribution has been given a non-integer value 0.23077701095515618.\n",
      "  RuntimeWarning)\n",
      "C:\\Users\\julio\\Anaconda3\\lib\\site-packages\\scipy\\stats\\_continuous_distns.py:2688: RuntimeWarning: The shape parameter of the erlang distribution has been given a non-integer value 0.22235376237892568.\n",
      "  RuntimeWarning)\n",
      "C:\\Users\\julio\\Anaconda3\\lib\\site-packages\\scipy\\stats\\_continuous_distns.py:2688: RuntimeWarning: The shape parameter of the erlang distribution has been given a non-integer value 0.24124905025250293.\n",
      "  RuntimeWarning)\n",
      "C:\\Users\\julio\\Anaconda3\\lib\\site-packages\\scipy\\stats\\_continuous_distns.py:2688: RuntimeWarning: The shape parameter of the erlang distribution has been given a non-integer value 0.22236516666351397.\n",
      "  RuntimeWarning)\n",
      "C:\\Users\\julio\\Anaconda3\\lib\\site-packages\\scipy\\stats\\_continuous_distns.py:2688: RuntimeWarning: The shape parameter of the erlang distribution has been given a non-integer value 0.19623600100369443.\n",
      "  RuntimeWarning)\n",
      "C:\\Users\\julio\\Anaconda3\\lib\\site-packages\\scipy\\stats\\_continuous_distns.py:2688: RuntimeWarning: The shape parameter of the erlang distribution has been given a non-integer value 0.17155589175804098.\n",
      "  RuntimeWarning)\n",
      "C:\\Users\\julio\\Anaconda3\\lib\\site-packages\\scipy\\stats\\_continuous_distns.py:2688: RuntimeWarning: The shape parameter of the erlang distribution has been given a non-integer value 0.2020476100619687.\n",
      "  RuntimeWarning)\n",
      "C:\\Users\\julio\\Anaconda3\\lib\\site-packages\\scipy\\stats\\_continuous_distns.py:2688: RuntimeWarning: The shape parameter of the erlang distribution has been given a non-integer value 0.21728577751312766.\n",
      "  RuntimeWarning)\n",
      "C:\\Users\\julio\\Anaconda3\\lib\\site-packages\\scipy\\stats\\_continuous_distns.py:2688: RuntimeWarning: The shape parameter of the erlang distribution has been given a non-integer value 0.207126999212355.\n",
      "  RuntimeWarning)\n",
      "C:\\Users\\julio\\Anaconda3\\lib\\site-packages\\scipy\\stats\\_continuous_distns.py:2688: RuntimeWarning: The shape parameter of the erlang distribution has been given a non-integer value 0.2147460829379345.\n",
      "  RuntimeWarning)\n",
      "C:\\Users\\julio\\Anaconda3\\lib\\site-packages\\scipy\\stats\\_continuous_distns.py:2688: RuntimeWarning: The shape parameter of the erlang distribution has been given a non-integer value 0.20966669378754815.\n",
      "  RuntimeWarning)\n",
      "C:\\Users\\julio\\Anaconda3\\lib\\site-packages\\scipy\\stats\\_continuous_distns.py:2688: RuntimeWarning: The shape parameter of the erlang distribution has been given a non-integer value 0.2134762356503379.\n",
      "  RuntimeWarning)\n",
      "C:\\Users\\julio\\Anaconda3\\lib\\site-packages\\scipy\\stats\\_continuous_distns.py:2688: RuntimeWarning: The shape parameter of the erlang distribution has been given a non-integer value 0.21093654107514476.\n",
      "  RuntimeWarning)\n",
      "C:\\Users\\julio\\Anaconda3\\lib\\site-packages\\scipy\\stats\\_continuous_distns.py:2688: RuntimeWarning: The shape parameter of the erlang distribution has been given a non-integer value 0.2096666937875482.\n",
      "  RuntimeWarning)\n",
      "C:\\Users\\julio\\Anaconda3\\lib\\site-packages\\scipy\\stats\\_continuous_distns.py:2688: RuntimeWarning: The shape parameter of the erlang distribution has been given a non-integer value 0.1944475334773697.\n",
      "  RuntimeWarning)\n",
      "C:\\Users\\julio\\Anaconda3\\lib\\site-packages\\scipy\\stats\\_continuous_distns.py:2688: RuntimeWarning: The shape parameter of the erlang distribution has been given a non-integer value 0.1804944190265917.\n",
      "  RuntimeWarning)\n",
      "C:\\Users\\julio\\Anaconda3\\lib\\site-packages\\scipy\\stats\\_continuous_distns.py:2688: RuntimeWarning: The shape parameter of the erlang distribution has been given a non-integer value 0.17374857236468333.\n",
      "  RuntimeWarning)\n",
      "C:\\Users\\julio\\Anaconda3\\lib\\site-packages\\scipy\\stats\\_continuous_distns.py:2688: RuntimeWarning: The shape parameter of the erlang distribution has been given a non-integer value 0.1516081576942231.\n",
      "  RuntimeWarning)\n",
      "C:\\Users\\julio\\Anaconda3\\lib\\site-packages\\scipy\\stats\\_continuous_distns.py:2688: RuntimeWarning: The shape parameter of the erlang distribution has been given a non-integer value 0.18055035397391872.\n",
      "  RuntimeWarning)\n",
      "C:\\Users\\julio\\Anaconda3\\lib\\site-packages\\scipy\\stats\\_continuous_distns.py:2688: RuntimeWarning: The shape parameter of the erlang distribution has been given a non-integer value 0.1923145892462505.\n",
      "  RuntimeWarning)\n",
      "C:\\Users\\julio\\Anaconda3\\lib\\site-packages\\scipy\\stats\\_continuous_distns.py:2688: RuntimeWarning: The shape parameter of the erlang distribution has been given a non-integer value 0.18447176573136265.\n",
      "  RuntimeWarning)\n",
      "C:\\Users\\julio\\Anaconda3\\lib\\site-packages\\scipy\\stats\\_continuous_distns.py:2688: RuntimeWarning: The shape parameter of the erlang distribution has been given a non-integer value 0.19035388336752854.\n",
      "  RuntimeWarning)\n",
      "C:\\Users\\julio\\Anaconda3\\lib\\site-packages\\scipy\\stats\\_continuous_distns.py:2688: RuntimeWarning: The shape parameter of the erlang distribution has been given a non-integer value 0.15212804209739095.\n",
      "  RuntimeWarning)\n",
      "C:\\Users\\julio\\Anaconda3\\lib\\site-packages\\scipy\\stats\\_continuous_distns.py:2688: RuntimeWarning: The shape parameter of the erlang distribution has been given a non-integer value 0.19623441633070632.\n",
      "  RuntimeWarning)\n",
      "C:\\Users\\julio\\Anaconda3\\lib\\site-packages\\scipy\\stats\\_continuous_distns.py:2688: RuntimeWarning: The shape parameter of the erlang distribution has been given a non-integer value 0.17663105511379237.\n",
      "  RuntimeWarning)\n",
      "C:\\Users\\julio\\Anaconda3\\lib\\site-packages\\scipy\\stats\\_continuous_distns.py:2688: RuntimeWarning: The shape parameter of the erlang distribution has been given a non-integer value 0.1869231763040945.\n",
      "  RuntimeWarning)\n",
      "C:\\Users\\julio\\Anaconda3\\lib\\site-packages\\scipy\\stats\\_continuous_distns.py:2688: RuntimeWarning: The shape parameter of the erlang distribution has been given a non-integer value 0.16454302879954003.\n",
      "  RuntimeWarning)\n",
      "C:\\Users\\julio\\Anaconda3\\lib\\site-packages\\scipy\\stats\\_continuous_distns.py:2688: RuntimeWarning: The shape parameter of the erlang distribution has been given a non-integer value 0.18831156944791475.\n",
      "  RuntimeWarning)\n",
      "C:\\Users\\julio\\Anaconda3\\lib\\site-packages\\scipy\\stats\\_continuous_distns.py:2688: RuntimeWarning: The shape parameter of the erlang distribution has been given a non-integer value 0.17477986425536535.\n",
      "  RuntimeWarning)\n",
      "C:\\Users\\julio\\Anaconda3\\lib\\site-packages\\scipy\\stats\\_continuous_distns.py:2688: RuntimeWarning: The shape parameter of the erlang distribution has been given a non-integer value 0.18388734829191222.\n",
      "  RuntimeWarning)\n",
      "C:\\Users\\julio\\Anaconda3\\lib\\site-packages\\scipy\\stats\\_continuous_distns.py:2688: RuntimeWarning: The shape parameter of the erlang distribution has been given a non-integer value 0.17044199034087673.\n",
      "  RuntimeWarning)\n",
      "C:\\Users\\julio\\Anaconda3\\lib\\site-packages\\scipy\\stats\\_continuous_distns.py:2688: RuntimeWarning: The shape parameter of the erlang distribution has been given a non-integer value 0.18384417467115524.\n",
      "  RuntimeWarning)\n",
      "C:\\Users\\julio\\Anaconda3\\lib\\site-packages\\scipy\\stats\\_continuous_distns.py:2688: RuntimeWarning: The shape parameter of the erlang distribution has been given a non-integer value 0.17483742908304128.\n",
      "  RuntimeWarning)\n",
      "C:\\Users\\julio\\Anaconda3\\lib\\site-packages\\scipy\\stats\\_continuous_distns.py:2688: RuntimeWarning: The shape parameter of the erlang distribution has been given a non-integer value 0.1816248684896945.\n",
      "  RuntimeWarning)\n",
      "C:\\Users\\julio\\Anaconda3\\lib\\site-packages\\scipy\\stats\\_continuous_distns.py:2688: RuntimeWarning: The shape parameter of the erlang distribution has been given a non-integer value 0.1734010652494911.\n",
      "  RuntimeWarning)\n",
      "C:\\Users\\julio\\Anaconda3\\lib\\site-packages\\scipy\\stats\\_continuous_distns.py:2688: RuntimeWarning: The shape parameter of the erlang distribution has been given a non-integer value 0.1812333973157392.\n",
      "  RuntimeWarning)\n",
      "C:\\Users\\julio\\Anaconda3\\lib\\site-packages\\scipy\\stats\\_continuous_distns.py:2688: RuntimeWarning: The shape parameter of the erlang distribution has been given a non-integer value 0.17535939064831496.\n",
      "  RuntimeWarning)\n",
      "C:\\Users\\julio\\Anaconda3\\lib\\site-packages\\scipy\\stats\\_continuous_distns.py:2688: RuntimeWarning: The shape parameter of the erlang distribution has been given a non-integer value 0.18005849902934962.\n",
      "  RuntimeWarning)\n"
     ]
    },
    {
     "name": "stderr",
     "output_type": "stream",
     "text": [
      "C:\\Users\\julio\\Anaconda3\\lib\\site-packages\\scipy\\stats\\_continuous_distns.py:2688: RuntimeWarning: The shape parameter of the erlang distribution has been given a non-integer value 0.1749675962980106.\n",
      "  RuntimeWarning)\n",
      "C:\\Users\\julio\\Anaconda3\\lib\\site-packages\\scipy\\stats\\_continuous_distns.py:2688: RuntimeWarning: The shape parameter of the erlang distribution has been given a non-integer value 0.17966694706130704.\n",
      "  RuntimeWarning)\n",
      "C:\\Users\\julio\\Anaconda3\\lib\\site-packages\\scipy\\stats\\_continuous_distns.py:2688: RuntimeWarning: The shape parameter of the erlang distribution has been given a non-integer value 0.17588145993903842.\n",
      "  RuntimeWarning)\n",
      "C:\\Users\\julio\\Anaconda3\\lib\\site-packages\\scipy\\stats\\_continuous_distns.py:2688: RuntimeWarning: The shape parameter of the erlang distribution has been given a non-integer value 0.17379294039388282.\n",
      "  RuntimeWarning)\n",
      "C:\\Users\\julio\\Anaconda3\\lib\\site-packages\\scipy\\stats\\_continuous_distns.py:2688: RuntimeWarning: The shape parameter of the erlang distribution has been given a non-integer value 0.17374935382556855.\n",
      "  RuntimeWarning)\n",
      "C:\\Users\\julio\\Anaconda3\\lib\\site-packages\\scipy\\stats\\_continuous_distns.py:2688: RuntimeWarning: The shape parameter of the erlang distribution has been given a non-integer value 0.17818754875237242.\n",
      "  RuntimeWarning)\n",
      "C:\\Users\\julio\\Anaconda3\\lib\\site-packages\\scipy\\stats\\_continuous_distns.py:2688: RuntimeWarning: The shape parameter of the erlang distribution has been given a non-integer value 0.17522875213450317.\n",
      "  RuntimeWarning)\n",
      "C:\\Users\\julio\\Anaconda3\\lib\\site-packages\\scipy\\stats\\_continuous_distns.py:2688: RuntimeWarning: The shape parameter of the erlang distribution has been given a non-integer value 0.1774478495979051.\n",
      "  RuntimeWarning)\n",
      "C:\\Users\\julio\\Anaconda3\\lib\\site-packages\\scipy\\stats\\_continuous_distns.py:2688: RuntimeWarning: The shape parameter of the erlang distribution has been given a non-integer value 0.17089083557449286.\n",
      "  RuntimeWarning)\n",
      "C:\\Users\\julio\\Anaconda3\\lib\\site-packages\\scipy\\stats\\_continuous_distns.py:2688: RuntimeWarning: The shape parameter of the erlang distribution has been given a non-integer value 0.17809352316356697.\n",
      "  RuntimeWarning)\n",
      "C:\\Users\\julio\\Anaconda3\\lib\\site-packages\\scipy\\stats\\_continuous_distns.py:2688: RuntimeWarning: The shape parameter of the erlang distribution has been given a non-integer value 0.1743678540469541.\n",
      "  RuntimeWarning)\n",
      "C:\\Users\\julio\\Anaconda3\\lib\\site-packages\\scipy\\stats\\_continuous_distns.py:2688: RuntimeWarning: The shape parameter of the erlang distribution has been given a non-integer value 0.17282785627147856.\n",
      "  RuntimeWarning)\n",
      "C:\\Users\\julio\\Anaconda3\\lib\\site-packages\\scipy\\stats\\_continuous_distns.py:2688: RuntimeWarning: The shape parameter of the erlang distribution has been given a non-integer value 0.17123840107021687.\n",
      "  RuntimeWarning)\n",
      "C:\\Users\\julio\\Anaconda3\\lib\\site-packages\\scipy\\stats\\_continuous_distns.py:2688: RuntimeWarning: The shape parameter of the erlang distribution has been given a non-integer value 0.17637974264022943.\n",
      "  RuntimeWarning)\n",
      "C:\\Users\\julio\\Anaconda3\\lib\\site-packages\\scipy\\stats\\_continuous_distns.py:2688: RuntimeWarning: The shape parameter of the erlang distribution has been given a non-integer value 0.1729521815935544.\n",
      "  RuntimeWarning)\n",
      "C:\\Users\\julio\\Anaconda3\\lib\\site-packages\\scipy\\stats\\_continuous_distns.py:2688: RuntimeWarning: The shape parameter of the erlang distribution has been given a non-integer value 0.1755228523785607.\n",
      "  RuntimeWarning)\n",
      "C:\\Users\\julio\\Anaconda3\\lib\\site-packages\\scipy\\stats\\_continuous_distns.py:2688: RuntimeWarning: The shape parameter of the erlang distribution has been given a non-integer value 0.17676620521168546.\n",
      "  RuntimeWarning)\n",
      "C:\\Users\\julio\\Anaconda3\\lib\\site-packages\\scipy\\stats\\_continuous_distns.py:2688: RuntimeWarning: The shape parameter of the erlang distribution has been given a non-integer value 0.17450298057643387.\n",
      "  RuntimeWarning)\n",
      "C:\\Users\\julio\\Anaconda3\\lib\\site-packages\\scipy\\stats\\_continuous_distns.py:2688: RuntimeWarning: The shape parameter of the erlang distribution has been given a non-integer value 0.17431201066305685.\n",
      "  RuntimeWarning)\n",
      "C:\\Users\\julio\\Anaconda3\\lib\\site-packages\\scipy\\stats\\_continuous_distns.py:2688: RuntimeWarning: The shape parameter of the erlang distribution has been given a non-integer value 0.17522014194968472.\n",
      "  RuntimeWarning)\n",
      "C:\\Users\\julio\\Anaconda3\\lib\\site-packages\\scipy\\stats\\_continuous_distns.py:2688: RuntimeWarning: The shape parameter of the erlang distribution has been given a non-integer value 0.17580999004735093.\n",
      "  RuntimeWarning)\n",
      "C:\\Users\\julio\\Anaconda3\\lib\\site-packages\\scipy\\stats\\_continuous_distns.py:2688: RuntimeWarning: The shape parameter of the erlang distribution has been given a non-integer value 0.17482973294416315.\n",
      "  RuntimeWarning)\n",
      "C:\\Users\\julio\\Anaconda3\\lib\\site-packages\\scipy\\stats\\_continuous_distns.py:2688: RuntimeWarning: The shape parameter of the erlang distribution has been given a non-integer value 0.17483255600375236.\n",
      "  RuntimeWarning)\n",
      "C:\\Users\\julio\\Anaconda3\\lib\\site-packages\\scipy\\stats\\_continuous_distns.py:2688: RuntimeWarning: The shape parameter of the erlang distribution has been given a non-integer value 0.17512324546320163.\n",
      "  RuntimeWarning)\n",
      "C:\\Users\\julio\\Anaconda3\\lib\\site-packages\\scipy\\stats\\_continuous_distns.py:2688: RuntimeWarning: The shape parameter of the erlang distribution has been given a non-integer value 0.17541864002196628.\n",
      "  RuntimeWarning)\n",
      "C:\\Users\\julio\\Anaconda3\\lib\\site-packages\\scipy\\stats\\_continuous_distns.py:2688: RuntimeWarning: The shape parameter of the erlang distribution has been given a non-integer value 0.17497695971361393.\n",
      "  RuntimeWarning)\n",
      "C:\\Users\\julio\\Anaconda3\\lib\\site-packages\\scipy\\stats\\_continuous_distns.py:2688: RuntimeWarning: The shape parameter of the erlang distribution has been given a non-integer value 0.17502760366986936.\n",
      "  RuntimeWarning)\n",
      "C:\\Users\\julio\\Anaconda3\\lib\\site-packages\\scipy\\stats\\_continuous_distns.py:2688: RuntimeWarning: The shape parameter of the erlang distribution has been given a non-integer value 0.17497978277320325.\n",
      "  RuntimeWarning)\n",
      "C:\\Users\\julio\\Anaconda3\\lib\\site-packages\\scipy\\stats\\_continuous_distns.py:2688: RuntimeWarning: The shape parameter of the erlang distribution has been given a non-integer value 0.1752076520569606.\n",
      "  RuntimeWarning)\n",
      "C:\\Users\\julio\\Anaconda3\\lib\\site-packages\\scipy\\stats\\_continuous_distns.py:2688: RuntimeWarning: The shape parameter of the erlang distribution has been given a non-integer value 0.17503463279945058.\n",
      "  RuntimeWarning)\n",
      "C:\\Users\\julio\\Anaconda3\\lib\\site-packages\\scipy\\stats\\_continuous_distns.py:2688: RuntimeWarning: The shape parameter of the erlang distribution has been given a non-integer value 0.17514997897112394.\n",
      "  RuntimeWarning)\n",
      "C:\\Users\\julio\\Anaconda3\\lib\\site-packages\\scipy\\stats\\_continuous_distns.py:2688: RuntimeWarning: The shape parameter of the erlang distribution has been given a non-integer value 0.17506346934236894.\n",
      "  RuntimeWarning)\n",
      "C:\\Users\\julio\\Anaconda3\\lib\\site-packages\\scipy\\stats\\_continuous_distns.py:2688: RuntimeWarning: The shape parameter of the erlang distribution has been given a non-integer value 0.17375782476708984.\n",
      "  RuntimeWarning)\n",
      "C:\\Users\\julio\\Anaconda3\\lib\\site-packages\\scipy\\stats\\_continuous_distns.py:2688: RuntimeWarning: The shape parameter of the erlang distribution has been given a non-integer value 0.17535055114605128.\n",
      "  RuntimeWarning)\n",
      "C:\\Users\\julio\\Anaconda3\\lib\\site-packages\\scipy\\stats\\_continuous_distns.py:2688: RuntimeWarning: The shape parameter of the erlang distribution has been given a non-integer value 0.17476720323288086.\n",
      "  RuntimeWarning)\n",
      "C:\\Users\\julio\\Anaconda3\\lib\\site-packages\\scipy\\stats\\_continuous_distns.py:2688: RuntimeWarning: The shape parameter of the erlang distribution has been given a non-integer value 0.17461907017813683.\n",
      "  RuntimeWarning)\n",
      "C:\\Users\\julio\\Anaconda3\\lib\\site-packages\\scipy\\stats\\_continuous_distns.py:2688: RuntimeWarning: The shape parameter of the erlang distribution has been given a non-integer value 0.17409122282041825.\n",
      "  RuntimeWarning)\n",
      "C:\\Users\\julio\\Anaconda3\\lib\\site-packages\\scipy\\stats\\_continuous_distns.py:2688: RuntimeWarning: The shape parameter of the erlang distribution has been given a non-integer value 0.17503571906464302.\n",
      "  RuntimeWarning)\n",
      "C:\\Users\\julio\\Anaconda3\\lib\\site-packages\\scipy\\stats\\_continuous_distns.py:2688: RuntimeWarning: The shape parameter of the erlang distribution has been given a non-integer value 0.1744060549018265.\n",
      "  RuntimeWarning)\n",
      "C:\\Users\\julio\\Anaconda3\\lib\\site-packages\\scipy\\stats\\_continuous_distns.py:2688: RuntimeWarning: The shape parameter of the erlang distribution has been given a non-integer value 0.1748783030239389.\n",
      "  RuntimeWarning)\n",
      "C:\\Users\\julio\\Anaconda3\\lib\\site-packages\\scipy\\stats\\_continuous_distns.py:2688: RuntimeWarning: The shape parameter of the erlang distribution has been given a non-integer value 0.17456347094253064.\n",
      "  RuntimeWarning)\n",
      "C:\\Users\\julio\\Anaconda3\\lib\\site-packages\\scipy\\stats\\_continuous_distns.py:2688: RuntimeWarning: The shape parameter of the erlang distribution has been given a non-integer value 0.17520433118323314.\n",
      "  RuntimeWarning)\n",
      "C:\\Users\\julio\\Anaconda3\\lib\\site-packages\\scipy\\stats\\_continuous_distns.py:2688: RuntimeWarning: The shape parameter of the erlang distribution has been given a non-integer value 0.17457697333102384.\n",
      "  RuntimeWarning)\n",
      "C:\\Users\\julio\\Anaconda3\\lib\\site-packages\\scipy\\stats\\_continuous_distns.py:2688: RuntimeWarning: The shape parameter of the erlang distribution has been given a non-integer value 0.1749952118991634.\n",
      "  RuntimeWarning)\n",
      "C:\\Users\\julio\\Anaconda3\\lib\\site-packages\\scipy\\stats\\_continuous_distns.py:2688: RuntimeWarning: The shape parameter of the erlang distribution has been given a non-integer value 0.17468153297305872.\n",
      "  RuntimeWarning)\n",
      "C:\\Users\\julio\\Anaconda3\\lib\\site-packages\\scipy\\stats\\_continuous_distns.py:2688: RuntimeWarning: The shape parameter of the erlang distribution has been given a non-integer value 0.17431386776244417.\n",
      "  RuntimeWarning)\n",
      "C:\\Users\\julio\\Anaconda3\\lib\\site-packages\\scipy\\stats\\_continuous_distns.py:2688: RuntimeWarning: The shape parameter of the erlang distribution has been given a non-integer value 0.17484916969301306.\n",
      "  RuntimeWarning)\n",
      "C:\\Users\\julio\\Anaconda3\\lib\\site-packages\\scipy\\stats\\_continuous_distns.py:2688: RuntimeWarning: The shape parameter of the erlang distribution has been given a non-integer value 0.17477169627255773.\n",
      "  RuntimeWarning)\n",
      "C:\\Users\\julio\\Anaconda3\\lib\\site-packages\\scipy\\stats\\_continuous_distns.py:2688: RuntimeWarning: The shape parameter of the erlang distribution has been given a non-integer value 0.17470407379793346.\n",
      "  RuntimeWarning)\n",
      "C:\\Users\\julio\\Anaconda3\\lib\\site-packages\\scipy\\stats\\_continuous_distns.py:2688: RuntimeWarning: The shape parameter of the erlang distribution has been given a non-integer value 0.17450732895588356.\n",
      "  RuntimeWarning)\n",
      "C:\\Users\\julio\\Anaconda3\\lib\\site-packages\\scipy\\stats\\_continuous_distns.py:2688: RuntimeWarning: The shape parameter of the erlang distribution has been given a non-integer value 0.17476370950873069.\n",
      "  RuntimeWarning)\n",
      "C:\\Users\\julio\\Anaconda3\\lib\\site-packages\\scipy\\stats\\_continuous_distns.py:2688: RuntimeWarning: The shape parameter of the erlang distribution has been given a non-integer value 0.17469218199149467.\n",
      "  RuntimeWarning)\n",
      "C:\\Users\\julio\\Anaconda3\\lib\\site-packages\\scipy\\stats\\_continuous_distns.py:2688: RuntimeWarning: The shape parameter of the erlang distribution has been given a non-integer value 0.17470110084632376.\n",
      "  RuntimeWarning)\n",
      "C:\\Users\\julio\\Anaconda3\\lib\\site-packages\\scipy\\stats\\_continuous_distns.py:2688: RuntimeWarning: The shape parameter of the erlang distribution has been given a non-integer value 0.17459080717242617.\n",
      "  RuntimeWarning)\n",
      "C:\\Users\\julio\\Anaconda3\\lib\\site-packages\\scipy\\stats\\_continuous_distns.py:2688: RuntimeWarning: The shape parameter of the erlang distribution has been given a non-integer value 0.17472048392465456.\n",
      "  RuntimeWarning)\n",
      "C:\\Users\\julio\\Anaconda3\\lib\\site-packages\\scipy\\stats\\_continuous_distns.py:2688: RuntimeWarning: The shape parameter of the erlang distribution has been given a non-integer value 0.17466633788705363.\n",
      "  RuntimeWarning)\n",
      "C:\\Users\\julio\\Anaconda3\\lib\\site-packages\\scipy\\stats\\_continuous_distns.py:2688: RuntimeWarning: The shape parameter of the erlang distribution has been given a non-integer value 0.17464895640741857.\n",
      "  RuntimeWarning)\n",
      "C:\\Users\\julio\\Anaconda3\\lib\\site-packages\\scipy\\stats\\_continuous_distns.py:2688: RuntimeWarning: The shape parameter of the erlang distribution has been given a non-integer value 0.17461085745032223.\n",
      "  RuntimeWarning)\n",
      "C:\\Users\\julio\\Anaconda3\\lib\\site-packages\\scipy\\stats\\_continuous_distns.py:2688: RuntimeWarning: The shape parameter of the erlang distribution has been given a non-integer value 0.17469307730607148.\n",
      "  RuntimeWarning)\n",
      "C:\\Users\\julio\\Anaconda3\\lib\\site-packages\\scipy\\stats\\_continuous_distns.py:2688: RuntimeWarning: The shape parameter of the erlang distribution has been given a non-integer value 0.1746382640689053.\n",
      "  RuntimeWarning)\n",
      "C:\\Users\\julio\\Anaconda3\\lib\\site-packages\\scipy\\stats\\_continuous_distns.py:2688: RuntimeWarning: The shape parameter of the erlang distribution has been given a non-integer value 0.17467937399677994.\n",
      "  RuntimeWarning)\n",
      "C:\\Users\\julio\\Anaconda3\\lib\\site-packages\\scipy\\stats\\_continuous_distns.py:2688: RuntimeWarning: The shape parameter of the erlang distribution has been given a non-integer value 0.17465196737819685.\n",
      "  RuntimeWarning)\n",
      "C:\\Users\\julio\\Anaconda3\\lib\\site-packages\\scipy\\stats\\_continuous_distns.py:2688: RuntimeWarning: The shape parameter of the erlang distribution has been given a non-integer value 0.17482686805622358.\n",
      "  RuntimeWarning)\n",
      "C:\\Users\\julio\\Anaconda3\\lib\\site-packages\\scipy\\stats\\_continuous_distns.py:2688: RuntimeWarning: The shape parameter of the erlang distribution has been given a non-integer value 0.17462932022095387.\n",
      "  RuntimeWarning)\n",
      "C:\\Users\\julio\\Anaconda3\\lib\\site-packages\\scipy\\stats\\_continuous_distns.py:2688: RuntimeWarning: The shape parameter of the erlang distribution has been given a non-integer value 0.17453121375792202.\n",
      "  RuntimeWarning)\n"
     ]
    },
    {
     "name": "stderr",
     "output_type": "stream",
     "text": [
      "C:\\Users\\julio\\Anaconda3\\lib\\site-packages\\scipy\\stats\\_continuous_distns.py:2688: RuntimeWarning: The shape parameter of the erlang distribution has been given a non-integer value 0.17470820586414115.\n",
      "  RuntimeWarning)\n",
      "C:\\Users\\julio\\Anaconda3\\lib\\site-packages\\scipy\\stats\\_continuous_distns.py:2688: RuntimeWarning: The shape parameter of the erlang distribution has been given a non-integer value 0.17472168719864054.\n",
      "  RuntimeWarning)\n",
      "C:\\Users\\julio\\Anaconda3\\lib\\site-packages\\scipy\\stats\\_continuous_distns.py:2688: RuntimeWarning: The shape parameter of the erlang distribution has been given a non-integer value 0.17476787068748384.\n",
      "  RuntimeWarning)\n",
      "C:\\Users\\julio\\Anaconda3\\lib\\site-packages\\scipy\\stats\\_continuous_distns.py:2688: RuntimeWarning: The shape parameter of the erlang distribution has been given a non-integer value 0.1746517891117862.\n",
      "  RuntimeWarning)\n",
      "C:\\Users\\julio\\Anaconda3\\lib\\site-packages\\scipy\\stats\\_continuous_distns.py:2688: RuntimeWarning: The shape parameter of the erlang distribution has been given a non-integer value 0.17469410167605243.\n",
      "  RuntimeWarning)\n",
      "C:\\Users\\julio\\Anaconda3\\lib\\site-packages\\scipy\\stats\\_continuous_distns.py:2688: RuntimeWarning: The shape parameter of the erlang distribution has been given a non-integer value 0.17466589329987492.\n",
      "  RuntimeWarning)\n",
      "C:\\Users\\julio\\Anaconda3\\lib\\site-packages\\scipy\\stats\\_continuous_distns.py:2688: RuntimeWarning: The shape parameter of the erlang distribution has been given a non-integer value 0.17468704958200804.\n",
      "  RuntimeWarning)\n",
      "C:\\Users\\julio\\Anaconda3\\lib\\site-packages\\scipy\\stats\\_continuous_distns.py:2688: RuntimeWarning: The shape parameter of the erlang distribution has been given a non-integer value 0.1747314157336046.\n",
      "  RuntimeWarning)\n",
      "C:\\Users\\julio\\Anaconda3\\lib\\site-packages\\scipy\\stats\\_continuous_distns.py:2688: RuntimeWarning: The shape parameter of the erlang distribution has been given a non-integer value 0.1747259109641911.\n",
      "  RuntimeWarning)\n",
      "C:\\Users\\julio\\Anaconda3\\lib\\site-packages\\scipy\\stats\\_continuous_distns.py:2688: RuntimeWarning: The shape parameter of the erlang distribution has been given a non-integer value 0.17469676492755382.\n",
      "  RuntimeWarning)\n",
      "C:\\Users\\julio\\Anaconda3\\lib\\site-packages\\scipy\\stats\\_continuous_distns.py:2688: RuntimeWarning: The shape parameter of the erlang distribution has been given a non-integer value 0.17476690735281228.\n",
      "  RuntimeWarning)\n",
      "C:\\Users\\julio\\Anaconda3\\lib\\site-packages\\scipy\\stats\\_continuous_distns.py:2688: RuntimeWarning: The shape parameter of the erlang distribution has been given a non-integer value 0.1746914802534933.\n",
      "  RuntimeWarning)\n",
      "C:\\Users\\julio\\Anaconda3\\lib\\site-packages\\scipy\\stats\\_continuous_distns.py:2688: RuntimeWarning: The shape parameter of the erlang distribution has been given a non-integer value 0.1747329571962718.\n",
      "  RuntimeWarning)\n",
      "C:\\Users\\julio\\Anaconda3\\lib\\site-packages\\scipy\\stats\\_continuous_distns.py:2688: RuntimeWarning: The shape parameter of the erlang distribution has been given a non-integer value 0.1747058129947333.\n",
      "  RuntimeWarning)\n",
      "C:\\Users\\julio\\Anaconda3\\lib\\site-packages\\scipy\\stats\\_continuous_distns.py:2688: RuntimeWarning: The shape parameter of the erlang distribution has been given a non-integer value 0.17474779703115895.\n",
      "  RuntimeWarning)\n",
      "C:\\Users\\julio\\Anaconda3\\lib\\site-packages\\scipy\\stats\\_continuous_distns.py:2688: RuntimeWarning: The shape parameter of the erlang distribution has been given a non-integer value 0.1747759554199918.\n",
      "  RuntimeWarning)\n",
      "C:\\Users\\julio\\Anaconda3\\lib\\site-packages\\scipy\\stats\\_continuous_distns.py:2688: RuntimeWarning: The shape parameter of the erlang distribution has been given a non-integer value 0.1747614536475361.\n",
      "  RuntimeWarning)\n",
      "C:\\Users\\julio\\Anaconda3\\lib\\site-packages\\scipy\\stats\\_continuous_distns.py:2688: RuntimeWarning: The shape parameter of the erlang distribution has been given a non-integer value 0.174719723157934.\n",
      "  RuntimeWarning)\n",
      "C:\\Users\\julio\\Anaconda3\\lib\\site-packages\\scipy\\stats\\_continuous_distns.py:2688: RuntimeWarning: The shape parameter of the erlang distribution has been given a non-integer value 0.1747475434843354.\n",
      "  RuntimeWarning)\n",
      "C:\\Users\\julio\\Anaconda3\\lib\\site-packages\\scipy\\stats\\_continuous_distns.py:2688: RuntimeWarning: The shape parameter of the erlang distribution has been given a non-integer value 0.17472667823953436.\n",
      "  RuntimeWarning)\n",
      "C:\\Users\\julio\\Anaconda3\\lib\\site-packages\\scipy\\stats\\_continuous_distns.py:2688: RuntimeWarning: The shape parameter of the erlang distribution has been given a non-integer value 0.17474058840273504.\n",
      "  RuntimeWarning)\n",
      "C:\\Users\\julio\\Anaconda3\\lib\\site-packages\\scipy\\stats\\_continuous_distns.py:2688: RuntimeWarning: The shape parameter of the erlang distribution has been given a non-integer value 0.17474196602141842.\n",
      "  RuntimeWarning)\n",
      "C:\\Users\\julio\\Anaconda3\\lib\\site-packages\\scipy\\stats\\_continuous_distns.py:2688: RuntimeWarning: The shape parameter of the erlang distribution has been given a non-integer value 0.17473405330555805.\n",
      "  RuntimeWarning)\n",
      "C:\\Users\\julio\\Anaconda3\\lib\\site-packages\\scipy\\stats\\_continuous_distns.py:2688: RuntimeWarning: The shape parameter of the erlang distribution has been given a non-integer value 0.17475993862766084.\n",
      "  RuntimeWarning)\n",
      "C:\\Users\\julio\\Anaconda3\\lib\\site-packages\\scipy\\stats\\_continuous_distns.py:2688: RuntimeWarning: The shape parameter of the erlang distribution has been given a non-integer value 0.174779064342171.\n",
      "  RuntimeWarning)\n",
      "C:\\Users\\julio\\Anaconda3\\lib\\site-packages\\scipy\\stats\\_continuous_distns.py:2688: RuntimeWarning: The shape parameter of the erlang distribution has been given a non-integer value 0.17476482940214513.\n",
      "  RuntimeWarning)\n",
      "C:\\Users\\julio\\Anaconda3\\lib\\site-packages\\scipy\\stats\\_continuous_distns.py:2688: RuntimeWarning: The shape parameter of the erlang distribution has been given a non-integer value 0.17474174732970482.\n",
      "  RuntimeWarning)\n",
      "C:\\Users\\julio\\Anaconda3\\lib\\site-packages\\scipy\\stats\\_continuous_distns.py:2688: RuntimeWarning: The shape parameter of the erlang distribution has been given a non-integer value 0.17475713537799836.\n",
      "  RuntimeWarning)\n",
      "C:\\Users\\julio\\Anaconda3\\lib\\site-packages\\scipy\\stats\\_continuous_distns.py:2688: RuntimeWarning: The shape parameter of the erlang distribution has been given a non-integer value 0.17474559434177822.\n",
      "  RuntimeWarning)\n",
      "C:\\Users\\julio\\Anaconda3\\lib\\site-packages\\scipy\\stats\\_continuous_distns.py:2688: RuntimeWarning: The shape parameter of the erlang distribution has been given a non-integer value 0.17475328836592496.\n",
      "  RuntimeWarning)\n",
      "C:\\Users\\julio\\Anaconda3\\lib\\site-packages\\scipy\\stats\\_continuous_distns.py:2688: RuntimeWarning: The shape parameter of the erlang distribution has been given a non-integer value 0.1747475178478149.\n",
      "  RuntimeWarning)\n",
      "C:\\Users\\julio\\Anaconda3\\lib\\site-packages\\scipy\\stats\\_continuous_distns.py:2688: RuntimeWarning: The shape parameter of the erlang distribution has been given a non-integer value 0.1747629139350214.\n",
      "  RuntimeWarning)\n",
      "C:\\Users\\julio\\Anaconda3\\lib\\site-packages\\scipy\\stats\\_continuous_distns.py:2688: RuntimeWarning: The shape parameter of the erlang distribution has been given a non-integer value 0.1747662485480792.\n",
      "  RuntimeWarning)\n",
      "C:\\Users\\julio\\Anaconda3\\lib\\site-packages\\scipy\\stats\\_continuous_distns.py:2688: RuntimeWarning: The shape parameter of the erlang distribution has been given a non-integer value 0.17475220052288098.\n",
      "  RuntimeWarning)\n",
      "C:\\Users\\julio\\Anaconda3\\lib\\site-packages\\scipy\\stats\\_continuous_distns.py:2688: RuntimeWarning: The shape parameter of the erlang distribution has been given a non-integer value 0.17476890502588321.\n",
      "  RuntimeWarning)\n",
      "C:\\Users\\julio\\Anaconda3\\lib\\site-packages\\scipy\\stats\\_continuous_distns.py:2688: RuntimeWarning: The shape parameter of the erlang distribution has been given a non-integer value 0.17475307402984003.\n",
      "  RuntimeWarning)\n",
      "C:\\Users\\julio\\Anaconda3\\lib\\site-packages\\scipy\\stats\\_continuous_distns.py:2688: RuntimeWarning: The shape parameter of the erlang distribution has been given a non-integer value 0.1747650838721339.\n",
      "  RuntimeWarning)\n",
      "C:\\Users\\julio\\Anaconda3\\lib\\site-packages\\scipy\\stats\\_continuous_distns.py:2688: RuntimeWarning: The shape parameter of the erlang distribution has been given a non-integer value 0.17475542136019423.\n",
      "  RuntimeWarning)\n",
      "C:\\Users\\julio\\Anaconda3\\lib\\site-packages\\scipy\\stats\\_continuous_distns.py:2688: RuntimeWarning: The shape parameter of the erlang distribution has been given a non-integer value 0.1747657752520776.\n",
      "  RuntimeWarning)\n",
      "C:\\Users\\julio\\Anaconda3\\lib\\site-packages\\scipy\\stats\\_continuous_distns.py:2688: RuntimeWarning: The shape parameter of the erlang distribution has been given a non-integer value 0.1747562493353994.\n",
      "  RuntimeWarning)\n",
      "C:\\Users\\julio\\Anaconda3\\lib\\site-packages\\scipy\\stats\\_continuous_distns.py:2688: RuntimeWarning: The shape parameter of the erlang distribution has been given a non-integer value 0.17476397990519354.\n",
      "  RuntimeWarning)\n",
      "C:\\Users\\julio\\Anaconda3\\lib\\site-packages\\scipy\\stats\\_continuous_distns.py:2688: RuntimeWarning: The shape parameter of the erlang distribution has been given a non-integer value 0.17475756099644407.\n",
      "  RuntimeWarning)\n",
      "C:\\Users\\julio\\Anaconda3\\lib\\site-packages\\scipy\\stats\\_continuous_distns.py:2688: RuntimeWarning: The shape parameter of the erlang distribution has been given a non-integer value 0.17476402637068483.\n",
      "  RuntimeWarning)\n",
      "C:\\Users\\julio\\Anaconda3\\lib\\site-packages\\scipy\\stats\\_continuous_distns.py:2688: RuntimeWarning: The shape parameter of the erlang distribution has been given a non-integer value 0.17475819359422076.\n",
      "  RuntimeWarning)\n",
      "C:\\Users\\julio\\Anaconda3\\lib\\site-packages\\scipy\\stats\\_continuous_distns.py:2688: RuntimeWarning: The shape parameter of the erlang distribution has been given a non-integer value 0.17476313644149122.\n",
      "  RuntimeWarning)\n",
      "C:\\Users\\julio\\Anaconda3\\lib\\site-packages\\scipy\\stats\\_continuous_distns.py:2688: RuntimeWarning: The shape parameter of the erlang distribution has been given a non-integer value 0.17475895485770587.\n",
      "  RuntimeWarning)\n",
      "C:\\Users\\julio\\Anaconda3\\lib\\site-packages\\scipy\\stats\\_continuous_distns.py:2688: RuntimeWarning: The shape parameter of the erlang distribution has been given a non-integer value 0.17476301135270464.\n",
      "  RuntimeWarning)\n",
      "C:\\Users\\julio\\Anaconda3\\lib\\site-packages\\scipy\\stats\\_continuous_distns.py:2688: RuntimeWarning: The shape parameter of the erlang distribution has been given a non-integer value 0.17476495441921874.\n",
      "  RuntimeWarning)\n",
      "C:\\Users\\julio\\Anaconda3\\lib\\site-packages\\scipy\\stats\\_continuous_distns.py:2688: RuntimeWarning: The shape parameter of the erlang distribution has been given a non-integer value 0.1747604547480841.\n",
      "  RuntimeWarning)\n",
      "C:\\Users\\julio\\Anaconda3\\lib\\site-packages\\scipy\\stats\\_continuous_distns.py:2688: RuntimeWarning: The shape parameter of the erlang distribution has been given a non-integer value 0.17475935588394498.\n",
      "  RuntimeWarning)\n",
      "C:\\Users\\julio\\Anaconda3\\lib\\site-packages\\scipy\\stats\\_continuous_distns.py:2688: RuntimeWarning: The shape parameter of the erlang distribution has been given a non-integer value 0.1747620244222523.\n",
      "  RuntimeWarning)\n",
      "C:\\Users\\julio\\Anaconda3\\lib\\site-packages\\scipy\\stats\\_continuous_distns.py:2688: RuntimeWarning: The shape parameter of the erlang distribution has been given a non-integer value 0.17476286152032777.\n",
      "  RuntimeWarning)\n",
      "C:\\Users\\julio\\Anaconda3\\lib\\site-packages\\scipy\\stats\\_continuous_distns.py:2688: RuntimeWarning: The shape parameter of the erlang distribution has been given a non-integer value 0.17476105644114504.\n",
      "  RuntimeWarning)\n",
      "C:\\Users\\julio\\Anaconda3\\lib\\site-packages\\scipy\\stats\\_continuous_distns.py:2688: RuntimeWarning: The shape parameter of the erlang distribution has been given a non-integer value 0.1747606465254214.\n",
      "  RuntimeWarning)\n",
      "C:\\Users\\julio\\Anaconda3\\lib\\site-packages\\scipy\\stats\\_continuous_distns.py:2688: RuntimeWarning: The shape parameter of the erlang distribution has been given a non-integer value 0.1747616799480446.\n",
      "  RuntimeWarning)\n",
      "C:\\Users\\julio\\Anaconda3\\lib\\site-packages\\scipy\\stats\\_continuous_distns.py:2688: RuntimeWarning: The shape parameter of the erlang distribution has been given a non-integer value 0.174762030177795.\n",
      "  RuntimeWarning)\n"
     ]
    },
    {
     "name": "stderr",
     "output_type": "stream",
     "text": [
      "C:\\Users\\julio\\Anaconda3\\lib\\site-packages\\scipy\\stats\\_continuous_distns.py:2688: RuntimeWarning: The shape parameter of the erlang distribution has been given a non-integer value 0.17476129987530753.\n",
      "  RuntimeWarning)\n",
      "C:\\Users\\julio\\Anaconda3\\lib\\site-packages\\scipy\\stats\\_continuous_distns.py:2688: RuntimeWarning: The shape parameter of the erlang distribution has been given a non-integer value 0.17476115328907077.\n",
      "  RuntimeWarning)\n",
      "C:\\Users\\julio\\Anaconda3\\lib\\site-packages\\scipy\\stats\\_continuous_distns.py:2688: RuntimeWarning: The shape parameter of the erlang distribution has been given a non-integer value 0.17476154828330115.\n",
      "  RuntimeWarning)\n",
      "C:\\Users\\julio\\Anaconda3\\lib\\site-packages\\scipy\\stats\\_continuous_distns.py:2688: RuntimeWarning: The shape parameter of the erlang distribution has been given a non-integer value 0.1747616989671369.\n",
      "  RuntimeWarning)\n",
      "C:\\Users\\julio\\Anaconda3\\lib\\site-packages\\scipy\\stats\\_continuous_distns.py:2688: RuntimeWarning: The shape parameter of the erlang distribution has been given a non-integer value 0.17476139964826487.\n",
      "  RuntimeWarning)\n",
      "C:\\Users\\julio\\Anaconda3\\lib\\site-packages\\scipy\\stats\\_continuous_distns.py:2688: RuntimeWarning: The shape parameter of the erlang distribution has been given a non-integer value 0.1747613514691191.\n",
      "  RuntimeWarning)\n",
      "C:\\Users\\julio\\Anaconda3\\lib\\site-packages\\scipy\\stats\\_continuous_distns.py:2688: RuntimeWarning: The shape parameter of the erlang distribution has been given a non-integer value 0.17476149907975563.\n",
      "  RuntimeWarning)\n",
      "C:\\Users\\julio\\Anaconda3\\lib\\site-packages\\scipy\\stats\\_continuous_distns.py:2688: RuntimeWarning: The shape parameter of the erlang distribution has been given a non-integer value 0.17476156639181584.\n",
      "  RuntimeWarning)\n",
      "C:\\Users\\julio\\Anaconda3\\lib\\site-packages\\scipy\\stats\\_continuous_distns.py:2688: RuntimeWarning: The shape parameter of the erlang distribution has been given a non-integer value 0.1747614413341526.\n",
      "  RuntimeWarning)\n",
      "C:\\Users\\julio\\Anaconda3\\lib\\site-packages\\scipy\\stats\\_continuous_distns.py:2688: RuntimeWarning: The shape parameter of the erlang distribution has been given a non-integer value 0.17476142846325643.\n",
      "  RuntimeWarning)\n",
      "C:\\Users\\julio\\Anaconda3\\lib\\site-packages\\scipy\\stats\\_continuous_distns.py:2688: RuntimeWarning: The shape parameter of the erlang distribution has been given a non-integer value 0.17476148142563083.\n",
      "  RuntimeWarning)\n",
      "C:\\Users\\julio\\Anaconda3\\lib\\site-packages\\scipy\\stats\\_continuous_distns.py:2688: RuntimeWarning: The shape parameter of the erlang distribution has been given a non-integer value 0.1747615129365116.\n",
      "  RuntimeWarning)\n",
      "C:\\Users\\julio\\Anaconda3\\lib\\site-packages\\scipy\\stats\\_continuous_distns.py:2688: RuntimeWarning: The shape parameter of the erlang distribution has been given a non-integer value 0.17476145923474234.\n",
      "  RuntimeWarning)\n",
      "C:\\Users\\julio\\Anaconda3\\lib\\site-packages\\scipy\\stats\\_continuous_distns.py:2688: RuntimeWarning: The shape parameter of the erlang distribution has been given a non-integer value 0.17476145805110768.\n",
      "  RuntimeWarning)\n",
      "C:\\Users\\julio\\Anaconda3\\lib\\site-packages\\scipy\\stats\\_continuous_distns.py:2688: RuntimeWarning: The shape parameter of the erlang distribution has been given a non-integer value 0.17476147558200006.\n",
      "  RuntimeWarning)\n",
      "C:\\Users\\julio\\Anaconda3\\lib\\site-packages\\scipy\\stats\\_continuous_distns.py:2688: RuntimeWarning: The shape parameter of the erlang distribution has been given a non-integer value 0.17476149114016803.\n",
      "  RuntimeWarning)\n",
      "C:\\Users\\julio\\Anaconda3\\lib\\site-packages\\scipy\\stats\\_continuous_distns.py:2688: RuntimeWarning: The shape parameter of the erlang distribution has been given a non-integer value 0.17476146721109875.\n",
      "  RuntimeWarning)\n",
      "C:\\Users\\julio\\Anaconda3\\lib\\site-packages\\scipy\\stats\\_continuous_distns.py:2688: RuntimeWarning: The shape parameter of the erlang distribution has been given a non-integer value 0.17476146921230945.\n",
      "  RuntimeWarning)\n",
      "C:\\Users\\julio\\Anaconda3\\lib\\site-packages\\scipy\\stats\\_continuous_distns.py:2688: RuntimeWarning: The shape parameter of the erlang distribution has been given a non-integer value 0.17476147398957742.\n",
      "  RuntimeWarning)\n",
      "C:\\Users\\julio\\Anaconda3\\lib\\site-packages\\scipy\\stats\\_continuous_distns.py:2688: RuntimeWarning: The shape parameter of the erlang distribution has been given a non-integer value 0.1747614821021965.\n",
      "  RuntimeWarning)\n",
      "C:\\Users\\julio\\Anaconda3\\lib\\site-packages\\scipy\\stats\\_continuous_distns.py:2688: RuntimeWarning: The shape parameter of the erlang distribution has been given a non-integer value 0.17476147093387318.\n",
      "  RuntimeWarning)\n",
      "C:\\Users\\julio\\Anaconda3\\lib\\site-packages\\scipy\\stats\\_continuous_distns.py:2688: RuntimeWarning: The shape parameter of the erlang distribution has been given a non-integer value 0.1747614732865817.\n",
      "  RuntimeWarning)\n",
      "C:\\Users\\julio\\Anaconda3\\lib\\site-packages\\scipy\\stats\\_continuous_distns.py:2688: RuntimeWarning: The shape parameter of the erlang distribution has been given a non-integer value 0.17476147293508382.\n",
      "  RuntimeWarning)\n",
      "C:\\Users\\julio\\Anaconda3\\lib\\site-packages\\scipy\\stats\\_continuous_distns.py:2688: RuntimeWarning: The shape parameter of the erlang distribution has been given a non-integer value 0.1747614779107583.\n",
      "  RuntimeWarning)\n",
      "C:\\Users\\julio\\Anaconda3\\lib\\site-packages\\scipy\\stats\\_continuous_distns.py:2688: RuntimeWarning: The shape parameter of the erlang distribution has been given a non-integer value 0.17476147267809444.\n",
      "  RuntimeWarning)\n",
      "C:\\Users\\julio\\Anaconda3\\lib\\site-packages\\scipy\\stats\\_continuous_distns.py:2688: RuntimeWarning: The shape parameter of the erlang distribution has been given a non-integer value 0.17476147616653703.\n",
      "  RuntimeWarning)\n",
      "C:\\Users\\julio\\Anaconda3\\lib\\site-packages\\scipy\\stats\\_continuous_distns.py:2688: RuntimeWarning: The shape parameter of the erlang distribution has been given a non-integer value 0.1747614735502051.\n",
      "  RuntimeWarning)\n",
      "C:\\Users\\julio\\Anaconda3\\lib\\site-packages\\scipy\\stats\\_continuous_distns.py:2688: RuntimeWarning: The shape parameter of the erlang distribution has been given a non-integer value 0.1747589122902605.\n",
      "  RuntimeWarning)\n",
      "C:\\Users\\julio\\Anaconda3\\lib\\site-packages\\scipy\\stats\\_continuous_distns.py:2688: RuntimeWarning: The shape parameter of the erlang distribution has been given a non-integer value 0.17475874258613022.\n",
      "  RuntimeWarning)\n",
      "C:\\Users\\julio\\Anaconda3\\lib\\site-packages\\scipy\\stats\\_continuous_distns.py:2688: RuntimeWarning: The shape parameter of the erlang distribution has been given a non-integer value 0.17476079080918638.\n",
      "  RuntimeWarning)\n",
      "C:\\Users\\julio\\Anaconda3\\lib\\site-packages\\scipy\\stats\\_continuous_distns.py:2688: RuntimeWarning: The shape parameter of the erlang distribution has been given a non-integer value 0.17476084562969155.\n",
      "  RuntimeWarning)\n",
      "C:\\Users\\julio\\Anaconda3\\lib\\site-packages\\scipy\\stats\\_continuous_distns.py:2688: RuntimeWarning: The shape parameter of the erlang distribution has been given a non-integer value 0.17476016537816852.\n",
      "  RuntimeWarning)\n",
      "C:\\Users\\julio\\Anaconda3\\lib\\site-packages\\scipy\\stats\\_continuous_distns.py:2688: RuntimeWarning: The shape parameter of the erlang distribution has been given a non-integer value 0.17475957649415408.\n",
      "  RuntimeWarning)\n",
      "C:\\Users\\julio\\Anaconda3\\lib\\site-packages\\scipy\\stats\\_continuous_distns.py:2688: RuntimeWarning: The shape parameter of the erlang distribution has been given a non-integer value 0.1747604872304283.\n",
      "  RuntimeWarning)\n",
      "C:\\Users\\julio\\Anaconda3\\lib\\site-packages\\scipy\\stats\\_continuous_distns.py:2688: RuntimeWarning: The shape parameter of the erlang distribution has been given a non-integer value 0.17476041649334517.\n",
      "  RuntimeWarning)\n",
      "C:\\Users\\julio\\Anaconda3\\lib\\site-packages\\scipy\\stats\\_continuous_distns.py:2688: RuntimeWarning: The shape parameter of the erlang distribution has been given a non-integer value 0.1747605420509335.\n",
      "  RuntimeWarning)\n",
      "C:\\Users\\julio\\Anaconda3\\lib\\site-packages\\scipy\\stats\\_continuous_distns.py:2688: RuntimeWarning: The shape parameter of the erlang distribution has been given a non-integer value 0.17476004748302992.\n",
      "  RuntimeWarning)\n",
      "C:\\Users\\julio\\Anaconda3\\lib\\site-packages\\scipy\\stats\\_continuous_distns.py:2688: RuntimeWarning: The shape parameter of the erlang distribution has been given a non-integer value 0.1747603772935787.\n",
      "  RuntimeWarning)\n",
      "C:\\Users\\julio\\Anaconda3\\lib\\site-packages\\scipy\\stats\\_continuous_distns.py:2688: RuntimeWarning: The shape parameter of the erlang distribution has been given a non-integer value 0.17476015741987952.\n",
      "  RuntimeWarning)\n",
      "C:\\Users\\julio\\Anaconda3\\lib\\site-packages\\scipy\\stats\\_continuous_distns.py:2688: RuntimeWarning: The shape parameter of the erlang distribution has been given a non-integer value 0.17476032232515393.\n",
      "  RuntimeWarning)\n",
      "C:\\Users\\julio\\Anaconda3\\lib\\site-packages\\scipy\\stats\\_continuous_distns.py:2688: RuntimeWarning: The shape parameter of the erlang distribution has been given a non-integer value 0.17476256244646002.\n",
      "  RuntimeWarning)\n",
      "C:\\Users\\julio\\Anaconda3\\lib\\site-packages\\scipy\\stats\\_continuous_distns.py:2688: RuntimeWarning: The shape parameter of the erlang distribution has been given a non-integer value 0.17476438752455975.\n",
      "  RuntimeWarning)\n",
      "C:\\Users\\julio\\Anaconda3\\lib\\site-packages\\scipy\\stats\\_continuous_distns.py:2688: RuntimeWarning: The shape parameter of the erlang distribution has been given a non-integer value 0.17476264582577072.\n",
      "  RuntimeWarning)\n",
      "C:\\Users\\julio\\Anaconda3\\lib\\site-packages\\scipy\\stats\\_continuous_distns.py:2688: RuntimeWarning: The shape parameter of the erlang distribution has been given a non-integer value 0.17476090320030813.\n",
      "  RuntimeWarning)\n",
      "C:\\Users\\julio\\Anaconda3\\lib\\site-packages\\scipy\\stats\\_continuous_distns.py:2688: RuntimeWarning: The shape parameter of the erlang distribution has been given a non-integer value 0.17476206495061652.\n",
      "  RuntimeWarning)\n",
      "C:\\Users\\julio\\Anaconda3\\lib\\site-packages\\scipy\\stats\\_continuous_distns.py:2688: RuntimeWarning: The shape parameter of the erlang distribution has been given a non-integer value 0.17476119363788523.\n",
      "  RuntimeWarning)\n",
      "C:\\Users\\julio\\Anaconda3\\lib\\site-packages\\scipy\\stats\\_continuous_distns.py:2688: RuntimeWarning: The shape parameter of the erlang distribution has been given a non-integer value 0.1747613084318786.\n",
      "  RuntimeWarning)\n"
     ]
    },
    {
     "name": "stderr",
     "output_type": "stream",
     "text": [
      "C:\\Users\\julio\\Anaconda3\\lib\\site-packages\\scipy\\stats\\_continuous_distns.py:2688: RuntimeWarning: The shape parameter of the erlang distribution has been given a non-integer value 0.17476143207290593.\n",
      "  RuntimeWarning)\n",
      "C:\\Users\\julio\\Anaconda3\\lib\\site-packages\\scipy\\stats\\_continuous_distns.py:2688: RuntimeWarning: The shape parameter of the erlang distribution has been given a non-integer value 0.17476174703725555.\n",
      "  RuntimeWarning)\n",
      "C:\\Users\\julio\\Anaconda3\\lib\\site-packages\\scipy\\stats\\_continuous_distns.py:2688: RuntimeWarning: The shape parameter of the erlang distribution has been given a non-integer value 0.1747613319877278.\n",
      "  RuntimeWarning)\n",
      "C:\\Users\\julio\\Anaconda3\\lib\\site-packages\\scipy\\stats\\_continuous_distns.py:2688: RuntimeWarning: The shape parameter of the erlang distribution has been given a non-integer value 0.17476144187878276.\n",
      "  RuntimeWarning)\n",
      "C:\\Users\\julio\\Anaconda3\\lib\\site-packages\\scipy\\stats\\_continuous_distns.py:2688: RuntimeWarning: The shape parameter of the erlang distribution has been given a non-integer value 0.17476143452437515.\n",
      "  RuntimeWarning)\n",
      "C:\\Users\\julio\\Anaconda3\\lib\\site-packages\\scipy\\stats\\_continuous_distns.py:2688: RuntimeWarning: The shape parameter of the erlang distribution has been given a non-integer value 0.17476161032172582.\n",
      "  RuntimeWarning)\n",
      "C:\\Users\\julio\\Anaconda3\\lib\\site-packages\\scipy\\stats\\_continuous_distns.py:2688: RuntimeWarning: The shape parameter of the erlang distribution has been given a non-integer value 0.17476140157122733.\n",
      "  RuntimeWarning)\n",
      "C:\\Users\\julio\\Anaconda3\\lib\\site-packages\\scipy\\stats\\_continuous_distns.py:2688: RuntimeWarning: The shape parameter of the erlang distribution has been given a non-integer value 0.17476148581631323.\n",
      "  RuntimeWarning)\n",
      "C:\\Users\\julio\\Anaconda3\\lib\\site-packages\\scipy\\stats\\_continuous_distns.py:2688: RuntimeWarning: The shape parameter of the erlang distribution has been given a non-integer value 0.17476144734735966.\n",
      "  RuntimeWarning)\n",
      "C:\\Users\\julio\\Anaconda3\\lib\\site-packages\\scipy\\stats\\_continuous_distns.py:2688: RuntimeWarning: The shape parameter of the erlang distribution has been given a non-integer value 0.1747615492868826.\n",
      "  RuntimeWarning)\n",
      "C:\\Users\\julio\\Anaconda3\\lib\\site-packages\\scipy\\stats\\_continuous_distns.py:2688: RuntimeWarning: The shape parameter of the erlang distribution has been given a non-integer value 0.17476162314471022.\n",
      "  RuntimeWarning)\n",
      "C:\\Users\\julio\\Anaconda3\\lib\\site-packages\\scipy\\stats\\_continuous_distns.py:2688: RuntimeWarning: The shape parameter of the erlang distribution has been given a non-integer value 0.1747615714704322.\n",
      "  RuntimeWarning)\n",
      "C:\\Users\\julio\\Anaconda3\\lib\\site-packages\\scipy\\stats\\_continuous_distns.py:2688: RuntimeWarning: The shape parameter of the erlang distribution has been given a non-integer value 0.17476147837812778.\n",
      "  RuntimeWarning)\n",
      "C:\\Users\\julio\\Anaconda3\\lib\\site-packages\\scipy\\stats\\_continuous_distns.py:2688: RuntimeWarning: The shape parameter of the erlang distribution has been given a non-integer value 0.17476154043966408.\n",
      "  RuntimeWarning)\n",
      "C:\\Users\\julio\\Anaconda3\\lib\\site-packages\\scipy\\stats\\_continuous_distns.py:2688: RuntimeWarning: The shape parameter of the erlang distribution has been given a non-integer value 0.17476149389351187.\n",
      "  RuntimeWarning)\n",
      "C:\\Users\\julio\\Anaconda3\\lib\\site-packages\\scipy\\stats\\_continuous_distns.py:2688: RuntimeWarning: The shape parameter of the erlang distribution has been given a non-integer value 0.17476152492428.\n",
      "  RuntimeWarning)\n",
      "C:\\Users\\julio\\Anaconda3\\lib\\site-packages\\scipy\\stats\\_continuous_distns.py:2688: RuntimeWarning: The shape parameter of the erlang distribution has been given a non-integer value 0.17476334127840326.\n",
      "  RuntimeWarning)\n",
      "C:\\Users\\julio\\Anaconda3\\lib\\site-packages\\scipy\\stats\\_continuous_distns.py:2688: RuntimeWarning: The shape parameter of the erlang distribution has been given a non-integer value 0.1747611476896097.\n",
      "  RuntimeWarning)\n",
      "C:\\Users\\julio\\Anaconda3\\lib\\site-packages\\scipy\\stats\\_continuous_distns.py:2688: RuntimeWarning: The shape parameter of the erlang distribution has been given a non-integer value 0.17476025215405486.\n",
      "  RuntimeWarning)\n",
      "C:\\Users\\julio\\Anaconda3\\lib\\site-packages\\scipy\\stats\\_continuous_distns.py:2688: RuntimeWarning: The shape parameter of the erlang distribution has been given a non-integer value 0.17475909700785225.\n",
      "  RuntimeWarning)\n",
      "C:\\Users\\julio\\Anaconda3\\lib\\site-packages\\scipy\\stats\\_continuous_distns.py:2688: RuntimeWarning: The shape parameter of the erlang distribution has been given a non-integer value 0.17476106988720191.\n",
      "  RuntimeWarning)\n",
      "C:\\Users\\julio\\Anaconda3\\lib\\site-packages\\scipy\\stats\\_continuous_distns.py:2688: RuntimeWarning: The shape parameter of the erlang distribution has been given a non-integer value 0.17476112823900775.\n",
      "  RuntimeWarning)\n",
      "C:\\Users\\julio\\Anaconda3\\lib\\site-packages\\scipy\\stats\\_continuous_distns.py:2688: RuntimeWarning: The shape parameter of the erlang distribution has been given a non-integer value 0.17476108933780388.\n",
      "  RuntimeWarning)\n",
      "C:\\Users\\julio\\Anaconda3\\lib\\site-packages\\scipy\\stats\\_continuous_distns.py:2688: RuntimeWarning: The shape parameter of the erlang distribution has been given a non-integer value 0.1747611185137068.\n",
      "  RuntimeWarning)\n",
      "C:\\Users\\julio\\Anaconda3\\lib\\site-packages\\scipy\\stats\\_continuous_distns.py:2688: RuntimeWarning: The shape parameter of the erlang distribution has been given a non-integer value 0.17476109906310483.\n",
      "  RuntimeWarning)\n",
      "C:\\Users\\julio\\Anaconda3\\lib\\site-packages\\scipy\\stats\\_continuous_distns.py:2688: RuntimeWarning: The shape parameter of the erlang distribution has been given a non-integer value 0.17476040874508153.\n",
      "  RuntimeWarning)\n",
      "C:\\Users\\julio\\Anaconda3\\lib\\site-packages\\scipy\\stats\\_continuous_distns.py:2688: RuntimeWarning: The shape parameter of the erlang distribution has been given a non-integer value 0.1747612458794804.\n",
      "  RuntimeWarning)\n",
      "C:\\Users\\julio\\Anaconda3\\lib\\site-packages\\scipy\\stats\\_continuous_distns.py:2688: RuntimeWarning: The shape parameter of the erlang distribution has been given a non-integer value 0.17476018211087746.\n",
      "  RuntimeWarning)\n",
      "C:\\Users\\julio\\Anaconda3\\lib\\site-packages\\scipy\\stats\\_continuous_distns.py:2688: RuntimeWarning: The shape parameter of the erlang distribution has been given a non-integer value 0.17476120749288132.\n",
      "  RuntimeWarning)\n",
      "C:\\Users\\julio\\Anaconda3\\lib\\site-packages\\scipy\\stats\\_continuous_distns.py:2688: RuntimeWarning: The shape parameter of the erlang distribution has been given a non-integer value 0.17476045992721362.\n",
      "  RuntimeWarning)\n",
      "C:\\Users\\julio\\Anaconda3\\lib\\site-packages\\scipy\\stats\\_continuous_distns.py:2688: RuntimeWarning: The shape parameter of the erlang distribution has been given a non-integer value 0.17476104939141368.\n",
      "  RuntimeWarning)\n",
      "C:\\Users\\julio\\Anaconda3\\lib\\site-packages\\scipy\\stats\\_continuous_distns.py:2688: RuntimeWarning: The shape parameter of the erlang distribution has been given a non-integer value 0.17476039291283424.\n",
      "  RuntimeWarning)\n",
      "C:\\Users\\julio\\Anaconda3\\lib\\site-packages\\scipy\\stats\\_continuous_distns.py:2688: RuntimeWarning: The shape parameter of the erlang distribution has been given a non-integer value 0.17476100384786955.\n",
      "  RuntimeWarning)\n",
      "C:\\Users\\julio\\Anaconda3\\lib\\site-packages\\scipy\\stats\\_continuous_distns.py:2688: RuntimeWarning: The shape parameter of the erlang distribution has been given a non-integer value 0.1747605206519391.\n",
      "  RuntimeWarning)\n",
      "C:\\Users\\julio\\Anaconda3\\lib\\site-packages\\scipy\\stats\\_continuous_distns.py:2688: RuntimeWarning: The shape parameter of the erlang distribution has been given a non-integer value 0.17476091720654502.\n",
      "  RuntimeWarning)\n",
      "C:\\Users\\julio\\Anaconda3\\lib\\site-packages\\scipy\\stats\\_continuous_distns.py:2688: RuntimeWarning: The shape parameter of the erlang distribution has been given a non-integer value 0.17476050843460025.\n",
      "  RuntimeWarning)\n",
      "C:\\Users\\julio\\Anaconda3\\lib\\site-packages\\scipy\\stats\\_continuous_distns.py:2688: RuntimeWarning: The shape parameter of the erlang distribution has been given a non-integer value 0.17476087999455223.\n",
      "  RuntimeWarning)\n",
      "C:\\Users\\julio\\Anaconda3\\lib\\site-packages\\scipy\\stats\\_continuous_distns.py:2688: RuntimeWarning: The shape parameter of the erlang distribution has been given a non-integer value 0.17476057026792957.\n",
      "  RuntimeWarning)\n",
      "C:\\Users\\julio\\Anaconda3\\lib\\site-packages\\scipy\\stats\\_continuous_distns.py:2688: RuntimeWarning: The shape parameter of the erlang distribution has been given a non-integer value 0.17476083047189117.\n",
      "  RuntimeWarning)\n",
      "C:\\Users\\julio\\Anaconda3\\lib\\site-packages\\scipy\\stats\\_continuous_distns.py:2688: RuntimeWarning: The shape parameter of the erlang distribution has been given a non-integer value 0.174760574464815.\n",
      "  RuntimeWarning)\n",
      "C:\\Users\\julio\\Anaconda3\\lib\\site-packages\\scipy\\stats\\_continuous_distns.py:2688: RuntimeWarning: The shape parameter of the erlang distribution has been given a non-integer value 0.17476080361211793.\n",
      "  RuntimeWarning)\n",
      "C:\\Users\\julio\\Anaconda3\\lib\\site-packages\\scipy\\stats\\_continuous_distns.py:2688: RuntimeWarning: The shape parameter of the erlang distribution has been given a non-integer value 0.1747606060809605.\n",
      "  RuntimeWarning)\n",
      "C:\\Users\\julio\\Anaconda3\\lib\\site-packages\\scipy\\stats\\_continuous_distns.py:2688: RuntimeWarning: The shape parameter of the erlang distribution has been given a non-integer value 0.1747607743741585.\n",
      "  RuntimeWarning)\n",
      "C:\\Users\\julio\\Anaconda3\\lib\\site-packages\\scipy\\stats\\_continuous_distns.py:2688: RuntimeWarning: The shape parameter of the erlang distribution has been given a non-integer value 0.17476061344876082.\n",
      "  RuntimeWarning)\n",
      "C:\\Users\\julio\\Anaconda3\\lib\\site-packages\\scipy\\stats\\_continuous_distns.py:2688: RuntimeWarning: The shape parameter of the erlang distribution has been given a non-integer value 0.17476051836708228.\n",
      "  RuntimeWarning)\n",
      "C:\\Users\\julio\\Anaconda3\\lib\\site-packages\\scipy\\stats\\_continuous_distns.py:2688: RuntimeWarning: The shape parameter of the erlang distribution has been given a non-integer value 0.1747605354031218.\n",
      "  RuntimeWarning)\n",
      "C:\\Users\\julio\\Anaconda3\\lib\\site-packages\\scipy\\stats\\_continuous_distns.py:2688: RuntimeWarning: The shape parameter of the erlang distribution has been given a non-integer value 0.1747607146313993.\n",
      "  RuntimeWarning)\n",
      "C:\\Users\\julio\\Anaconda3\\lib\\site-packages\\scipy\\stats\\_continuous_distns.py:2688: RuntimeWarning: The shape parameter of the erlang distribution has been given a non-integer value 0.17475995442637182.\n",
      "  RuntimeWarning)\n",
      "C:\\Users\\julio\\Anaconda3\\lib\\site-packages\\scipy\\stats\\_continuous_distns.py:2688: RuntimeWarning: The shape parameter of the erlang distribution has been given a non-integer value 0.1747608129039216.\n",
      "  RuntimeWarning)\n",
      "C:\\Users\\julio\\Anaconda3\\lib\\site-packages\\scipy\\stats\\_continuous_distns.py:2688: RuntimeWarning: The shape parameter of the erlang distribution has been given a non-integer value 0.1747604043730922.\n",
      "  RuntimeWarning)\n",
      "C:\\Users\\julio\\Anaconda3\\lib\\site-packages\\scipy\\stats\\_continuous_distns.py:2688: RuntimeWarning: The shape parameter of the erlang distribution has been given a non-integer value 0.17476063706682254.\n",
      "  RuntimeWarning)\n",
      "C:\\Users\\julio\\Anaconda3\\lib\\site-packages\\scipy\\stats\\_continuous_distns.py:2688: RuntimeWarning: The shape parameter of the erlang distribution has been given a non-integer value 0.17476018887583722.\n",
      "  RuntimeWarning)\n",
      "C:\\Users\\julio\\Anaconda3\\lib\\site-packages\\scipy\\stats\\_continuous_distns.py:2688: RuntimeWarning: The shape parameter of the erlang distribution has been given a non-integer value 0.1747606568969005.\n",
      "  RuntimeWarning)\n"
     ]
    },
    {
     "name": "stderr",
     "output_type": "stream",
     "text": [
      "C:\\Users\\julio\\Anaconda3\\lib\\site-packages\\scipy\\stats\\_continuous_distns.py:2688: RuntimeWarning: The shape parameter of the erlang distribution has been given a non-integer value 0.1747603779329882.\n",
      "  RuntimeWarning)\n",
      "C:\\Users\\julio\\Anaconda3\\lib\\site-packages\\scipy\\stats\\_continuous_distns.py:2688: RuntimeWarning: The shape parameter of the erlang distribution has been given a non-integer value 0.17476057228336395.\n",
      "  RuntimeWarning)\n",
      "C:\\Users\\julio\\Anaconda3\\lib\\site-packages\\scipy\\stats\\_continuous_distns.py:2688: RuntimeWarning: The shape parameter of the erlang distribution has been given a non-integer value 0.1747603016938859.\n",
      "  RuntimeWarning)\n",
      "C:\\Users\\julio\\Anaconda3\\lib\\site-packages\\scipy\\stats\\_continuous_distns.py:2688: RuntimeWarning: The shape parameter of the erlang distribution has been given a non-integer value 0.17476056809614687.\n",
      "  RuntimeWarning)\n",
      "C:\\Users\\julio\\Anaconda3\\lib\\site-packages\\scipy\\stats\\_continuous_distns.py:2688: RuntimeWarning: The shape parameter of the erlang distribution has been given a non-integer value 0.17476038351594442.\n",
      "  RuntimeWarning)\n",
      "C:\\Users\\julio\\Anaconda3\\lib\\site-packages\\scipy\\stats\\_continuous_distns.py:2688: RuntimeWarning: The shape parameter of the erlang distribution has been given a non-integer value 0.17476052509150908.\n",
      "  RuntimeWarning)\n",
      "C:\\Users\\julio\\Anaconda3\\lib\\site-packages\\scipy\\stats\\_continuous_distns.py:2688: RuntimeWarning: The shape parameter of the erlang distribution has been given a non-integer value 0.17476035903340298.\n",
      "  RuntimeWarning)\n",
      "C:\\Users\\julio\\Anaconda3\\lib\\site-packages\\scipy\\stats\\_continuous_distns.py:2688: RuntimeWarning: The shape parameter of the erlang distribution has been given a non-integer value 0.17476025450203103.\n",
      "  RuntimeWarning)\n",
      "C:\\Users\\julio\\Anaconda3\\lib\\site-packages\\scipy\\stats\\_continuous_distns.py:2688: RuntimeWarning: The shape parameter of the erlang distribution has been given a non-integer value 0.17476029133263665.\n",
      "  RuntimeWarning)\n",
      "C:\\Users\\julio\\Anaconda3\\lib\\site-packages\\scipy\\stats\\_continuous_distns.py:2688: RuntimeWarning: The shape parameter of the erlang distribution has been given a non-integer value 0.17476046665179096.\n",
      "  RuntimeWarning)\n",
      "C:\\Users\\julio\\Anaconda3\\lib\\site-packages\\scipy\\stats\\_continuous_distns.py:2688: RuntimeWarning: The shape parameter of the erlang distribution has been given a non-integer value 0.17476034977235477.\n",
      "  RuntimeWarning)\n",
      "C:\\Users\\julio\\Anaconda3\\lib\\site-packages\\scipy\\stats\\_continuous_distns.py:2688: RuntimeWarning: The shape parameter of the erlang distribution has been given a non-integer value 0.17476043743193193.\n",
      "  RuntimeWarning)\n",
      "C:\\Users\\julio\\Anaconda3\\lib\\site-packages\\scipy\\stats\\_continuous_distns.py:2688: RuntimeWarning: The shape parameter of the erlang distribution has been given a non-integer value 0.17476068778867568.\n",
      "  RuntimeWarning)\n",
      "C:\\Users\\julio\\Anaconda3\\lib\\site-packages\\scipy\\stats\\_continuous_distns.py:2688: RuntimeWarning: The shape parameter of the erlang distribution has been given a non-integer value 0.17476036106271006.\n",
      "  RuntimeWarning)\n",
      "C:\\Users\\julio\\Anaconda3\\lib\\site-packages\\scipy\\stats\\_continuous_distns.py:2688: RuntimeWarning: The shape parameter of the erlang distribution has been given a non-integer value 0.17476045159798398.\n",
      "  RuntimeWarning)\n",
      "C:\\Users\\julio\\Anaconda3\\lib\\site-packages\\scipy\\stats\\_continuous_distns.py:2688: RuntimeWarning: The shape parameter of the erlang distribution has been given a non-integer value 0.17476044097344495.\n",
      "  RuntimeWarning)\n",
      "C:\\Users\\julio\\Anaconda3\\lib\\site-packages\\scipy\\stats\\_continuous_distns.py:2688: RuntimeWarning: The shape parameter of the erlang distribution has been given a non-integer value 0.17476058124102908.\n",
      "  RuntimeWarning)\n",
      "C:\\Users\\julio\\Anaconda3\\lib\\site-packages\\scipy\\stats\\_continuous_distns.py:2688: RuntimeWarning: The shape parameter of the erlang distribution has been given a non-integer value 0.17476041610728982.\n",
      "  RuntimeWarning)\n",
      "C:\\Users\\julio\\Anaconda3\\lib\\site-packages\\scipy\\stats\\_continuous_distns.py:2688: RuntimeWarning: The shape parameter of the erlang distribution has been given a non-integer value 0.17476048475285744.\n",
      "  RuntimeWarning)\n",
      "C:\\Users\\julio\\Anaconda3\\lib\\site-packages\\scipy\\stats\\_continuous_distns.py:2688: RuntimeWarning: The shape parameter of the erlang distribution has been given a non-integer value 0.1747605066425637.\n",
      "  RuntimeWarning)\n",
      "C:\\Users\\julio\\Anaconda3\\lib\\site-packages\\scipy\\stats\\_continuous_distns.py:2688: RuntimeWarning: The shape parameter of the erlang distribution has been given a non-integer value 0.17476055538272428.\n",
      "  RuntimeWarning)\n",
      "C:\\Users\\julio\\Anaconda3\\lib\\site-packages\\scipy\\stats\\_continuous_distns.py:2688: RuntimeWarning: The shape parameter of the erlang distribution has been given a non-integer value 0.17476045092614845.\n",
      "  RuntimeWarning)\n",
      "C:\\Users\\julio\\Anaconda3\\lib\\site-packages\\scipy\\stats\\_continuous_distns.py:2688: RuntimeWarning: The shape parameter of the erlang distribution has been given a non-integer value 0.17476024969284515.\n",
      "  RuntimeWarning)\n",
      "C:\\Users\\julio\\Anaconda3\\lib\\site-packages\\scipy\\stats\\_continuous_distns.py:2688: RuntimeWarning: The shape parameter of the erlang distribution has been given a non-integer value 0.1747605225097819.\n",
      "  RuntimeWarning)\n",
      "C:\\Users\\julio\\Anaconda3\\lib\\site-packages\\scipy\\stats\\_continuous_distns.py:2688: RuntimeWarning: The shape parameter of the erlang distribution has been given a non-integer value 0.1747604599378798.\n",
      "  RuntimeWarning)\n",
      "C:\\Users\\julio\\Anaconda3\\lib\\site-packages\\scipy\\stats\\_continuous_distns.py:2688: RuntimeWarning: The shape parameter of the erlang distribution has been given a non-integer value 0.1747604531790813.\n",
      "  RuntimeWarning)\n",
      "C:\\Users\\julio\\Anaconda3\\lib\\site-packages\\scipy\\stats\\_continuous_distns.py:2688: RuntimeWarning: The shape parameter of the erlang distribution has been given a non-integer value 0.17476034213377917.\n",
      "  RuntimeWarning)\n",
      "C:\\Users\\julio\\Anaconda3\\lib\\site-packages\\scipy\\stats\\_continuous_distns.py:2688: RuntimeWarning: The shape parameter of the erlang distribution has been given a non-integer value 0.1747604774157812.\n",
      "  RuntimeWarning)\n",
      "C:\\Users\\julio\\Anaconda3\\lib\\site-packages\\scipy\\stats\\_continuous_distns.py:2688: RuntimeWarning: The shape parameter of the erlang distribution has been given a non-integer value 0.17476042762227978.\n",
      "  RuntimeWarning)\n",
      "C:\\Users\\julio\\Anaconda3\\lib\\site-packages\\scipy\\stats\\_continuous_distns.py:2688: RuntimeWarning: The shape parameter of the erlang distribution has been given a non-integer value 0.1747604467898809.\n",
      "  RuntimeWarning)\n",
      "C:\\Users\\julio\\Anaconda3\\lib\\site-packages\\scipy\\stats\\_continuous_distns.py:2688: RuntimeWarning: The shape parameter of the erlang distribution has been given a non-integer value 0.17476038296831303.\n",
      "  RuntimeWarning)\n",
      "C:\\Users\\julio\\Anaconda3\\lib\\site-packages\\scipy\\stats\\_continuous_distns.py:2688: RuntimeWarning: The shape parameter of the erlang distribution has been given a non-integer value 0.17476045380391417.\n",
      "  RuntimeWarning)\n",
      "C:\\Users\\julio\\Anaconda3\\lib\\site-packages\\scipy\\stats\\_continuous_distns.py:2688: RuntimeWarning: The shape parameter of the erlang distribution has been given a non-integer value 0.17476041827023553.\n",
      "  RuntimeWarning)\n",
      "C:\\Users\\julio\\Anaconda3\\lib\\site-packages\\scipy\\stats\\_continuous_distns.py:2688: RuntimeWarning: The shape parameter of the erlang distribution has been given a non-integer value 0.17476043965996957.\n",
      "  RuntimeWarning)\n",
      "C:\\Users\\julio\\Anaconda3\\lib\\site-packages\\scipy\\stats\\_continuous_distns.py:2688: RuntimeWarning: The shape parameter of the erlang distribution has been given a non-integer value 0.17476040182690586.\n",
      "  RuntimeWarning)\n",
      "C:\\Users\\julio\\Anaconda3\\lib\\site-packages\\scipy\\stats\\_continuous_distns.py:2688: RuntimeWarning: The shape parameter of the erlang distribution has been given a non-integer value 0.17476044080966208.\n",
      "  RuntimeWarning)\n",
      "C:\\Users\\julio\\Anaconda3\\lib\\site-packages\\scipy\\stats\\_continuous_distns.py:2688: RuntimeWarning: The shape parameter of the erlang distribution has been given a non-integer value array(0.17476048).\n",
      "  RuntimeWarning)\n"
     ]
    },
    {
     "name": "stdout",
     "output_type": "stream",
     "text": [
      "La distribucion que mejor se ajusta a los datos es bradford\n",
      "Con un error de 2.4680996984597354\n"
     ]
    },
    {
     "data": {
      "image/png": "[encoded data removed]",
      "text/plain": [
       "<Figure size 432x288 with 1 Axes>"
      ]
     },
     "metadata": {
      "needs_background": "light"
     },
     "output_type": "display_data"
    }
   ],
   "source": [
    "dist_continu = [d for d in dir(st) if isinstance(getattr(st, d), st.rv_continuous)]\n",
    "e = []\n",
    "data = tipsdcasualty\n",
    "[y, x, _] = plt.hist(data, bins=30, density=True, label='data')\n",
    "x = x[1:]\n",
    "    \n",
    "for dist in dist_continu[10:20]:\n",
    "    param = getattr(st, dist).fit(data)\n",
    "    pdf = getattr(st, dist).pdf(x, *param)\n",
    "    e.append(((y - pdf) **2).mean())\n",
    "    pos_min=e.index(min(e))\n",
    "    e_min=min(e)\n",
    "print(\"La distribucion que mejor se ajusta a los datos es\",dist_continu[pos_min])\n",
    "print(\"Con un error de\", e_min)\n"
   ]
  },
  {
   "cell_type": "code",
   "execution_count": 263,
   "metadata": {},
   "outputs": [
    {
     "data": {
      "image/png": "[encoded data removed]",
      "text/plain": [
       "<Figure size 576x720 with 2 Axes>"
      ]
     },
     "metadata": {
      "needs_background": "light"
     },
     "output_type": "display_data"
    }
   ],
   "source": [
    "import statsmodels.api as sm\n",
    "divisiones = 30 # Cantidad de barras en el histograma\n",
    "fig, ax = plt.subplots(2,1, figsize=(8,10))\n",
    "fig.tight_layout(pad=3.0)\n",
    "\n",
    "[y_real, x, _] = ax[0].hist(tipsdcasualty,divisiones, density=True)\n",
    "x = x[1:]\n",
    "\n",
    "# Función de distribución de probabilidad la cual creemos que mis datos distribuyen \n",
    "# RECORDAR: SÓLO FUNCIONA PARA DISTRIBUCIONES CONTINUAS\n",
    "dist = 'anglit'\n",
    "params = getattr(st, dist).fit(tipsdcasualty)\n",
    "\n",
    "# Graficar PDF de la distribución que queremos probar\n",
    "\n",
    "y_est = getattr(st, dist).pdf(x, *params)\n",
    "ax[0].plot(x, y_est, 'r--')\n",
    "ax[0].set_ylabel('Probability')\n",
    "ax[0].grid()\n",
    "\n",
    "# usando paquete stats\n",
    "grap1 = sm.qqplot(tipsdcasualty, dist=dist, line='q', fit=True, ax=ax[1])\n",
    "ax[1].grid()\n",
    "ax[1].set_title('Usando paquete stats')\n",
    "\n",
    "# plt.xlabel(f'{dist.title()} theorical quantiles')\n",
    "# plt.ylabel('Data theorical quantiles')\n",
    "plt.show()"
   ]
  },
  {
   "cell_type": "markdown",
   "metadata": {},
   "source": [
    "Podemos notar que con el metdo kernel y probando alguna distribucion de probablidada ninguan se asemeja a la PDF de nuestros datos por lo que despues de concluir que la distribucion que más se asemeja a los datos anglit pero con la comprobacion me metodo Q-Q observamos que nuestros datos no deistribucyen en esa funcion de probabilidad"
   ]
  },
  {
   "cell_type": "code",
   "execution_count": 264,
   "metadata": {},
   "outputs": [
    {
     "data": {
      "text/plain": [
       "array([0.47636039, 0.90900981, 1.        ])"
      ]
     },
     "execution_count": 264,
     "metadata": {},
     "output_type": "execute_result"
    }
   ],
   "source": [
    "prob_acum_c=probcasualty.cumsum()\n",
    "prob_acum_c"
   ]
  },
  {
   "cell_type": "code",
   "execution_count": 265,
   "metadata": {},
   "outputs": [
    {
     "data": {
      "image/png": "[encoded data removed]",
      "text/plain": [
       "<Figure size 576x288 with 1 Axes>"
      ]
     },
     "metadata": {
      "needs_background": "light"
     },
     "output_type": "display_data"
    }
   ],
   "source": [
    "N = 10**4\n",
    "road_u = np.random.rand(N)\n",
    "v = Gen_distr_discreta(road_u, prob_acum_c)\n",
    "\n",
    "plot_histogram_discrete(v, 'Tipo de casualty', 'Frecuencia', 'Frecuencia casualty')"
   ]
  },
  {
   "cell_type": "code",
   "execution_count": 266,
   "metadata": {},
   "outputs": [
    {
     "data": {
      "text/plain": [
       "(0.6146297948260482, 0.17736883977184287)"
      ]
     },
     "execution_count": 266,
     "metadata": {},
     "output_type": "execute_result"
    }
   ],
   "source": [
    "miu_casualty = [tipocasualty[i]*probcasualty[i] for i in range(len(freqcasualty))]\n",
    "miuu2 = np.sum(miu_casualty)\n",
    "std2 = np.std(miu_casualty )\n",
    "miuu2, std2"
   ]
  },
  {
   "cell_type": "markdown",
   "metadata": {},
   "source": [
    "Aqui podemos ver que la media de mis datos es 0.614 con una volatilidad de 0.177 lo caul la estimaremos con metodos de reduccion de varianza para comprobar los datos optenidos. "
   ]
  },
  {
   "cell_type": "code",
   "execution_count": 267,
   "metadata": {},
   "outputs": [
    {
     "data": {
      "text/plain": [
       "3.7548"
      ]
     },
     "execution_count": 267,
     "metadata": {},
     "output_type": "execute_result"
    }
   ],
   "source": [
    "#Estratificado\n",
    "N = 10**4\n",
    "u = muestreo_est(N)\n",
    "funcion2 = lambda u: Gen_distr_discreta(u, prob_acum_c)+1\n",
    "media2 = np.mean(funcion2(u))\n",
    "media2"
   ]
  },
  {
   "cell_type": "code",
   "execution_count": 268,
   "metadata": {},
   "outputs": [
    {
     "data": {
      "text/plain": [
       "1.3093"
      ]
     },
     "execution_count": 268,
     "metadata": {},
     "output_type": "execute_result"
    }
   ],
   "source": [
    "# c Montercarlo crudo\n",
    "N=10000\n",
    "U=np.random.uniform(-1,1,N)\n",
    "M_c=funcion2(U)\n",
    "M_cru=M_c.mean()\n",
    "M_cru"
   ]
  },
  {
   "cell_type": "code",
   "execution_count": 269,
   "metadata": {},
   "outputs": [
    {
     "name": "stdout",
     "output_type": "stream",
     "text": [
      "Media de observaciones complementarias  =  1.30795\n"
     ]
    }
   ],
   "source": [
    "# Numeros complementarios\n",
    "ri = -U\n",
    "xi2 = funcion2(ri).mean()\n",
    "m_estimada = (M_cru+xi2)/2\n",
    "print('Media de observaciones complementarias  = ',m_estimada)"
   ]
  },
  {
   "cell_type": "markdown",
   "metadata": {},
   "source": [
    "### Conclusión\n",
    "Podemos concluir que con la media de mi funcion de distribucion de probabilidad es .6 lo cual nos indica que las personas que más fallecen son los pasajeros en los accidentes, con los metodos de reduccion de varainza el unico metodo que se acerca a la media de mi distribucion es el metodo estratificado el cual nos dio 1.89. \n",
    "Con lo que al final vemos que las personas que con un tipo de clima fine no hihg winds fallecen más los pasajeros de los vehiculos accidentados. "
   ]
  },
  {
   "cell_type": "markdown",
   "metadata": {},
   "source": [
    "### Nodo 4\n",
    "\n",
    "Ahora veremos que edad tienen las personas que fallen en estos tipos de accidenetes por lo que primero haremos el histograma de como la edad de las personas fallecidas"
   ]
  },
  {
   "cell_type": "code",
   "execution_count": 270,
   "metadata": {},
   "outputs": [
    {
     "data": {
      "text/plain": [
       "array(['Unknown or missing', '0', '1', '2', '3', '4', '5', '6', '7', '8',\n",
       "       '9', '10', '11', '12', '13', '14', '15', '16', '17', '18', '19',\n",
       "       '20', '21', '22', '23', '24', '25', '26', '27', '28', '29', '30',\n",
       "       '31', '32', '33', '34', '35', '36', '37', '38', '39', '40', '41',\n",
       "       '42', '43', '44', '45', '46', '47', '48', '49', '50', '51', '52',\n",
       "       '53', '54', '55', '56', '57', '58', '59', '60', '61', '62', '63',\n",
       "       '64', '65', '66', '67', '68', '69', '70', '71', '72', '73', '74',\n",
       "       '75', '76', '77', '78', '79', '80', '81', '82', '83', '84', '85',\n",
       "       '86', '87', '88', '89', '90', '91', '92', '93', '94', '95', '96',\n",
       "       '97', '98', '99', '102', '101'], dtype=object)"
      ]
     },
     "execution_count": 270,
     "metadata": {},
     "output_type": "execute_result"
    }
   ],
   "source": [
    "tipsd.iloc[:,3].unique()"
   ]
  },
  {
   "cell_type": "markdown",
   "metadata": {},
   "source": [
    "Se observa que han fallecido personas de todas las edades y se reporta que tambien se desconoce la edad de la persona que ha fallecido por lo que eliminaremos todos los renglones que presente edad desconocida ya que no podemos trabajar con ella."
   ]
  },
  {
   "cell_type": "code",
   "execution_count": 272,
   "metadata": {},
   "outputs": [
    {
     "data": {
      "text/html": [
       "<div>\n",
       "<style scoped>\n",
       "    .dataframe tbody tr th:only-of-type {\n",
       "        vertical-align: middle;\n",
       "    }\n",
       "\n",
       "    .dataframe tbody tr th {\n",
       "        vertical-align: top;\n",
       "    }\n",
       "\n",
       "    .dataframe thead th {\n",
       "        text-align: right;\n",
       "    }\n",
       "</style>\n",
       "<table border=\"1\" class=\"dataframe\">\n",
       "  <thead>\n",
       "    <tr style=\"text-align: right;\">\n",
       "      <th></th>\n",
       "      <th>Accident year</th>\n",
       "      <th>Road_User</th>\n",
       "      <th>Casualty_class</th>\n",
       "      <th>Casualty age</th>\n",
       "      <th>Weather_condition</th>\n",
       "      <th>All casualties</th>\n",
       "    </tr>\n",
       "  </thead>\n",
       "  <tbody>\n",
       "    <tr>\n",
       "      <td>1</td>\n",
       "      <td>2019</td>\n",
       "      <td>0</td>\n",
       "      <td>2</td>\n",
       "      <td>Unknown or missing</td>\n",
       "      <td>1</td>\n",
       "      <td>283</td>\n",
       "    </tr>\n",
       "    <tr>\n",
       "      <td>8</td>\n",
       "      <td>2019</td>\n",
       "      <td>0</td>\n",
       "      <td>2</td>\n",
       "      <td>0</td>\n",
       "      <td>1</td>\n",
       "      <td>40</td>\n",
       "    </tr>\n",
       "    <tr>\n",
       "      <td>11</td>\n",
       "      <td>2019</td>\n",
       "      <td>0</td>\n",
       "      <td>2</td>\n",
       "      <td>1</td>\n",
       "      <td>1</td>\n",
       "      <td>40</td>\n",
       "    </tr>\n",
       "    <tr>\n",
       "      <td>15</td>\n",
       "      <td>2019</td>\n",
       "      <td>0</td>\n",
       "      <td>2</td>\n",
       "      <td>2</td>\n",
       "      <td>1</td>\n",
       "      <td>110</td>\n",
       "    </tr>\n",
       "    <tr>\n",
       "      <td>21</td>\n",
       "      <td>2019</td>\n",
       "      <td>0</td>\n",
       "      <td>2</td>\n",
       "      <td>3</td>\n",
       "      <td>1</td>\n",
       "      <td>192</td>\n",
       "    </tr>\n",
       "    <tr>\n",
       "      <td>...</td>\n",
       "      <td>...</td>\n",
       "      <td>...</td>\n",
       "      <td>...</td>\n",
       "      <td>...</td>\n",
       "      <td>...</td>\n",
       "      <td>...</td>\n",
       "    </tr>\n",
       "    <tr>\n",
       "      <td>4307</td>\n",
       "      <td>2019</td>\n",
       "      <td>7</td>\n",
       "      <td>1</td>\n",
       "      <td>73</td>\n",
       "      <td>1</td>\n",
       "      <td>1</td>\n",
       "    </tr>\n",
       "    <tr>\n",
       "      <td>4309</td>\n",
       "      <td>2019</td>\n",
       "      <td>7</td>\n",
       "      <td>1</td>\n",
       "      <td>75</td>\n",
       "      <td>1</td>\n",
       "      <td>2</td>\n",
       "    </tr>\n",
       "    <tr>\n",
       "      <td>4310</td>\n",
       "      <td>2019</td>\n",
       "      <td>7</td>\n",
       "      <td>1</td>\n",
       "      <td>79</td>\n",
       "      <td>1</td>\n",
       "      <td>2</td>\n",
       "    </tr>\n",
       "    <tr>\n",
       "      <td>4311</td>\n",
       "      <td>2019</td>\n",
       "      <td>7</td>\n",
       "      <td>1</td>\n",
       "      <td>80</td>\n",
       "      <td>1</td>\n",
       "      <td>1</td>\n",
       "    </tr>\n",
       "    <tr>\n",
       "      <td>4313</td>\n",
       "      <td>2019</td>\n",
       "      <td>7</td>\n",
       "      <td>1</td>\n",
       "      <td>94</td>\n",
       "      <td>1</td>\n",
       "      <td>1</td>\n",
       "    </tr>\n",
       "  </tbody>\n",
       "</table>\n",
       "<p>1121 rows × 6 columns</p>\n",
       "</div>"
      ],
      "text/plain": [
       "      Accident year  Road_User  Casualty_class        Casualty age  \\\n",
       "1              2019          0               2  Unknown or missing   \n",
       "8              2019          0               2                   0   \n",
       "11             2019          0               2                   1   \n",
       "15             2019          0               2                   2   \n",
       "21             2019          0               2                   3   \n",
       "...             ...        ...             ...                 ...   \n",
       "4307           2019          7               1                  73   \n",
       "4309           2019          7               1                  75   \n",
       "4310           2019          7               1                  79   \n",
       "4311           2019          7               1                  80   \n",
       "4313           2019          7               1                  94   \n",
       "\n",
       "      Weather_condition  All casualties  \n",
       "1                     1             283  \n",
       "8                     1              40  \n",
       "11                    1              40  \n",
       "15                    1             110  \n",
       "21                    1             192  \n",
       "...                 ...             ...  \n",
       "4307                  1               1  \n",
       "4309                  1               2  \n",
       "4310                  1               2  \n",
       "4311                  1               1  \n",
       "4313                  1               1  \n",
       "\n",
       "[1121 rows x 6 columns]"
      ]
     },
     "execution_count": 272,
     "metadata": {},
     "output_type": "execute_result"
    }
   ],
   "source": [
    "tipsd"
   ]
  },
  {
   "cell_type": "code",
   "execution_count": 283,
   "metadata": {},
   "outputs": [
    {
     "data": {
      "text/html": [
       "<div>\n",
       "<style scoped>\n",
       "    .dataframe tbody tr th:only-of-type {\n",
       "        vertical-align: middle;\n",
       "    }\n",
       "\n",
       "    .dataframe tbody tr th {\n",
       "        vertical-align: top;\n",
       "    }\n",
       "\n",
       "    .dataframe thead th {\n",
       "        text-align: right;\n",
       "    }\n",
       "</style>\n",
       "<table border=\"1\" class=\"dataframe\">\n",
       "  <thead>\n",
       "    <tr style=\"text-align: right;\">\n",
       "      <th></th>\n",
       "      <th>Accident year</th>\n",
       "      <th>Road_User</th>\n",
       "      <th>Casualty_class</th>\n",
       "      <th>Casualty_age</th>\n",
       "      <th>Weather_condition</th>\n",
       "      <th>All casualties</th>\n",
       "    </tr>\n",
       "  </thead>\n",
       "  <tbody>\n",
       "    <tr>\n",
       "      <td>8</td>\n",
       "      <td>2019</td>\n",
       "      <td>0</td>\n",
       "      <td>2</td>\n",
       "      <td>0</td>\n",
       "      <td>1</td>\n",
       "      <td>40</td>\n",
       "    </tr>\n",
       "    <tr>\n",
       "      <td>11</td>\n",
       "      <td>2019</td>\n",
       "      <td>0</td>\n",
       "      <td>2</td>\n",
       "      <td>1</td>\n",
       "      <td>1</td>\n",
       "      <td>40</td>\n",
       "    </tr>\n",
       "    <tr>\n",
       "      <td>15</td>\n",
       "      <td>2019</td>\n",
       "      <td>0</td>\n",
       "      <td>2</td>\n",
       "      <td>2</td>\n",
       "      <td>1</td>\n",
       "      <td>110</td>\n",
       "    </tr>\n",
       "    <tr>\n",
       "      <td>21</td>\n",
       "      <td>2019</td>\n",
       "      <td>0</td>\n",
       "      <td>2</td>\n",
       "      <td>3</td>\n",
       "      <td>1</td>\n",
       "      <td>192</td>\n",
       "    </tr>\n",
       "    <tr>\n",
       "      <td>25</td>\n",
       "      <td>2019</td>\n",
       "      <td>0</td>\n",
       "      <td>2</td>\n",
       "      <td>4</td>\n",
       "      <td>1</td>\n",
       "      <td>186</td>\n",
       "    </tr>\n",
       "    <tr>\n",
       "      <td>...</td>\n",
       "      <td>...</td>\n",
       "      <td>...</td>\n",
       "      <td>...</td>\n",
       "      <td>...</td>\n",
       "      <td>...</td>\n",
       "      <td>...</td>\n",
       "    </tr>\n",
       "    <tr>\n",
       "      <td>4307</td>\n",
       "      <td>2019</td>\n",
       "      <td>7</td>\n",
       "      <td>1</td>\n",
       "      <td>73</td>\n",
       "      <td>1</td>\n",
       "      <td>1</td>\n",
       "    </tr>\n",
       "    <tr>\n",
       "      <td>4309</td>\n",
       "      <td>2019</td>\n",
       "      <td>7</td>\n",
       "      <td>1</td>\n",
       "      <td>75</td>\n",
       "      <td>1</td>\n",
       "      <td>2</td>\n",
       "    </tr>\n",
       "    <tr>\n",
       "      <td>4310</td>\n",
       "      <td>2019</td>\n",
       "      <td>7</td>\n",
       "      <td>1</td>\n",
       "      <td>79</td>\n",
       "      <td>1</td>\n",
       "      <td>2</td>\n",
       "    </tr>\n",
       "    <tr>\n",
       "      <td>4311</td>\n",
       "      <td>2019</td>\n",
       "      <td>7</td>\n",
       "      <td>1</td>\n",
       "      <td>80</td>\n",
       "      <td>1</td>\n",
       "      <td>1</td>\n",
       "    </tr>\n",
       "    <tr>\n",
       "      <td>4313</td>\n",
       "      <td>2019</td>\n",
       "      <td>7</td>\n",
       "      <td>1</td>\n",
       "      <td>94</td>\n",
       "      <td>1</td>\n",
       "      <td>1</td>\n",
       "    </tr>\n",
       "  </tbody>\n",
       "</table>\n",
       "<p>1107 rows × 6 columns</p>\n",
       "</div>"
      ],
      "text/plain": [
       "      Accident year  Road_User  Casualty_class Casualty_age  \\\n",
       "8              2019          0               2            0   \n",
       "11             2019          0               2            1   \n",
       "15             2019          0               2            2   \n",
       "21             2019          0               2            3   \n",
       "25             2019          0               2            4   \n",
       "...             ...        ...             ...          ...   \n",
       "4307           2019          7               1           73   \n",
       "4309           2019          7               1           75   \n",
       "4310           2019          7               1           79   \n",
       "4311           2019          7               1           80   \n",
       "4313           2019          7               1           94   \n",
       "\n",
       "      Weather_condition  All casualties  \n",
       "8                     1              40  \n",
       "11                    1              40  \n",
       "15                    1             110  \n",
       "21                    1             192  \n",
       "25                    1             186  \n",
       "...                 ...             ...  \n",
       "4307                  1               1  \n",
       "4309                  1               2  \n",
       "4310                  1               2  \n",
       "4311                  1               1  \n",
       "4313                  1               1  \n",
       "\n",
       "[1107 rows x 6 columns]"
      ]
     },
     "execution_count": 283,
     "metadata": {},
     "output_type": "execute_result"
    }
   ],
   "source": [
    "tipsd = tipsd.rename(columns = {\"Casualty age\": \"Casualty_age\"})\n",
    "tipsd[tipsd[\"Casualty_age\"]=='Unknown or missing']\n",
    "tipsd = tipsd[tipsd.Casualty_age != 'Unknown or missing']\n",
    "tipsd"
   ]
  },
  {
   "cell_type": "markdown",
   "metadata": {},
   "source": [
    "Una vez que borramos los datos de 'Unknown or missing' ahora si podemos trabajar en la solucion del nodo 2"
   ]
  },
  {
   "cell_type": "code",
   "execution_count": 284,
   "metadata": {},
   "outputs": [],
   "source": [
    "tipsd.Casualty_age = pd.to_numeric(tipsd.Casualty_age)"
   ]
  },
  {
   "cell_type": "code",
   "execution_count": 285,
   "metadata": {},
   "outputs": [],
   "source": [
    "tipsdedad= np.array(tipsd.iloc[:,3])\n"
   ]
  },
  {
   "cell_type": "code",
   "execution_count": 286,
   "metadata": {},
   "outputs": [
    {
     "data": {
      "text/plain": [
       "(array([ 6.,  6.,  8.,  7.,  7.,  7.,  7.,  8.,  9.,  8., 10., 10., 11.,\n",
       "        11., 11., 11., 12., 13., 12., 13., 14., 15., 12., 14., 14., 14.,\n",
       "        15., 13., 14., 15., 14., 14., 14., 13., 14., 14., 15., 14., 13.,\n",
       "        13., 15., 14., 14., 14., 13., 14., 14., 14., 14., 14., 14., 14.,\n",
       "        13., 14., 14., 13., 15., 13., 13., 14., 14., 12., 13., 13., 12.,\n",
       "        13., 13., 12., 11., 13., 13., 12., 13.,  9., 12., 10., 10., 10.,\n",
       "        10., 11.,  8.,  8.,  9.,  8.,  7.,  8.,  8.,  7.,  7.,  6.,  8.,\n",
       "         5.,  6.,  7.,  6.,  5.,  4.,  5.,  3.,  2.,  0.,  2.]),\n",
       " array([  0.,   1.,   2.,   3.,   4.,   5.,   6.,   7.,   8.,   9.,  10.,\n",
       "         11.,  12.,  13.,  14.,  15.,  16.,  17.,  18.,  19.,  20.,  21.,\n",
       "         22.,  23.,  24.,  25.,  26.,  27.,  28.,  29.,  30.,  31.,  32.,\n",
       "         33.,  34.,  35.,  36.,  37.,  38.,  39.,  40.,  41.,  42.,  43.,\n",
       "         44.,  45.,  46.,  47.,  48.,  49.,  50.,  51.,  52.,  53.,  54.,\n",
       "         55.,  56.,  57.,  58.,  59.,  60.,  61.,  62.,  63.,  64.,  65.,\n",
       "         66.,  67.,  68.,  69.,  70.,  71.,  72.,  73.,  74.,  75.,  76.,\n",
       "         77.,  78.,  79.,  80.,  81.,  82.,  83.,  84.,  85.,  86.,  87.,\n",
       "         88.,  89.,  90.,  91.,  92.,  93.,  94.,  95.,  96.,  97.,  98.,\n",
       "         99., 100., 101., 102.]),\n",
       " <a list of 102 Patch objects>)"
      ]
     },
     "execution_count": 286,
     "metadata": {},
     "output_type": "execute_result"
    },
    {
     "data": {
      "image/png": "[encoded data removed]",
      "text/plain": [
       "<Figure size 432x288 with 1 Axes>"
      ]
     },
     "metadata": {
      "needs_background": "light"
     },
     "output_type": "display_data"
    }
   ],
   "source": [
    "#Histograma de las edades\n",
    "plt.hist(tipsdedad, bins= len(set(tipsdedad)))"
   ]
  },
  {
   "cell_type": "code",
   "execution_count": 289,
   "metadata": {},
   "outputs": [],
   "source": [
    "tipoedad = np.unique(tipsdedad, return_counts=True)[0]\n",
    "freqedad = np.unique(tipsdedad, return_counts=True)[1]\n",
    "probedad = freqedad/len(tipsdedad)"
   ]
  },
  {
   "cell_type": "code",
   "execution_count": 290,
   "metadata": {},
   "outputs": [
    {
     "data": {
      "text/plain": [
       "<BarContainer object of 102 artists>"
      ]
     },
     "execution_count": 290,
     "metadata": {},
     "output_type": "execute_result"
    },
    {
     "data": {
      "image/png": "[encoded data removed]",
      "text/plain": [
       "<Figure size 432x288 with 1 Axes>"
      ]
     },
     "metadata": {
      "needs_background": "light"
     },
     "output_type": "display_data"
    }
   ],
   "source": [
    "plt.bar(tipoedad,probedad)"
   ]
  },
  {
   "cell_type": "code",
   "execution_count": 291,
   "metadata": {},
   "outputs": [],
   "source": [
    "xprob_e = np.arange(0,105)"
   ]
  },
  {
   "cell_type": "code",
   "execution_count": 300,
   "metadata": {},
   "outputs": [
    {
     "data": {
      "image/png": "[encoded data removed]",
      "text/plain": [
       "<Figure size 432x288 with 1 Axes>"
      ]
     },
     "metadata": {
      "needs_background": "light"
     },
     "output_type": "display_data"
    }
   ],
   "source": [
    "kernelroad = kde_statsmodels_m(tipoedad, xprob_e, bandwidth=0.2)\n",
    "\n",
    "plt.bar(tipoedad,probedad)\n",
    "plt.plot(xprob_e, kernelroad)\n",
    "plt.show()"
   ]
  },
  {
   "cell_type": "code",
   "execution_count": 301,
   "metadata": {},
   "outputs": [
    {
     "name": "stderr",
     "output_type": "stream",
     "text": [
      "C:\\Users\\julio\\Anaconda3\\lib\\site-packages\\scipy\\stats\\_distn_infrastructure.py:2381: RuntimeWarning: invalid value encountered in double_scalars\n",
      "  Lhat = muhat - Shat*mu\n",
      "C:\\Users\\julio\\Anaconda3\\lib\\site-packages\\scipy\\stats\\_continuous_distns.py:667: RuntimeWarning: divide by zero encountered in true_divide\n",
      "  a/(b-1.0),\n",
      "C:\\Users\\julio\\Anaconda3\\lib\\site-packages\\scipy\\stats\\_continuous_distns.py:671: RuntimeWarning: divide by zero encountered in true_divide\n",
      "  a*(a+1.0)/((b-2.0)*(b-1.0)),\n",
      "C:\\Users\\julio\\Anaconda3\\lib\\site-packages\\scipy\\stats\\_distn_infrastructure.py:1059: RuntimeWarning: invalid value encountered in subtract\n",
      "  mu2 = mu2p - mu * mu\n"
     ]
    },
    {
     "name": "stdout",
     "output_type": "stream",
     "text": [
      "La distribucion que mejor se ajusta a los datos es beta\n",
      "Con un error de 2.910093399467715e-06\n"
     ]
    },
    {
     "data": {
      "image/png": "[encoded data removed]",
      "text/plain": [
       "<Figure size 432x288 with 1 Axes>"
      ]
     },
     "metadata": {
      "needs_background": "light"
     },
     "output_type": "display_data"
    }
   ],
   "source": [
    "e = []\n",
    "data = tipsdedad\n",
    "[y, x, _] = plt.hist(data, bins=30, density=True, label='data')\n",
    "x = x[1:]\n",
    "    \n",
    "for dist in dist_continu[0:10]:\n",
    "    param = getattr(st, dist).fit(data)\n",
    "    pdf = getattr(st, dist).pdf(x, *param)\n",
    "    e.append(((y - pdf) **2).mean())\n",
    "    pos_min=e.index(min(e))\n",
    "    e_min=min(e)\n",
    "print(\"La distribucion que mejor se ajusta a los datos es\",dist_continu[pos_min])\n",
    "print(\"Con un error de\", e_min)\n"
   ]
  },
  {
   "cell_type": "code",
   "execution_count": 302,
   "metadata": {},
   "outputs": [
    {
     "data": {
      "image/png": "[encoded data removed]",
      "text/plain": [
       "<Figure size 576x720 with 2 Axes>"
      ]
     },
     "metadata": {
      "needs_background": "light"
     },
     "output_type": "display_data"
    }
   ],
   "source": [
    "import statsmodels.api as sm\n",
    "divisiones = 30 # Cantidad de barras en el histograma\n",
    "fig, ax = plt.subplots(2,1, figsize=(8,10))\n",
    "fig.tight_layout(pad=3.0)\n",
    "\n",
    "[y_real, x, _] = ax[0].hist(tipsdedad,divisiones, density=True)\n",
    "x = x[1:]\n",
    "\n",
    "# Función de distribución de probabilidad la cual creemos que mis datos distribuyen \n",
    "# RECORDAR: SÓLO FUNCIONA PARA DISTRIBUCIONES CONTINUAS\n",
    "dist = 'beta'\n",
    "params = getattr(st, dist).fit(tipsdedad)\n",
    "\n",
    "# Graficar PDF de la distribución que queremos probar\n",
    "\n",
    "y_est = getattr(st, dist).pdf(x, *params)\n",
    "ax[0].plot(x, y_est, 'r--')\n",
    "ax[0].set_ylabel('Probability')\n",
    "ax[0].grid()\n",
    "\n",
    "# usando paquete stats\n",
    "grap1 = sm.qqplot(tipsdedad, dist=dist, line='q', fit=True, ax=ax[1])\n",
    "ax[1].grid()\n",
    "ax[1].set_title('Usando paquete stats')\n",
    "\n",
    "# plt.xlabel(f'{dist.title()} theorical quantiles')\n",
    "# plt.ylabel('Data theorical quantiles')\n",
    "plt.show()"
   ]
  },
  {
   "cell_type": "markdown",
   "metadata": {},
   "source": [
    "Podemos notar que con el metdo kernel no nos muestra ninguna funcion de distribucion por lo que optmaos aplicar mejor la prueba de Q-Q para ver que distribucion se asejan nuestros datos y vemos que la PDF que mejor se ajusta a nuestros datos es la de beta, la cual lo podemos observa con el metodo Q-Q."
   ]
  },
  {
   "cell_type": "code",
   "execution_count": 303,
   "metadata": {},
   "outputs": [
    {
     "data": {
      "text/plain": [
       "array([0.00542005, 0.01084011, 0.01806685, 0.02439024, 0.03071364,\n",
       "       0.03703704, 0.04336043, 0.05058717, 0.05871725, 0.06594399,\n",
       "       0.07497742, 0.08401084, 0.09394761, 0.10388437, 0.11382114,\n",
       "       0.1237579 , 0.13459801, 0.14634146, 0.15718157, 0.16892502,\n",
       "       0.18157182, 0.19512195, 0.20596206, 0.21860885, 0.23125565,\n",
       "       0.24390244, 0.25745257, 0.26919603, 0.28184282, 0.29539295,\n",
       "       0.30803975, 0.32068654, 0.33333333, 0.34507678, 0.35772358,\n",
       "       0.37037037, 0.38392051, 0.3965673 , 0.40831075, 0.4200542 ,\n",
       "       0.43360434, 0.44625113, 0.45889792, 0.47154472, 0.48328817,\n",
       "       0.49593496, 0.50858175, 0.52122855, 0.53387534, 0.54652213,\n",
       "       0.55916893, 0.57181572, 0.58355917, 0.59620596, 0.60885276,\n",
       "       0.62059621, 0.63414634, 0.64588979, 0.65763324, 0.67028004,\n",
       "       0.68292683, 0.69376694, 0.70551039, 0.71725384, 0.72809395,\n",
       "       0.7398374 , 0.75158085, 0.76242096, 0.77235772, 0.78410117,\n",
       "       0.79584463, 0.80668473, 0.81842818, 0.82655827, 0.83739837,\n",
       "       0.8464318 , 0.85546522, 0.86449864, 0.87353207, 0.88346883,\n",
       "       0.89069557, 0.89792231, 0.90605239, 0.91327913, 0.91960253,\n",
       "       0.92682927, 0.93405601, 0.9403794 , 0.9467028 , 0.95212285,\n",
       "       0.95934959, 0.96386631, 0.96928636, 0.97560976, 0.98102981,\n",
       "       0.98554652, 0.98915989, 0.9936766 , 0.99638663, 0.99819332,\n",
       "       0.99909666, 1.        ])"
      ]
     },
     "execution_count": 303,
     "metadata": {},
     "output_type": "execute_result"
    }
   ],
   "source": [
    "prob_acum_e=probedad.cumsum()\n",
    "prob_acum_e"
   ]
  },
  {
   "cell_type": "code",
   "execution_count": 304,
   "metadata": {},
   "outputs": [
    {
     "data": {
      "image/png": "[encoded data removed]",
      "text/plain": [
       "<Figure size 576x288 with 1 Axes>"
      ]
     },
     "metadata": {
      "needs_background": "light"
     },
     "output_type": "display_data"
    }
   ],
   "source": [
    "N = 10**4\n",
    "road_u = np.random.rand(N)\n",
    "v = Gen_distr_discreta(road_u, prob_acum_e)\n",
    "\n",
    "plot_histogram_discrete(v, 'Edad del Casualty', 'Frecuencia', 'Frecuencia de edad')"
   ]
  },
  {
   "cell_type": "code",
   "execution_count": 306,
   "metadata": {},
   "outputs": [
    {
     "data": {
      "text/plain": [
       "(46.59801264679314, 0.24036550645546056)"
      ]
     },
     "execution_count": 306,
     "metadata": {},
     "output_type": "execute_result"
    }
   ],
   "source": [
    "miu_edad = [tipoedad[i]*probedad[i] for i in range(len(freqedad))]\n",
    "miuu2 = np.sum(miu_edad)\n",
    "std2 = np.std(miu_edad )\n",
    "miuu2, std2"
   ]
  },
  {
   "cell_type": "code",
   "execution_count": 313,
   "metadata": {},
   "outputs": [
    {
     "data": {
      "text/plain": [
       "80.0726"
      ]
     },
     "execution_count": 313,
     "metadata": {},
     "output_type": "execute_result"
    }
   ],
   "source": [
    "#Estratificado\n",
    "N = 10**4\n",
    "u = muestreo_est(N)\n",
    "funcion2 = lambda u: Gen_distr_discreta(u, prob_acum_e)\n",
    "media2 = np.mean(funcion2(u))\n",
    "media2"
   ]
  },
  {
   "cell_type": "code",
   "execution_count": 314,
   "metadata": {},
   "outputs": [
    {
     "data": {
      "text/plain": [
       "23.2098"
      ]
     },
     "execution_count": 314,
     "metadata": {},
     "output_type": "execute_result"
    }
   ],
   "source": [
    "# Montercarlo crudo\n",
    "N=10000\n",
    "U=np.random.uniform(-1,1,N)\n",
    "M_c=funcion2(U)\n",
    "M_cru=M_c.mean()\n",
    "M_cru"
   ]
  },
  {
   "cell_type": "code",
   "execution_count": 315,
   "metadata": {},
   "outputs": [
    {
     "name": "stdout",
     "output_type": "stream",
     "text": [
      "Media de observaciones complementarias  =  23.3298\n"
     ]
    }
   ],
   "source": [
    "# Numeros complementarios\n",
    "ri = -U\n",
    "xi2 = funcion2(ri).mean()\n",
    "m_estimada = (M_cru+xi2)/2\n",
    "print('Media de observaciones complementarias  = ',m_estimada)"
   ]
  },
  {
   "cell_type": "markdown",
   "metadata": {},
   "source": [
    "### Conclusión\n",
    "Podemos ver que la edad media real de las personas que fallecieron son de 46 años, mientras que los metodos de reduccion de varianza no se acercan a la media real por lo que omitiremos los valores. "
   ]
  },
  {
   "cell_type": "markdown",
   "metadata": {},
   "source": [
    "### 1.7 Visualización de resultados de simulación.\n",
    "> Se deben simular al menos 4  \"nodos\" o \"escenarios\" en tu problema. Para la segunda entrega debes haber elaborado un programa que simule dos de ellos, los primeros dos de tu diagrama.\n",
    "> Para la entrega final deben de tener los 4 nodos con todas sus simulaciones.\n",
    "\n",
    "### 1.6 Conclusiones.\n",
    "> Mucho cuidado, las conclusiones no son cualquier cosa. Se debe concluir respecto a los objetivos planteados de acuerdo a los resultados obtenidos.\n",
    "\n",
    "### 1.7 Referencias.\n",
    "\n",
    "- Gov Uk. (2020). Road Safety Data . Octubre 19, 2020, de gov.uk Sitio web: https://data.gov.uk/dataset/cb7ae6f0-4be6-4935-9277-47e5ce24a11f/road-safety-data\n",
    "\n",
    "-  Department for Transport. (2020). Reported road casualties in Great Britain: provisional results 2019. Octubre 19, 2020, de Department for Transport Sitio web: https://assets.publishing.service.gov.uk/government/uploads/system/uploads/attachment_data/file/904698/rrcgb-provisional-results-2019.pdf"
   ]
  }
 ],
 "metadata": {
  "kernelspec": {
   "display_name": "Python 3",
   "language": "python",
   "name": "python3"
  },
  "language_info": {
   "codemirror_mode": {
    "name": "ipython",
    "version": 3
   },
   "file_extension": ".py",
   "mimetype": "text/x-python",
   "name": "python",
   "nbconvert_exporter": "python",
   "pygments_lexer": "ipython3",
   "version": "3.7.4"
  }
 },
 "nbformat": 4,
 "nbformat_minor": 2
}
