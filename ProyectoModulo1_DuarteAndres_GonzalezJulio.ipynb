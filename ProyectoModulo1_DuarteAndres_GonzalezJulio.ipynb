{
 "cells": [
  {
   "cell_type": "markdown",
   "metadata": {},
   "source": [
    "<img style=\"float: right; margin: 0px 0px 15px 15px;\" src=\"https://upload.wikimedia.org/wikipedia/commons/b/b6/Proyecto_en_construccion.jpg\" width=\"300px\" height=\"100px\" />\n",
    "\n",
    "\n",
    "# Proyecto Módulo 2- Guía.\n",
    "> Se especifican los componentes básicos que deberá tener cada proyecto. El proyecto debe ser un problema que utilice datos reales, ya sea de una empresa física real o de alguna página de internet que proporcione bases de datos confiables. Con la información obtenida, se pretende utilizar todas las herramientas vistas durante el curso para la correcta modelación y simulación del cierto problema con ciertas variables de interés."
   ]
  },
  {
   "cell_type": "markdown",
   "metadata": {},
   "source": [
    "## Reporte para aseguradoras \n",
    "> Integrantes: \n",
    "    - Andres Duarte \n",
    "    - Julio Gonzalez"
   ]
  },
  {
   "cell_type": "markdown",
   "metadata": {},
   "source": [
    "### Link repositorio \n",
    "> **Hint**: Explore the command `Repositorio` [link](https://github.com/Julio99olaf/ProyectoModulo1)"
   ]
  },
  {
   "cell_type": "markdown",
   "metadata": {},
   "source": [
    "### Data Set a utilizar "
   ]
  },
  {
   "cell_type": "code",
   "execution_count": 1,
   "metadata": {},
   "outputs": [
    {
     "data": {
      "text/html": [
       "<div>\n",
       "<style scoped>\n",
       "    .dataframe tbody tr th:only-of-type {\n",
       "        vertical-align: middle;\n",
       "    }\n",
       "\n",
       "    .dataframe tbody tr th {\n",
       "        vertical-align: top;\n",
       "    }\n",
       "\n",
       "    .dataframe thead th {\n",
       "        text-align: right;\n",
       "    }\n",
       "</style>\n",
       "<table border=\"1\" class=\"dataframe\">\n",
       "  <thead>\n",
       "    <tr style=\"text-align: right;\">\n",
       "      <th></th>\n",
       "      <th>Accident year</th>\n",
       "      <th>Road user</th>\n",
       "      <th>Casualty class</th>\n",
       "      <th>Casualty age</th>\n",
       "      <th>Weather condition</th>\n",
       "      <th>All casualties</th>\n",
       "    </tr>\n",
       "  </thead>\n",
       "  <tbody>\n",
       "    <tr>\n",
       "      <td>0</td>\n",
       "      <td>2019</td>\n",
       "      <td>Pedestrian</td>\n",
       "      <td>Pedestrian</td>\n",
       "      <td>Unknown or missing</td>\n",
       "      <td>Unknown</td>\n",
       "      <td>60</td>\n",
       "    </tr>\n",
       "    <tr>\n",
       "      <td>1</td>\n",
       "      <td>2019</td>\n",
       "      <td>Pedestrian</td>\n",
       "      <td>Pedestrian</td>\n",
       "      <td>Unknown or missing</td>\n",
       "      <td>Fine no high winds</td>\n",
       "      <td>283</td>\n",
       "    </tr>\n",
       "    <tr>\n",
       "      <td>2</td>\n",
       "      <td>2019</td>\n",
       "      <td>Pedestrian</td>\n",
       "      <td>Pedestrian</td>\n",
       "      <td>Unknown or missing</td>\n",
       "      <td>Raining no high winds</td>\n",
       "      <td>37</td>\n",
       "    </tr>\n",
       "    <tr>\n",
       "      <td>3</td>\n",
       "      <td>2019</td>\n",
       "      <td>Pedestrian</td>\n",
       "      <td>Pedestrian</td>\n",
       "      <td>Unknown or missing</td>\n",
       "      <td>Snowing no high winds</td>\n",
       "      <td>1</td>\n",
       "    </tr>\n",
       "    <tr>\n",
       "      <td>4</td>\n",
       "      <td>2019</td>\n",
       "      <td>Pedestrian</td>\n",
       "      <td>Pedestrian</td>\n",
       "      <td>Unknown or missing</td>\n",
       "      <td>Fine + high winds</td>\n",
       "      <td>2</td>\n",
       "    </tr>\n",
       "  </tbody>\n",
       "</table>\n",
       "</div>"
      ],
      "text/plain": [
       "   Accident year   Road user Casualty class        Casualty age  \\\n",
       "0           2019  Pedestrian     Pedestrian  Unknown or missing   \n",
       "1           2019  Pedestrian     Pedestrian  Unknown or missing   \n",
       "2           2019  Pedestrian     Pedestrian  Unknown or missing   \n",
       "3           2019  Pedestrian     Pedestrian  Unknown or missing   \n",
       "4           2019  Pedestrian     Pedestrian  Unknown or missing   \n",
       "\n",
       "       Weather condition  All casualties  \n",
       "0                Unknown              60  \n",
       "1     Fine no high winds             283  \n",
       "2  Raining no high winds              37  \n",
       "3  Snowing no high winds               1  \n",
       "4      Fine + high winds               2  "
      ]
     },
     "execution_count": 1,
     "metadata": {},
     "output_type": "execute_result"
    }
   ],
   "source": [
    "# Importar pandas\n",
    "import pandas as pd\n",
    "# Importar los datos\n",
    "tips_data = 'C:/Users/julio/Documents/Universidad/6to semestre/Similacion de procesos financieros/ProyectoModulo1/accidents_all.csv'\n",
    "tipsd=pd.read_csv(tips_data)\n",
    "# Utilizar el método head() para ver las primeras 5 filas de los datos\n",
    "tipsd.head()"
   ]
  },
  {
   "cell_type": "markdown",
   "metadata": {},
   "source": [
    "###  Accidentes Reino Unido\n",
    "\n",
    "\n",
    "### 1.2 Objetivos.\n",
    "> #### 1.1 Objetivo general.\n",
    ">  - Presentar información útil sobre los accidentes viales a una aseguradora en el Reino Unido para en base a eso, realizar el cálculo de la prima óptima\n",
    "> #### 1.2 Objetivos específicos\n",
    ">  - Seleccionar variables pertinentes a los asegurados, como edad del afectado y tipo de vehículo afectado en el accidente.\n",
    ">  - Lograr una buena estimación de las variables elegidas.\n",
    ">  - Definir qué datos son para un seguro de vida, de autmóvil o de gastos médicos.\n",
    "\n",
    "\n",
    "### 1.3 Definición del problema. Julio\n",
    "\n",
    "En este proyecto se plantea el problema a una aseguradora en el Reino Unido, en donde le presentaremos una simulación de los accidentes para el próximo año, donde tomaremos una variable independiente que en nuestro caso será el clima. Nuestro hipotesis es que dependiendo el clima que hay en las ciudades es el número de accidentes que ocurren en la región. En las simulaciones veremos que dependiente el tiempo de clima que haya, veremos qué tipo de vehículos que son los afectados, edad de las personas afectadas, y de quien es el vehículo más afectado. \n",
    "De esta forma la plantearemos estos escenarios a las asegundaras para que puedan planear un plan de seguro adecuado para así minimizar gastos y poder anticiparlos. \n",
    "Tenemos el hipo tesis que en clima lluvioso es cuando mayormente ocurren los accidentes. De comprobar la hipoteis las aseguradoras deberán estar prevenidas para poder costear los gastos de los accidentes en época de lluvia. También veremos escenarios para ver qué edad tienen las personas más afectadas en los accidentes para los seguros de vida se adecuan ante dicho problema. \n",
    "De esta forma vemos varias situaciones en donde podemos implementar los aprendizajes en clase para poder estimar los escenarios futuros para que las aseguradoras puedan prevenir los gastos en base a los datos históricos del año anterior.\n",
    "\n",
    "### 1.4 Nodos y variables que se decidieron simular y porqué\n",
    "\n",
    "\n",
    "Nosotros simularemos el clima, la edad de los afectados, tipo de vehículo afectado, y quién de el vehículo fue afectado (conductor, pasajero o si no hay vehículo, peatón).\n",
    "Iremos  dejando fijas diferentes variables a lo largo de nuestras simulaciones para ver cómo se comportan unas en base a que las otras estén estáticas. La idea es diseñar seguros en base a probabilidades, entonces veremos diferentes condiciones. Podemos dejar fijo el clima y ver qué edades son más propensas a estar involucradas en un accidente, o dejar fijas las demás variables y ver si es más probable que los accidentados hayan ido en motocicleta. Estas diferentes simulaciones nos darán una idea de quién es más probable que se accidente, o de qué zonas geográficas (las que tengan el clima donde sucedan la mayor parte de los accidentes), es donde habrán más accidentes, por decir algo.\n",
    "\n",
    "### 1.5 Definición de hipótesis y supuestos.\n",
    "\n",
    "Supuestos:\n",
    "- Los accidentes son independientes, cada uno sucedió por separado, se da por hecho que no se están mostrando diferentes partes del mismo accidente como accidentes separados.\n",
    "- Como tenemos muchas muestras, trataremos de tomar o aproximar la distribución de los datos a una normal\n",
    "\n",
    "Hipótesis:\n",
    "- De los climas adversos, la lluvia representa una mayor probabilidad de tener un accidente.\n",
    "- Los conductores de automóvil de menor edad, son los más accidentados\n",
    "- El uso de motocicleta tiene un mayor riesgo de accidentarse asociado\n",
    "\n",
    "### 1.6 Obtención de bases de datos\n",
    "\n",
    "\n",
    "Nostros sacamos el data set de la página de bases de datos del gobierno de Reino Unido, en la que había una opción para filtrar los datos en base a lo que buscaras. Escogimos las 4 variables mencionadas arriba y las filtramos para que nos diera directamente un csv con lo que vamos a analizar. Agarramos el año 2019 para realizar nuestras simulaciones. \n",
    "\n",
    "En un reporte publicado por el departamento de transporte del Reino Unido, venía el número de afectados por choques en 2019, teníamos estadísticas condensadas. Las estadísticas no incluyen accidentes en propiedad privada ni accidentes con afectaciones por daño solamente. Este artículo está relacionado con el data set que vamos a utilizar y nos puede servir como guía para ver las variables y el comportamiento de los accidentes en general, desde antes de empezar a limpiar nuestros datos.\n",
    "\n",
    "### 1.7 Visualización de resultados de simulación.\n",
    "> Se deben simular al menos 4  \"nodos\" o \"escenarios\" en tu problema. Para la segunda entrega debes haber elaborado un programa que simule dos de ellos, los primeros dos de tu diagrama.\n",
    "> Para la entrega final deben de tener los 4 nodos con todas sus simulaciones.\n",
    "\n",
    "### 1.6 Conclusiones.\n",
    "> Mucho cuidado, las conclusiones no son cualquier cosa. Se debe concluir respecto a los objetivos planteados de acuerdo a los resultados obtenidos.\n",
    "\n",
    "### 1.7 Referencias.\n",
    "\n",
    "- Gov Uk. (2020). Road Safety Data . Octubre 19, 2020, de gov.uk Sitio web: https://data.gov.uk/dataset/cb7ae6f0-4be6-4935-9277-47e5ce24a11f/road-safety-data\n",
    "\n",
    "-  Department for Transport. (2020). Reported road casualties in Great Britain: provisional results 2019. Octubre 19, 2020, de Department for Transport Sitio web: https://assets.publishing.service.gov.uk/government/uploads/system/uploads/attachment_data/file/904698/rrcgb-provisional-results-2019.pdf"
   ]
  },
  {
   "cell_type": "code",
   "execution_count": 4,
   "metadata": {},
   "outputs": [
    {
     "data": {
      "image/png": "[encoded data removed]",
      "text/plain": [
       "<IPython.core.display.Image object>"
      ]
     },
     "execution_count": 4,
     "metadata": {},
     "output_type": "execute_result"
    }
   ],
   "source": [
    "from IPython.display import Image\n",
    "Image(\"C:/Users/julio/Documents/Universidad/6to semestre/Similacion de procesos financieros/ProyectoModulo1/Diagrama nodo.png\")"
   ]
  },
  {
   "cell_type": "markdown",
   "metadata": {},
   "source": [
    "___\n",
    "## 2. Especificaciones adicionales.\n",
    "En el grupo deben haber mínimo dos integrantes y máximo tres integrantes. Para propósitos logísticos nada más, por favor enumérense como *integrante 1*, *integrante 2* e *integrante 3*.\n",
    "\n",
    "### 2.1 Notebook de jupyter. \n",
    "> Los anteriores numerales los deben desarrollar todos en un notebook de jupyter y llamarlo de la siguiente manera `ProyectoModulo1_ApellidoN1_ApellidoN2_ApellidoN3`, donde `ApellidoNi` hace referencia al apellido materno y la inicial del primer nombre del integrante `i`.\n",
    "\n",
    "### 2.2 Proyecto en `GitHub`.\n",
    "> El integrante 1 deberá crear un proyecto en `GitHub` llamado **proyecto_modulo1**, donde tendrán todos los archivos relacionados con el proyecto. Los demás integrantes deben hacer un *fork* del proyecto, seguir el proyecto principal con `GitKraken` y hacer al menos dos contribuciones con *pull request* (como se hizo en la tarea). En el proyecto, deben incluir el repositorio remoto del integrante 1.\n",
    "\n",
    "### 2.3 Presentación.\n",
    "> Recuerden que la nota del proyecto es mitad el trabajo, y mitad la presentación. Deben hacer una presentación ya sea en power point o utlizando un notebook de python para presentar el trabajo durante un horario de clase que se será posteriomente definido. La presentación, además de llevar todos los componentes básicos descritos en el entregable, debe llevar una tabla de contenido.\n",
    "> - Presentación: 10 minutos.\n",
    "> - Seguir estas recomendaciones: https://es.slideshare.net/MeireComputacion/power-point-pautas-para-una-buen-trabajo"
   ]
  },
  {
   "cell_type": "markdown",
   "metadata": {},
   "source": [
    "<script>\n",
    "  $(document).ready(function(){\n",
    "    $('div.prompt').hide();\n",
    "    $('div.back-to-top').hide();\n",
    "    $('nav#menubar').hide();\n",
    "    $('.breadcrumb').hide();\n",
    "    $('.hidden-print').hide();\n",
    "  });\n",
    "</script>\n",
    "\n",
    "<footer id=\"attribution\" style=\"float:right; color:#808080; background:#fff;\">\n",
    "Created with Jupyter by Esteban Jiménez Rodríguez.\n",
    "</footer>"
   ]
  }
 ],
 "metadata": {
  "kernelspec": {
   "display_name": "Python 3",
   "language": "python",
   "name": "python3"
  },
  "language_info": {
   "codemirror_mode": {
    "name": "ipython",
    "version": 3
   },
   "file_extension": ".py",
   "mimetype": "text/x-python",
   "name": "python",
   "nbconvert_exporter": "python",
   "pygments_lexer": "ipython3",
   "version": "3.7.4"
  }
 },
 "nbformat": 4,
 "nbformat_minor": 2
}
