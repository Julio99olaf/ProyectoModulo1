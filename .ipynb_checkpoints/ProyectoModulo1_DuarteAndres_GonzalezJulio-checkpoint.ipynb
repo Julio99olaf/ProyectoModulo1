{
 "cells": [
  {
   "cell_type": "markdown",
   "metadata": {},
   "source": [
    "<img style=\"float: right; margin: 0px 0px 15px 15px;\" src=\"https://upload.wikimedia.org/wikipedia/commons/b/b6/Proyecto_en_construccion.jpg\" width=\"300px\" height=\"100px\" />\n",
    "\n",
    "\n",
    "# Proyecto Módulo 2- Guía.\n",
    "> Se especifican los componentes básicos que deberá tener cada proyecto. El proyecto debe ser un problema que utilice datos reales, ya sea de una empresa física real o de alguna página de internet que proporcione bases de datos confiables. Con la información obtenida, se pretende utilizar todas las herramientas vistas durante el curso para la correcta modelación y simulación del cierto problema con ciertas variables de interés."
   ]
  },
  {
   "cell_type": "markdown",
   "metadata": {},
   "source": [
    "## Reporte para aseguradoras \n",
    "> Integrantes: \n",
    "    - Andres Duarte \n",
    "    - Julio Gonzalez"
   ]
  },
  {
   "cell_type": "markdown",
   "metadata": {},
   "source": [
    "### Link repositorio \n",
    "> **Hint**: Explore the command `Repositorio` [link](https://github.com/Julio99olaf/ProyectoModulo1)"
   ]
  },
  {
   "cell_type": "markdown",
   "metadata": {},
   "source": [
    "###  Accidentes Reino Unido\n",
    "\n",
    "\n",
    "### 1.2 Objetivos.\n",
    "> #### 1.1 Objetivo general.\n",
    ">  - Presentar información útil sobre los accidentes viales a una aseguradora en el Reino Unido para en base a eso, realizar el cálculo de la prima óptima\n",
    "> #### 1.2 Objetivos específicos\n",
    ">  - Seleccionar variables pertinentes a los asegurados, como edad del afectado y tipo de vehículo afectado en el accidente.\n",
    ">  - Lograr una buena estimación de las variables elegidas.\n",
    ">  - Definir qué datos son para un seguro de vida, de autmóvil o de gastos médicos.\n",
    "\n",
    "\n",
    "### 1.3 Definición del problema. Julio\n",
    "\n",
    "En este proyecto se plantea el problema a una aseguradora en el Reino Unido, en donde le presentaremos una simulación de los accidentes para el próximo año, donde tomaremos una variable independiente que en nuestro caso será el clima. Nuestro hipotesis es que dependiendo el clima que hay en las ciudades es el número de accidentes que ocurren en la región. En las simulaciones veremos que dependiente el tiempo de clima que haya, veremos qué tipo de vehículos que son los afectados, edad de las personas afectadas, y de quien es el vehículo más afectado. \n",
    "De esta forma la plantearemos estos escenarios a las asegundaras para que puedan planear un plan de seguro adecuado para así minimizar gastos y poder anticiparlos. \n",
    "Tenemos el hipo tesis que en clima lluvioso es cuando mayormente ocurren los accidentes. De comprobar la hipoteis las aseguradoras deberán estar prevenidas para poder costear los gastos de los accidentes en época de lluvia. También veremos escenarios para ver qué edad tienen las personas más afectadas en los accidentes para los seguros de vida se adecuan ante dicho problema. \n",
    "De esta forma vemos varias situaciones en donde podemos implementar los aprendizajes en clase para poder estimar los escenarios futuros para que las aseguradoras puedan prevenir los gastos en base a los datos históricos del año anterior.\n",
    "\n",
    "### 1.4 Nodos y variables que se decidieron simular y porqué\n",
    "\n",
    "\n",
    "Nosotros simularemos el clima, la edad de los afectados, tipo de vehículo afectado, y quién de el vehículo fue afectado (conductor, pasajero o si no hay vehículo, peatón).\n",
    "Iremos  dejando fijas diferentes variables a lo largo de nuestras simulaciones para ver cómo se comportan unas en base a que las otras estén estáticas. La idea es diseñar seguros en base a probabilidades, entonces veremos diferentes condiciones. Podemos dejar fijo el clima y ver qué edades son más propensas a estar involucradas en un accidente, o dejar fijas las demás variables y ver si es más probable que los accidentados hayan ido en motocicleta. Estas diferentes simulaciones nos darán una idea de quién es más probable que se accidente, o de qué zonas geográficas (las que tengan el clima donde sucedan la mayor parte de los accidentes), es donde habrán más accidentes, por decir algo."
   ]
  },
  {
   "cell_type": "code",
   "execution_count": 2,
   "metadata": {},
   "outputs": [
    {
     "data": {
      "image/png": "[encoded data removed]",
      "text/plain": [
       "<IPython.core.display.Image object>"
      ]
     },
     "execution_count": 2,
     "metadata": {},
     "output_type": "execute_result"
    }
   ],
   "source": [
    "from IPython.display import Image\n",
    "Image(\"Diagrama nodo.png\")"
   ]
  },
  {
   "cell_type": "markdown",
   "metadata": {},
   "source": [
    "### 1.5 Definición de hipótesis y supuestos.\n",
    "\n",
    "Supuestos:\n",
    "- Los accidentes son independientes, cada uno sucedió por separado, se da por hecho que no se están mostrando diferentes partes del mismo accidente como accidentes separados.\n",
    "- Como tenemos muchas muestras, trataremos de tomar o aproximar la distribución de los datos a una normal\n",
    "\n",
    "Hipótesis:\n",
    "- De los climas adversos, la lluvia representa una mayor probabilidad de tener un accidente.\n",
    "- Los conductores de automóvil de menor edad, son los más accidentados\n",
    "- El uso de motocicleta tiene un mayor riesgo de accidentarse asociado\n",
    "\n",
    "### 1.6 Obtención de bases de datos\n",
    "\n",
    "\n",
    "Nostros sacamos el data set de la página de bases de datos del gobierno de Reino Unido, en la que había una opción para filtrar los datos en base a lo que buscaras. Escogimos las 4 variables mencionadas arriba y las filtramos para que nos diera directamente un csv con lo que vamos a analizar. Agarramos el año 2019 para realizar nuestras simulaciones. \n",
    "\n",
    "En un reporte publicado por el departamento de transporte del Reino Unido, venía el número de afectados por choques en 2019, teníamos estadísticas condensadas. Las estadísticas no incluyen accidentes en propiedad privada ni accidentes con afectaciones por daño solamente. Este artículo está relacionado con el data set que vamos a utilizar y nos puede servir como guía para ver las variables y el comportamiento de los accidentes en general, desde antes de empezar a limpiar nuestros datos.\n"
   ]
  },
  {
   "cell_type": "code",
   "execution_count": 21,
   "metadata": {},
   "outputs": [],
   "source": [
    "#Libreiras \n",
    "import numpy as np\n",
    "from sklearn.neighbors import KernelDensity\n",
    "from scipy.stats import gaussian_kde\n",
    "from statsmodels.nonparametric.kde import KDEUnivariate\n",
    "from statsmodels.nonparametric.kernel_density import KDEMultivariate\n",
    "%matplotlib inline\n",
    "import numpy as np\n",
    "import matplotlib.pyplot as plt\n"
   ]
  },
  {
   "cell_type": "code",
   "execution_count": 22,
   "metadata": {},
   "outputs": [],
   "source": [
    "#Definimos una función para analizar los datos que tenemos y darnos una idea de los mismos. (Data Quality Report)\n",
    "def dqr(data): #Data Quality Report\n",
    "        #%%Lista de variables de la base de datos\n",
    "        import pandas as pd\n",
    "        columns = pd.DataFrame(list(data.columns.values),\n",
    "                               columns = [\"Nombres\"],\n",
    "                               index= list(data.columns.values))\n",
    "        #%%Lista de tipos de datos\n",
    "        data_types = pd.DataFrame(data.dtypes,columns = [\"Data_Types\"])\n",
    "        #%%Lista de tipos de datos perdidos\n",
    "        missing_values = pd.DataFrame(data.isnull().sum(),\n",
    "                                      columns = [\"Missing_Values\"])\n",
    "        #%%Lista de datos presentes\n",
    "        present_values = pd.DataFrame(data.count(),\n",
    "                                      columns = [\"Present_Values\"])\n",
    "        #%%Lista de valores unicos\n",
    "        unique_values = pd.DataFrame(columns = [\"Unique_Values\"])\n",
    "        for col in list(data.columns.values):\n",
    "            unique_values.loc[col] = [data[col].nunique()]\n",
    "        #%% lista de valores mínimos\n",
    "        min_values = pd.DataFrame(columns =[\"Min\"])\n",
    "        for col in list(data.columns.values):\n",
    "            try:\n",
    "                min_values.loc[col] = [data[col].min()]\n",
    "            except:\n",
    "                pass\n",
    "        #%% lista de valores máximos\n",
    "        max_values = pd.DataFrame(columns =[\"Max\"])\n",
    "        \n",
    "        \n",
    "        for col in list(data.columns.values):\n",
    "            try:\n",
    "                max_values.loc[col] = [data[col].max()]\n",
    "            except:\n",
    "                pass\n",
    "        #%% Juntar todas las tablas\n",
    "        return columns.join(data_types).join(missing_values).join(present_values).join(unique_values).join(min_values).join(max_values)\n",
    "    # Reemplazar texto\n",
    "def replace_text(x,to_replace,replacement):\n",
    "    try:\n",
    "        x = x.replace(to_replace,replacement)\n",
    "    except:\n",
    "        pass\n",
    "    return x"
   ]
  },
  {
   "cell_type": "code",
   "execution_count": 66,
   "metadata": {},
   "outputs": [],
   "source": [
    "def Gen_distr_discreta(U:'vector de números aleatorios',\n",
    "                       p_acum: 'P.Acumulada de la distribución a generar'):\n",
    "    '''Tener en cuenta que este arreglo cuenta números empezando del 0'''\n",
    "    v = np.array(list(map(lambda j:sum(1 for i in p_acum if i<U[j]),range(N))))\n",
    "    return v\n",
    "\n",
    "def plot_histogram_discrete(distribucion:'señal de varibles aleatorias de un distribución DISCRETA dada',\n",
    "                            xlabel:'eje x',\n",
    "                            ylabel:'eje y',\n",
    "                            title:'Título gráfica'):\n",
    "    # len(set(distribucion)) cuenta la cantidad de elementos distintos de la variable 'distribucion'\n",
    "    plt.figure(figsize=[8,4])\n",
    "    y,x = np.histogram(distribucion,bins = len(set(distribucion))) \n",
    "    plt.bar(list(set(distribucion)),y)\n",
    "    plt.xlabel(xlabel)\n",
    "    plt.ylabel(ylabel)\n",
    "    plt.title(title)\n",
    "    plt.show()\n",
    "    \n",
    "def kde_statsmodels_m(x, x_grid, bandwidth=0.2, **kwargs):\n",
    "    \"\"\"Multivariate Kernel Density Estimation with Statsmodels\"\"\"\n",
    "    kde = KDEMultivariate(x, \n",
    "                          bw='cv_ml',  #bandwidth * np.ones_like(x),\n",
    "                          var_type='u', **kwargs)\n",
    "    return kde.pdf(x_grid)\n",
    "\n",
    "def muestreo_est(B: 'Número de estratos'):\n",
    "    '''Esta función realiza el método de muestro estratíficado para un número de estratos dados'''\n",
    "    u= np.random.uniform(B) #generar B valores aleatorios con distribución uniforme\n",
    "    i=np.arange(0,B) \n",
    "    v = (u+i)/B #aplicar estratificación\n",
    "    return v"
   ]
  },
  {
   "cell_type": "code",
   "execution_count": 24,
   "metadata": {},
   "outputs": [
    {
     "data": {
      "text/html": [
       "<div>\n",
       "<style scoped>\n",
       "    .dataframe tbody tr th:only-of-type {\n",
       "        vertical-align: middle;\n",
       "    }\n",
       "\n",
       "    .dataframe tbody tr th {\n",
       "        vertical-align: top;\n",
       "    }\n",
       "\n",
       "    .dataframe thead th {\n",
       "        text-align: right;\n",
       "    }\n",
       "</style>\n",
       "<table border=\"1\" class=\"dataframe\">\n",
       "  <thead>\n",
       "    <tr style=\"text-align: right;\">\n",
       "      <th></th>\n",
       "      <th>Accident year</th>\n",
       "      <th>Road user</th>\n",
       "      <th>Casualty class</th>\n",
       "      <th>Casualty age</th>\n",
       "      <th>Weather condition</th>\n",
       "      <th>All casualties</th>\n",
       "    </tr>\n",
       "  </thead>\n",
       "  <tbody>\n",
       "    <tr>\n",
       "      <th>0</th>\n",
       "      <td>2019</td>\n",
       "      <td>Pedestrian</td>\n",
       "      <td>Pedestrian</td>\n",
       "      <td>Unknown or missing</td>\n",
       "      <td>Unknown</td>\n",
       "      <td>60</td>\n",
       "    </tr>\n",
       "    <tr>\n",
       "      <th>1</th>\n",
       "      <td>2019</td>\n",
       "      <td>Pedestrian</td>\n",
       "      <td>Pedestrian</td>\n",
       "      <td>Unknown or missing</td>\n",
       "      <td>Fine no high winds</td>\n",
       "      <td>283</td>\n",
       "    </tr>\n",
       "    <tr>\n",
       "      <th>2</th>\n",
       "      <td>2019</td>\n",
       "      <td>Pedestrian</td>\n",
       "      <td>Pedestrian</td>\n",
       "      <td>Unknown or missing</td>\n",
       "      <td>Raining no high winds</td>\n",
       "      <td>37</td>\n",
       "    </tr>\n",
       "    <tr>\n",
       "      <th>3</th>\n",
       "      <td>2019</td>\n",
       "      <td>Pedestrian</td>\n",
       "      <td>Pedestrian</td>\n",
       "      <td>Unknown or missing</td>\n",
       "      <td>Snowing no high winds</td>\n",
       "      <td>1</td>\n",
       "    </tr>\n",
       "    <tr>\n",
       "      <th>4</th>\n",
       "      <td>2019</td>\n",
       "      <td>Pedestrian</td>\n",
       "      <td>Pedestrian</td>\n",
       "      <td>Unknown or missing</td>\n",
       "      <td>Fine + high winds</td>\n",
       "      <td>2</td>\n",
       "    </tr>\n",
       "  </tbody>\n",
       "</table>\n",
       "</div>"
      ],
      "text/plain": [
       "   Accident year   Road user Casualty class        Casualty age  \\\n",
       "0           2019  Pedestrian     Pedestrian  Unknown or missing   \n",
       "1           2019  Pedestrian     Pedestrian  Unknown or missing   \n",
       "2           2019  Pedestrian     Pedestrian  Unknown or missing   \n",
       "3           2019  Pedestrian     Pedestrian  Unknown or missing   \n",
       "4           2019  Pedestrian     Pedestrian  Unknown or missing   \n",
       "\n",
       "       Weather condition  All casualties  \n",
       "0                Unknown              60  \n",
       "1     Fine no high winds             283  \n",
       "2  Raining no high winds              37  \n",
       "3  Snowing no high winds               1  \n",
       "4      Fine + high winds               2  "
      ]
     },
     "execution_count": 24,
     "metadata": {},
     "output_type": "execute_result"
    }
   ],
   "source": [
    "# Importar pandas\n",
    "import pandas as pd\n",
    "# Importar los datos\n",
    "tips_data = 'accidents_all.csv'\n",
    "tipsd=pd.read_csv(tips_data)\n",
    "# Utilizar el método head() para ver las primeras 5 filas de los datos\n",
    "tipsd.head()"
   ]
  },
  {
   "cell_type": "code",
   "execution_count": 25,
   "metadata": {},
   "outputs": [
    {
     "data": {
      "text/html": [
       "<div>\n",
       "<style scoped>\n",
       "    .dataframe tbody tr th:only-of-type {\n",
       "        vertical-align: middle;\n",
       "    }\n",
       "\n",
       "    .dataframe tbody tr th {\n",
       "        vertical-align: top;\n",
       "    }\n",
       "\n",
       "    .dataframe thead th {\n",
       "        text-align: right;\n",
       "    }\n",
       "</style>\n",
       "<table border=\"1\" class=\"dataframe\">\n",
       "  <thead>\n",
       "    <tr style=\"text-align: right;\">\n",
       "      <th></th>\n",
       "      <th>Nombres</th>\n",
       "      <th>Data_Types</th>\n",
       "      <th>Missing_Values</th>\n",
       "      <th>Present_Values</th>\n",
       "      <th>Unique_Values</th>\n",
       "      <th>Min</th>\n",
       "      <th>Max</th>\n",
       "    </tr>\n",
       "  </thead>\n",
       "  <tbody>\n",
       "    <tr>\n",
       "      <th>Accident year</th>\n",
       "      <td>Accident year</td>\n",
       "      <td>int64</td>\n",
       "      <td>0</td>\n",
       "      <td>4314</td>\n",
       "      <td>1</td>\n",
       "      <td>2019</td>\n",
       "      <td>2019</td>\n",
       "    </tr>\n",
       "    <tr>\n",
       "      <th>Road user</th>\n",
       "      <td>Road user</td>\n",
       "      <td>object</td>\n",
       "      <td>0</td>\n",
       "      <td>4314</td>\n",
       "      <td>8</td>\n",
       "      <td>Bus or coach</td>\n",
       "      <td>Van / Goods 3.5 tonnes mgw or under</td>\n",
       "    </tr>\n",
       "    <tr>\n",
       "      <th>Casualty class</th>\n",
       "      <td>Casualty class</td>\n",
       "      <td>object</td>\n",
       "      <td>0</td>\n",
       "      <td>4314</td>\n",
       "      <td>3</td>\n",
       "      <td>Driver or rider</td>\n",
       "      <td>Pedestrian</td>\n",
       "    </tr>\n",
       "    <tr>\n",
       "      <th>Casualty age</th>\n",
       "      <td>Casualty age</td>\n",
       "      <td>object</td>\n",
       "      <td>0</td>\n",
       "      <td>4314</td>\n",
       "      <td>103</td>\n",
       "      <td>0</td>\n",
       "      <td>Unknown or missing</td>\n",
       "    </tr>\n",
       "    <tr>\n",
       "      <th>Weather condition</th>\n",
       "      <td>Weather condition</td>\n",
       "      <td>object</td>\n",
       "      <td>0</td>\n",
       "      <td>4314</td>\n",
       "      <td>9</td>\n",
       "      <td>Fine + high winds</td>\n",
       "      <td>Unknown</td>\n",
       "    </tr>\n",
       "    <tr>\n",
       "      <th>All casualties</th>\n",
       "      <td>All casualties</td>\n",
       "      <td>int64</td>\n",
       "      <td>0</td>\n",
       "      <td>4314</td>\n",
       "      <td>339</td>\n",
       "      <td>1</td>\n",
       "      <td>1253</td>\n",
       "    </tr>\n",
       "  </tbody>\n",
       "</table>\n",
       "</div>"
      ],
      "text/plain": [
       "                             Nombres Data_Types  Missing_Values  \\\n",
       "Accident year          Accident year      int64               0   \n",
       "Road user                  Road user     object               0   \n",
       "Casualty class        Casualty class     object               0   \n",
       "Casualty age            Casualty age     object               0   \n",
       "Weather condition  Weather condition     object               0   \n",
       "All casualties        All casualties      int64               0   \n",
       "\n",
       "                   Present_Values Unique_Values                Min  \\\n",
       "Accident year                4314             1               2019   \n",
       "Road user                    4314             8       Bus or coach   \n",
       "Casualty class               4314             3    Driver or rider   \n",
       "Casualty age                 4314           103                  0   \n",
       "Weather condition            4314             9  Fine + high winds   \n",
       "All casualties               4314           339                  1   \n",
       "\n",
       "                                                   Max  \n",
       "Accident year                                     2019  \n",
       "Road user          Van / Goods 3.5 tonnes mgw or under  \n",
       "Casualty class                              Pedestrian  \n",
       "Casualty age                        Unknown or missing  \n",
       "Weather condition                              Unknown  \n",
       "All casualties                                    1253  "
      ]
     },
     "execution_count": 25,
     "metadata": {},
     "output_type": "execute_result"
    }
   ],
   "source": [
    "reporte = dqr(tipsd)\n",
    "reporte"
   ]
  },
  {
   "cell_type": "markdown",
   "metadata": {},
   "source": [
    "Este reporte nos indica que contamos con todos los datos de nuestras vaiables, que nuestra variable de road user cuenta con 8 varaibles diferentes que son 8 diferentes tipos de vehiculos, despues vemos que nuestra variable de casualty class tiene tres diferentes valores las cuales nos indica que solo hay tres tipos de personas afectada que iban en el vehiculo y tenemos 103 edades diferentes "
   ]
  },
  {
   "cell_type": "markdown",
   "metadata": {},
   "source": [
    "## Nodo 1 (Clima)"
   ]
  },
  {
   "cell_type": "markdown",
   "metadata": {},
   "source": [
    "- Para empezar con nuestro proyecto analizaremos nuestra variable independiente que es el clima donde primero analizaremos cuales son los diferentes tipos de clima que presenta nuesto problema .\n"
   ]
  },
  {
   "cell_type": "code",
   "execution_count": 31,
   "metadata": {},
   "outputs": [
    {
     "data": {
      "text/plain": [
       "array(['Unknown', 'Fine no high winds', 'Raining no high winds',\n",
       "       'Snowing no high winds', 'Fine + high winds',\n",
       "       'Raining + high winds', 'Other', 'Fog or mist',\n",
       "       'Snowing + high winds'], dtype=object)"
      ]
     },
     "execution_count": 31,
     "metadata": {},
     "output_type": "execute_result"
    }
   ],
   "source": [
    "tipsd.iloc[:,4].unique()"
   ]
  },
  {
   "cell_type": "markdown",
   "metadata": {},
   "source": [
    "- Podemos ver que tenemos 9 climas diferentes en donde se nos presetan un clima \"Unkown\" y \"Other\" los cuales los tomaremos como un clima desconocido o que no se tuvo registro de ellos"
   ]
  },
  {
   "cell_type": "markdown",
   "metadata": {},
   "source": [
    "Para mayor practicidad en el manejo de los datos sustituiremos los valores del clima por numeros, la cual nos quedaria de la siguiente manera: \n",
    "- Unknown = 0\n",
    "- Fine no high winds = 1\n",
    "- Raining no high winds = 2\n",
    "- Snowing no high winds = 3\n",
    "- Fine + high winds = 4\n",
    "- Raining + high winds = 5\n",
    "- Other = 0\n",
    "- Fog or mist = 6\n",
    "- Snowing + high winds = 7\n",
    "\n",
    "Donde Unknown y other lo tomaremos como una misma varibale ya que no se conoce el tipo de clima que habia en esos accidentes. "
   ]
  },
  {
   "cell_type": "code",
   "execution_count": 32,
   "metadata": {},
   "outputs": [
    {
     "data": {
      "text/html": [
       "<div>\n",
       "<style scoped>\n",
       "    .dataframe tbody tr th:only-of-type {\n",
       "        vertical-align: middle;\n",
       "    }\n",
       "\n",
       "    .dataframe tbody tr th {\n",
       "        vertical-align: top;\n",
       "    }\n",
       "\n",
       "    .dataframe thead th {\n",
       "        text-align: right;\n",
       "    }\n",
       "</style>\n",
       "<table border=\"1\" class=\"dataframe\">\n",
       "  <thead>\n",
       "    <tr style=\"text-align: right;\">\n",
       "      <th></th>\n",
       "      <th>Accident year</th>\n",
       "      <th>Road user</th>\n",
       "      <th>Casualty class</th>\n",
       "      <th>Casualty age</th>\n",
       "      <th>Weather_condition</th>\n",
       "      <th>All casualties</th>\n",
       "    </tr>\n",
       "  </thead>\n",
       "  <tbody>\n",
       "    <tr>\n",
       "      <th>0</th>\n",
       "      <td>2019</td>\n",
       "      <td>Pedestrian</td>\n",
       "      <td>Pedestrian</td>\n",
       "      <td>Unknown or missing</td>\n",
       "      <td>0</td>\n",
       "      <td>60</td>\n",
       "    </tr>\n",
       "    <tr>\n",
       "      <th>1</th>\n",
       "      <td>2019</td>\n",
       "      <td>Pedestrian</td>\n",
       "      <td>Pedestrian</td>\n",
       "      <td>Unknown or missing</td>\n",
       "      <td>1</td>\n",
       "      <td>283</td>\n",
       "    </tr>\n",
       "    <tr>\n",
       "      <th>2</th>\n",
       "      <td>2019</td>\n",
       "      <td>Pedestrian</td>\n",
       "      <td>Pedestrian</td>\n",
       "      <td>Unknown or missing</td>\n",
       "      <td>2</td>\n",
       "      <td>37</td>\n",
       "    </tr>\n",
       "    <tr>\n",
       "      <th>3</th>\n",
       "      <td>2019</td>\n",
       "      <td>Pedestrian</td>\n",
       "      <td>Pedestrian</td>\n",
       "      <td>Unknown or missing</td>\n",
       "      <td>3</td>\n",
       "      <td>1</td>\n",
       "    </tr>\n",
       "    <tr>\n",
       "      <th>4</th>\n",
       "      <td>2019</td>\n",
       "      <td>Pedestrian</td>\n",
       "      <td>Pedestrian</td>\n",
       "      <td>Unknown or missing</td>\n",
       "      <td>4</td>\n",
       "      <td>2</td>\n",
       "    </tr>\n",
       "    <tr>\n",
       "      <th>...</th>\n",
       "      <td>...</td>\n",
       "      <td>...</td>\n",
       "      <td>...</td>\n",
       "      <td>...</td>\n",
       "      <td>...</td>\n",
       "      <td>...</td>\n",
       "    </tr>\n",
       "    <tr>\n",
       "      <th>4309</th>\n",
       "      <td>2019</td>\n",
       "      <td>Other vehicle</td>\n",
       "      <td>Passenger</td>\n",
       "      <td>75</td>\n",
       "      <td>1</td>\n",
       "      <td>2</td>\n",
       "    </tr>\n",
       "    <tr>\n",
       "      <th>4310</th>\n",
       "      <td>2019</td>\n",
       "      <td>Other vehicle</td>\n",
       "      <td>Passenger</td>\n",
       "      <td>79</td>\n",
       "      <td>1</td>\n",
       "      <td>2</td>\n",
       "    </tr>\n",
       "    <tr>\n",
       "      <th>4311</th>\n",
       "      <td>2019</td>\n",
       "      <td>Other vehicle</td>\n",
       "      <td>Passenger</td>\n",
       "      <td>80</td>\n",
       "      <td>1</td>\n",
       "      <td>1</td>\n",
       "    </tr>\n",
       "    <tr>\n",
       "      <th>4312</th>\n",
       "      <td>2019</td>\n",
       "      <td>Other vehicle</td>\n",
       "      <td>Passenger</td>\n",
       "      <td>85</td>\n",
       "      <td>2</td>\n",
       "      <td>1</td>\n",
       "    </tr>\n",
       "    <tr>\n",
       "      <th>4313</th>\n",
       "      <td>2019</td>\n",
       "      <td>Other vehicle</td>\n",
       "      <td>Passenger</td>\n",
       "      <td>94</td>\n",
       "      <td>1</td>\n",
       "      <td>1</td>\n",
       "    </tr>\n",
       "  </tbody>\n",
       "</table>\n",
       "<p>4314 rows × 6 columns</p>\n",
       "</div>"
      ],
      "text/plain": [
       "      Accident year      Road user Casualty class        Casualty age  \\\n",
       "0              2019     Pedestrian     Pedestrian  Unknown or missing   \n",
       "1              2019     Pedestrian     Pedestrian  Unknown or missing   \n",
       "2              2019     Pedestrian     Pedestrian  Unknown or missing   \n",
       "3              2019     Pedestrian     Pedestrian  Unknown or missing   \n",
       "4              2019     Pedestrian     Pedestrian  Unknown or missing   \n",
       "...             ...            ...            ...                 ...   \n",
       "4309           2019  Other vehicle      Passenger                  75   \n",
       "4310           2019  Other vehicle      Passenger                  79   \n",
       "4311           2019  Other vehicle      Passenger                  80   \n",
       "4312           2019  Other vehicle      Passenger                  85   \n",
       "4313           2019  Other vehicle      Passenger                  94   \n",
       "\n",
       "      Weather_condition  All casualties  \n",
       "0                     0              60  \n",
       "1                     1             283  \n",
       "2                     2              37  \n",
       "3                     3               1  \n",
       "4                     4               2  \n",
       "...                 ...             ...  \n",
       "4309                  1               2  \n",
       "4310                  1               2  \n",
       "4311                  1               1  \n",
       "4312                  2               1  \n",
       "4313                  1               1  \n",
       "\n",
       "[4314 rows x 6 columns]"
      ]
     },
     "execution_count": 32,
     "metadata": {},
     "output_type": "execute_result"
    }
   ],
   "source": [
    "tipsd=tipsd.rename(columns = {\"Weather condition\":\"Weather_condition\"})\n",
    "tipsd.Weather_condition= tipsd.Weather_condition.apply(replace_text,args=('Unknown','0'))\n",
    "tipsd.Weather_condition= tipsd.Weather_condition.apply(replace_text,args=('Other','0'))\n",
    "tipsd.Weather_condition= tipsd.Weather_condition.apply(replace_text,args=('Fine no high winds','1'))\n",
    "tipsd.Weather_condition= tipsd.Weather_condition.apply(replace_text,args=('Raining no high winds','2'))\n",
    "tipsd.Weather_condition= tipsd.Weather_condition.apply(replace_text,args=('Snowing no high winds','3'))\n",
    "tipsd.Weather_condition= tipsd.Weather_condition.apply(replace_text,args=('Fine + high winds','4'))\n",
    "tipsd.Weather_condition= tipsd.Weather_condition.apply(replace_text,args=('Raining + high winds','5'))\n",
    "tipsd.Weather_condition= tipsd.Weather_condition.apply(replace_text,args=('Fog or mist','6'))\n",
    "tipsd.Weather_condition= tipsd.Weather_condition.apply(replace_text,args=('Snowing + high winds','7'))\n",
    "tipsd.Weather_condition = pd.to_numeric(tipsd.Weather_condition)\n",
    "tipsd"
   ]
  },
  {
   "cell_type": "code",
   "execution_count": null,
   "metadata": {},
   "outputs": [],
   "source": []
  },
  {
   "cell_type": "code",
   "execution_count": 36,
   "metadata": {},
   "outputs": [
    {
     "data": {
      "text/plain": [
       "array([0, 1, 2, ..., 1, 2, 1], dtype=int64)"
      ]
     },
     "execution_count": 36,
     "metadata": {},
     "output_type": "execute_result"
    }
   ],
   "source": [
    "tipsdclim = np.array(tipsd.iloc[:,4])\n",
    "tipsdclim"
   ]
  },
  {
   "cell_type": "code",
   "execution_count": 40,
   "metadata": {},
   "outputs": [
    {
     "data": {
      "image/png": "[encoded data removed]",
      "text/plain": [
       "<Figure size 576x288 with 1 Axes>"
      ]
     },
     "metadata": {
      "needs_background": "light"
     },
     "output_type": "display_data"
    }
   ],
   "source": [
    "plot_histogram_discrete(tipsdclim,'Tipo de Clima', 'Frecuencia', 'Frecuencia de Climas')"
   ]
  },
  {
   "cell_type": "code",
   "execution_count": 45,
   "metadata": {},
   "outputs": [
    {
     "data": {
      "text/plain": [
       "array([0.2431618 , 0.25985165, 0.18196569, 0.05030134, 0.10176171,\n",
       "       0.09851646, 0.05354659, 0.01089476])"
      ]
     },
     "execution_count": 45,
     "metadata": {},
     "output_type": "execute_result"
    }
   ],
   "source": [
    "tipoclim = np.unique(tipsdclim, return_counts=True)[0]\n",
    "freqclim = np.unique(tipsdclim, return_counts=True)[1]\n",
    "probclim = freqclim/len(tipsdclim)\n",
    "probclim"
   ]
  },
  {
   "cell_type": "code",
   "execution_count": 46,
   "metadata": {},
   "outputs": [
    {
     "data": {
      "text/plain": [
       "<BarContainer object of 8 artists>"
      ]
     },
     "execution_count": 46,
     "metadata": {},
     "output_type": "execute_result"
    },
    {
     "data": {
      "image/png": "[encoded data removed]",
      "text/plain": [
       "<Figure size 432x288 with 1 Axes>"
      ]
     },
     "metadata": {
      "needs_background": "light"
     },
     "output_type": "display_data"
    }
   ],
   "source": [
    "plt.bar(tipoclim,probclim)"
   ]
  },
  {
   "cell_type": "code",
   "execution_count": 51,
   "metadata": {},
   "outputs": [
    {
     "data": {
      "text/plain": [
       "array([0, 1, 2, 3, 4, 5, 6, 7])"
      ]
     },
     "execution_count": 51,
     "metadata": {},
     "output_type": "execute_result"
    }
   ],
   "source": [
    "xclim = np.arange(0,8)\n",
    "xclim"
   ]
  },
  {
   "cell_type": "markdown",
   "metadata": {},
   "source": [
    "### Utilizamos Kernel\n",
    "#### - Vamos a generar números aleatorios que distribuyan de la misma forma que nuestra distribución de Probabilidad de Clima"
   ]
  },
  {
   "cell_type": "code",
   "execution_count": 52,
   "metadata": {},
   "outputs": [
    {
     "name": "stderr",
     "output_type": "stream",
     "text": [
      "C:\\Users\\demo\\Anaconda3\\lib\\site-packages\\statsmodels\\nonparametric\\kernel_density.py:158: RuntimeWarning: invalid value encountered in log\n",
      "  L += func(f_i)\n"
     ]
    },
    {
     "data": {
      "image/png": "[encoded data removed]",
      "text/plain": [
       "<Figure size 432x288 with 1 Axes>"
      ]
     },
     "metadata": {
      "needs_background": "light"
     },
     "output_type": "display_data"
    }
   ],
   "source": [
    "kernelclim = kde_statsmodels_m(tipsdclim, xclim, bandwidth=0.2)\n",
    "\n",
    "plt.bar(tipoclim,probclim)\n",
    "plt.plot(xclim, kernelclim)\n",
    "plt.show()"
   ]
  },
  {
   "cell_type": "markdown",
   "metadata": {},
   "source": [
    "### Sacar probabilidad acumulada"
   ]
  },
  {
   "cell_type": "code",
   "execution_count": 53,
   "metadata": {},
   "outputs": [
    {
     "data": {
      "text/plain": [
       "array([0.2431618 , 0.50301344, 0.68497914, 0.73528048, 0.83704219,\n",
       "       0.93555865, 0.98910524, 1.        ])"
      ]
     },
     "execution_count": 53,
     "metadata": {},
     "output_type": "execute_result"
    }
   ],
   "source": [
    "prob_acum=probclim.cumsum()\n",
    "prob_acum"
   ]
  },
  {
   "cell_type": "code",
   "execution_count": 56,
   "metadata": {},
   "outputs": [
    {
     "data": {
      "image/png": "[encoded data removed]",
      "text/plain": [
       "<Figure size 576x288 with 1 Axes>"
      ]
     },
     "metadata": {
      "needs_background": "light"
     },
     "output_type": "display_data"
    }
   ],
   "source": [
    "N = 10**4\n",
    "clim_u = np.random.rand(N)\n",
    "v = Gen_distr_discreta(clim_u, prob_acum)\n",
    "\n",
    "plot_histogram_discrete(v, 'Tipo de Clima', 'Frecuencia', 'Frecuencia de Climas')"
   ]
  },
  {
   "cell_type": "code",
   "execution_count": 65,
   "metadata": {},
   "outputs": [
    {
     "data": {
      "text/plain": [
       "2.0718590635141396"
      ]
     },
     "execution_count": 65,
     "metadata": {},
     "output_type": "execute_result"
    }
   ],
   "source": [
    "miu = [tipoclim[i]*probclim[i] for i in range(len(freqclim))]\n",
    "miu = np.sum(miu)\n",
    "miu"
   ]
  },
  {
   "cell_type": "markdown",
   "metadata": {},
   "source": [
    "### Reducción de Varianza en nuestra distribución"
   ]
  },
  {
   "cell_type": "code",
   "execution_count": 115,
   "metadata": {},
   "outputs": [
    {
     "data": {
      "text/plain": [
       "3.6269"
      ]
     },
     "execution_count": 115,
     "metadata": {},
     "output_type": "execute_result"
    }
   ],
   "source": [
    "#Estratificado\n",
    "N = 10**4\n",
    "u = muestreo_est(N)\n",
    "funcion = lambda u: Gen_distr_discreta(u, prob_acum)+1\n",
    "media = np.mean(funcion(u))\n",
    "media"
   ]
  },
  {
   "cell_type": "code",
   "execution_count": 122,
   "metadata": {},
   "outputs": [
    {
     "data": {
      "text/plain": [
       "3.06595"
      ]
     },
     "execution_count": 122,
     "metadata": {},
     "output_type": "execute_result"
    }
   ],
   "source": [
    "#Método Complementarios\n",
    "aleat = np.random.rand(N)\n",
    "aleat_comp = 1- aleat\n",
    "a = funcion(aleat)\n",
    "a1 = funcion(aleat_comp)\n",
    "mediacomp = (a.mean() + a1.mean())/2\n",
    "mediacomp"
   ]
  },
  {
   "cell_type": "markdown",
   "metadata": {},
   "source": [
    "### Al nosotros estar trabajando con variables cualitativas (como lo podrían ser un tipo de clima),  podemos deducir que el clima donde se presenta el mayor número de accidentes es el 1 (Fine no high winds), por lo cual, rechazamos que el clima influya en los accidentes ocurridos en UK. Y podemos ver que al generar nosotros números aleatorios que distribuyan igual que la distribución de Probabilidad del Clima, seguimos observando que el clima sin viento y normal, es en donde ocurre la mayor parte de los accidentes. Y con base en la media de los datos nos dice que el clima con mayor número de accidentes es el 2, lo cual matemáticamente es correcto pero nosotros ya sabemos que tratamos variables cualitativas, por lo que no está bien esa media en cuanto a lo que sucede en realidad."
   ]
  },
  {
   "cell_type": "markdown",
   "metadata": {},
   "source": [
    "## Nodo 2 (Tipo de vehículo)"
   ]
  },
  {
   "cell_type": "code",
   "execution_count": 14,
   "metadata": {},
   "outputs": [
    {
     "data": {
      "text/plain": [
       "array(['Pedestrian', 'Pedal cycle', 'Motorcycle',\n",
       "       'Car (Includes taxis and minibus)', 'Bus or coach',\n",
       "       'Van / Goods 3.5 tonnes mgw or under', 'HGV', 'Other vehicle'],\n",
       "      dtype=object)"
      ]
     },
     "execution_count": 14,
     "metadata": {},
     "output_type": "execute_result"
    }
   ],
   "source": [
    "tipsd.iloc[:,1].unique()"
   ]
  },
  {
   "cell_type": "code",
   "execution_count": 15,
   "metadata": {},
   "outputs": [],
   "source": [
    "tipsd = tipsd.rename(columns = {\"Road user\": \"Road_User\"})\n"
   ]
  },
  {
   "cell_type": "code",
   "execution_count": 16,
   "metadata": {},
   "outputs": [
    {
     "data": {
      "text/html": [
       "<div>\n",
       "<style scoped>\n",
       "    .dataframe tbody tr th:only-of-type {\n",
       "        vertical-align: middle;\n",
       "    }\n",
       "\n",
       "    .dataframe tbody tr th {\n",
       "        vertical-align: top;\n",
       "    }\n",
       "\n",
       "    .dataframe thead th {\n",
       "        text-align: right;\n",
       "    }\n",
       "</style>\n",
       "<table border=\"1\" class=\"dataframe\">\n",
       "  <thead>\n",
       "    <tr style=\"text-align: right;\">\n",
       "      <th></th>\n",
       "      <th>Accident year</th>\n",
       "      <th>Road_User</th>\n",
       "      <th>Casualty class</th>\n",
       "      <th>Casualty age</th>\n",
       "      <th>Weather_condition</th>\n",
       "      <th>All casualties</th>\n",
       "    </tr>\n",
       "  </thead>\n",
       "  <tbody>\n",
       "    <tr>\n",
       "      <th>0</th>\n",
       "      <td>2019</td>\n",
       "      <td>0</td>\n",
       "      <td>Pedestrian</td>\n",
       "      <td>Unknown or missing</td>\n",
       "      <td>0</td>\n",
       "      <td>60</td>\n",
       "    </tr>\n",
       "    <tr>\n",
       "      <th>1</th>\n",
       "      <td>2019</td>\n",
       "      <td>0</td>\n",
       "      <td>Pedestrian</td>\n",
       "      <td>Unknown or missing</td>\n",
       "      <td>1</td>\n",
       "      <td>283</td>\n",
       "    </tr>\n",
       "    <tr>\n",
       "      <th>2</th>\n",
       "      <td>2019</td>\n",
       "      <td>0</td>\n",
       "      <td>Pedestrian</td>\n",
       "      <td>Unknown or missing</td>\n",
       "      <td>2</td>\n",
       "      <td>37</td>\n",
       "    </tr>\n",
       "    <tr>\n",
       "      <th>3</th>\n",
       "      <td>2019</td>\n",
       "      <td>0</td>\n",
       "      <td>Pedestrian</td>\n",
       "      <td>Unknown or missing</td>\n",
       "      <td>3</td>\n",
       "      <td>1</td>\n",
       "    </tr>\n",
       "    <tr>\n",
       "      <th>4</th>\n",
       "      <td>2019</td>\n",
       "      <td>0</td>\n",
       "      <td>Pedestrian</td>\n",
       "      <td>Unknown or missing</td>\n",
       "      <td>4</td>\n",
       "      <td>2</td>\n",
       "    </tr>\n",
       "    <tr>\n",
       "      <th>...</th>\n",
       "      <td>...</td>\n",
       "      <td>...</td>\n",
       "      <td>...</td>\n",
       "      <td>...</td>\n",
       "      <td>...</td>\n",
       "      <td>...</td>\n",
       "    </tr>\n",
       "    <tr>\n",
       "      <th>4309</th>\n",
       "      <td>2019</td>\n",
       "      <td>7</td>\n",
       "      <td>Passenger</td>\n",
       "      <td>75</td>\n",
       "      <td>1</td>\n",
       "      <td>2</td>\n",
       "    </tr>\n",
       "    <tr>\n",
       "      <th>4310</th>\n",
       "      <td>2019</td>\n",
       "      <td>7</td>\n",
       "      <td>Passenger</td>\n",
       "      <td>79</td>\n",
       "      <td>1</td>\n",
       "      <td>2</td>\n",
       "    </tr>\n",
       "    <tr>\n",
       "      <th>4311</th>\n",
       "      <td>2019</td>\n",
       "      <td>7</td>\n",
       "      <td>Passenger</td>\n",
       "      <td>80</td>\n",
       "      <td>1</td>\n",
       "      <td>1</td>\n",
       "    </tr>\n",
       "    <tr>\n",
       "      <th>4312</th>\n",
       "      <td>2019</td>\n",
       "      <td>7</td>\n",
       "      <td>Passenger</td>\n",
       "      <td>85</td>\n",
       "      <td>2</td>\n",
       "      <td>1</td>\n",
       "    </tr>\n",
       "    <tr>\n",
       "      <th>4313</th>\n",
       "      <td>2019</td>\n",
       "      <td>7</td>\n",
       "      <td>Passenger</td>\n",
       "      <td>94</td>\n",
       "      <td>1</td>\n",
       "      <td>1</td>\n",
       "    </tr>\n",
       "  </tbody>\n",
       "</table>\n",
       "<p>4314 rows × 6 columns</p>\n",
       "</div>"
      ],
      "text/plain": [
       "      Accident year Road_User Casualty class        Casualty age  \\\n",
       "0              2019         0     Pedestrian  Unknown or missing   \n",
       "1              2019         0     Pedestrian  Unknown or missing   \n",
       "2              2019         0     Pedestrian  Unknown or missing   \n",
       "3              2019         0     Pedestrian  Unknown or missing   \n",
       "4              2019         0     Pedestrian  Unknown or missing   \n",
       "...             ...       ...            ...                 ...   \n",
       "4309           2019         7      Passenger                  75   \n",
       "4310           2019         7      Passenger                  79   \n",
       "4311           2019         7      Passenger                  80   \n",
       "4312           2019         7      Passenger                  85   \n",
       "4313           2019         7      Passenger                  94   \n",
       "\n",
       "      Weather_condition  All casualties  \n",
       "0                     0              60  \n",
       "1                     1             283  \n",
       "2                     2              37  \n",
       "3                     3               1  \n",
       "4                     4               2  \n",
       "...                 ...             ...  \n",
       "4309                  1               2  \n",
       "4310                  1               2  \n",
       "4311                  1               1  \n",
       "4312                  2               1  \n",
       "4313                  1               1  \n",
       "\n",
       "[4314 rows x 6 columns]"
      ]
     },
     "execution_count": 16,
     "metadata": {},
     "output_type": "execute_result"
    }
   ],
   "source": [
    "tipsd.Road_User= tipsd.Road_User.apply(replace_text,args=('Pedestrian','0'))\n",
    "tipsd.Road_User= tipsd.Road_User.apply(replace_text,args=('Pedal cycle','1'))\n",
    "tipsd.Road_User= tipsd.Road_User.apply(replace_text,args=('Motorcycle','2'))\n",
    "tipsd.Road_User= tipsd.Road_User.apply(replace_text,args=('(','3'))\n",
    "tipsd.Road_User= tipsd.Road_User.apply(replace_text,args=('Bus or Coach','4'))\n",
    "tipsd.Road_User= tipsd.Road_User.apply(replace_text,args=('Van / Goods 3.5 tonnes mgw or under','5'))\n",
    "tipsd.Road_User= tipsd.Road_User.apply(replace_text,args=('HGV','6'))\n",
    "tipsd.Road_User= tipsd.Road_User.apply(replace_text,args=('Other vehicle','7'))\n",
    "tipsd.iloc[:,1]= tipsd.iloc[:,1].replace('Car (Includes taxis and minibus)','3')\n",
    "#tipsd[tipsd[\"Road_User\"] == \"3\"]\n",
    "tipsd"
   ]
  },
  {
   "cell_type": "code",
   "execution_count": 17,
   "metadata": {},
   "outputs": [
    {
     "data": {
      "text/plain": [
       "(array([0.16663355, 0.13484337, 0.13696271, 0.33565137, 0.10808663,\n",
       "        0.12610107, 0.05616266, 0.07841579]),\n",
       " array([0.   , 0.875, 1.75 , 2.625, 3.5  , 4.375, 5.25 , 6.125, 7.   ]),\n",
       " <BarContainer object of 8 artists>)"
      ]
     },
     "execution_count": 17,
     "metadata": {},
     "output_type": "execute_result"
    },
    {
     "data": {
      "image/png": "[encoded data removed]",
      "text/plain": [
       "<Figure size 432x288 with 1 Axes>"
      ]
     },
     "metadata": {
      "needs_background": "light"
     },
     "output_type": "display_data"
    }
   ],
   "source": [
    "plt.hist(tipsd.iloc[:,1], bins=8, density=True)"
   ]
  },
  {
   "cell_type": "markdown",
   "metadata": {},
   "source": [
    "### 1.7 Visualización de resultados de simulación.\n",
    "> Se deben simular al menos 4  \"nodos\" o \"escenarios\" en tu problema. Para la segunda entrega debes haber elaborado un programa que simule dos de ellos, los primeros dos de tu diagrama.\n",
    "> Para la entrega final deben de tener los 4 nodos con todas sus simulaciones.\n",
    "\n",
    "### 1.6 Conclusiones.\n",
    "> Mucho cuidado, las conclusiones no son cualquier cosa. Se debe concluir respecto a los objetivos planteados de acuerdo a los resultados obtenidos.\n",
    "\n",
    "### 1.7 Referencias.\n",
    "\n",
    "- Gov Uk. (2020). Road Safety Data . Octubre 19, 2020, de gov.uk Sitio web: https://data.gov.uk/dataset/cb7ae6f0-4be6-4935-9277-47e5ce24a11f/road-safety-data\n",
    "\n",
    "-  Department for Transport. (2020). Reported road casualties in Great Britain: provisional results 2019. Octubre 19, 2020, de Department for Transport Sitio web: https://assets.publishing.service.gov.uk/government/uploads/system/uploads/attachment_data/file/904698/rrcgb-provisional-results-2019.pdf"
   ]
  },
  {
   "cell_type": "markdown",
   "metadata": {},
   "source": [
    "___\n",
    "## 2. Especificaciones adicionales.\n",
    "En el grupo deben haber mínimo dos integrantes y máximo tres integrantes. Para propósitos logísticos nada más, por favor enumérense como *integrante 1*, *integrante 2* e *integrante 3*.\n",
    "\n",
    "### 2.1 Notebook de jupyter. \n",
    "> Los anteriores numerales los deben desarrollar todos en un notebook de jupyter y llamarlo de la siguiente manera `ProyectoModulo1_ApellidoN1_ApellidoN2_ApellidoN3`, donde `ApellidoNi` hace referencia al apellido materno y la inicial del primer nombre del integrante `i`.\n",
    "\n",
    "### 2.2 Proyecto en `GitHub`.\n",
    "> El integrante 1 deberá crear un proyecto en `GitHub` llamado **proyecto_modulo1**, donde tendrán todos los archivos relacionados con el proyecto. Los demás integrantes deben hacer un *fork* del proyecto, seguir el proyecto principal con `GitKraken` y hacer al menos dos contribuciones con *pull request* (como se hizo en la tarea). En el proyecto, deben incluir el repositorio remoto del integrante 1.\n",
    "\n",
    "### 2.3 Presentación.\n",
    "> Recuerden que la nota del proyecto es mitad el trabajo, y mitad la presentación. Deben hacer una presentación ya sea en power point o utlizando un notebook de python para presentar el trabajo durante un horario de clase que se será posteriomente definido. La presentación, además de llevar todos los componentes básicos descritos en el entregable, debe llevar una tabla de contenido.\n",
    "> - Presentación: 10 minutos.\n",
    "> - Seguir estas recomendaciones: https://es.slideshare.net/MeireComputacion/power-point-pautas-para-una-buen-trabajo"
   ]
  },
  {
   "cell_type": "markdown",
   "metadata": {},
   "source": [
    "<script>\n",
    "  $(document).ready(function(){\n",
    "    $('div.prompt').hide();\n",
    "    $('div.back-to-top').hide();\n",
    "    $('nav#menubar').hide();\n",
    "    $('.breadcrumb').hide();\n",
    "    $('.hidden-print').hide();\n",
    "  });\n",
    "</script>\n",
    "\n",
    "<footer id=\"attribution\" style=\"float:right; color:#808080; background:#fff;\">\n",
    "Created with Jupyter by Esteban Jiménez Rodríguez.\n",
    "</footer>"
   ]
  }
 ],
 "metadata": {
  "kernelspec": {
   "display_name": "Python 3",
   "language": "python",
   "name": "python3"
  },
  "language_info": {
   "codemirror_mode": {
    "name": "ipython",
    "version": 3
   },
   "file_extension": ".py",
   "mimetype": "text/x-python",
   "name": "python",
   "nbconvert_exporter": "python",
   "pygments_lexer": "ipython3",
   "version": "3.7.1"
  }
 },
 "nbformat": 4,
 "nbformat_minor": 2
}
